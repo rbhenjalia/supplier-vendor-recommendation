{
 "cells": [
  {
   "cell_type": "code",
   "execution_count": 1,
   "metadata": {},
   "outputs": [],
   "source": [
    "import pandas as pd\n",
    "import numpy as np\n",
    "import matplotlib.pyplot as plt\n",
    "import seaborn as sns\n",
    "import ast\n",
    "from ast import literal_eval\n",
    "from collections import defaultdict\n",
    "%matplotlib inline\n",
    "import random\n",
    "from sklearn.preprocessing import MinMaxScaler\n"
   ]
  },
  {
   "cell_type": "code",
   "execution_count": 2,
   "metadata": {},
   "outputs": [
    {
     "data": {
      "text/html": [
       "<div>\n",
       "<style scoped>\n",
       "    .dataframe tbody tr th:only-of-type {\n",
       "        vertical-align: middle;\n",
       "    }\n",
       "\n",
       "    .dataframe tbody tr th {\n",
       "        vertical-align: top;\n",
       "    }\n",
       "\n",
       "    .dataframe thead th {\n",
       "        text-align: right;\n",
       "    }\n",
       "</style>\n",
       "<table border=\"1\" class=\"dataframe\">\n",
       "  <thead>\n",
       "    <tr style=\"text-align: right;\">\n",
       "      <th></th>\n",
       "      <th>Product</th>\n",
       "      <th>Price</th>\n",
       "      <th>Count</th>\n",
       "      <th>FeedBack_Rating</th>\n",
       "      <th>Courier_Rating</th>\n",
       "      <th>Product_Rating</th>\n",
       "      <th>Packaging_Rating</th>\n",
       "      <th>ALL OVER</th>\n",
       "    </tr>\n",
       "  </thead>\n",
       "  <tbody>\n",
       "    <tr>\n",
       "      <th>0</th>\n",
       "      <td>\" ROCKY \" 60 Lt Grey Rucksack I Hiking backpack</td>\n",
       "      <td>True</td>\n",
       "      <td>True</td>\n",
       "      <td>True</td>\n",
       "      <td>True</td>\n",
       "      <td>True</td>\n",
       "      <td>True</td>\n",
       "      <td>False</td>\n",
       "    </tr>\n",
       "    <tr>\n",
       "      <th>1</th>\n",
       "      <td>\" ROCKY \" 60 Lt Royal Rucksack I Hiking backpack</td>\n",
       "      <td>True</td>\n",
       "      <td>True</td>\n",
       "      <td>True</td>\n",
       "      <td>True</td>\n",
       "      <td>True</td>\n",
       "      <td>True</td>\n",
       "      <td>True</td>\n",
       "    </tr>\n",
       "    <tr>\n",
       "      <th>2</th>\n",
       "      <td>\"HERO\" 32 Lt Pink Brown Casual Backpack I bagpack</td>\n",
       "      <td>True</td>\n",
       "      <td>True</td>\n",
       "      <td>True</td>\n",
       "      <td>True</td>\n",
       "      <td>True</td>\n",
       "      <td>True</td>\n",
       "      <td>True</td>\n",
       "    </tr>\n",
       "    <tr>\n",
       "      <th>3</th>\n",
       "      <td>\"HERO\" 32 Lt Sky &amp; Navy Casual Backpack I bagpack</td>\n",
       "      <td>True</td>\n",
       "      <td>True</td>\n",
       "      <td>True</td>\n",
       "      <td>True</td>\n",
       "      <td>True</td>\n",
       "      <td>True</td>\n",
       "      <td>True</td>\n",
       "    </tr>\n",
       "    <tr>\n",
       "      <th>4</th>\n",
       "      <td>\"TREK 44 Lt Blue grey Rucksack I Hiking backpack</td>\n",
       "      <td>True</td>\n",
       "      <td>True</td>\n",
       "      <td>True</td>\n",
       "      <td>True</td>\n",
       "      <td>True</td>\n",
       "      <td>True</td>\n",
       "      <td>True</td>\n",
       "    </tr>\n",
       "  </tbody>\n",
       "</table>\n",
       "</div>"
      ],
      "text/plain": [
       "                                             Product  Price  Count  \\\n",
       "0    \" ROCKY \" 60 Lt Grey Rucksack I Hiking backpack   True   True   \n",
       "1   \" ROCKY \" 60 Lt Royal Rucksack I Hiking backpack   True   True   \n",
       "2  \"HERO\" 32 Lt Pink Brown Casual Backpack I bagpack   True   True   \n",
       "3  \"HERO\" 32 Lt Sky & Navy Casual Backpack I bagpack   True   True   \n",
       "4   \"TREK 44 Lt Blue grey Rucksack I Hiking backpack   True   True   \n",
       "\n",
       "   FeedBack_Rating  Courier_Rating  Product_Rating  Packaging_Rating  ALL OVER  \n",
       "0             True            True            True              True     False  \n",
       "1             True            True            True              True      True  \n",
       "2             True            True            True              True      True  \n",
       "3             True            True            True              True      True  \n",
       "4             True            True            True              True      True  "
      ]
     },
     "execution_count": 2,
     "metadata": {},
     "output_type": "execute_result"
    }
   ],
   "source": [
    "product = pd.read_csv('D:/DST/BestSellers_Product_Wise.csv')\n",
    "product = product[['Product', 'Price', 'Count', 'FeedBack_Rating','Courier_Rating', 'Product_Rating', 'Packaging_Rating','ALL OVER']]\n",
    "brand = pd.read_csv('D:/DST/BestSellers_Brand_Wise.csv')\n",
    "brand = brand[['Brand',  'Price', 'Count','FeedBack_Rating','Courier_Rating', 'Product_Rating','Packaging_Rating','ALL OVER']]\n",
    "data = pd.read_csv('D:/DST/FinalData.csv')\n",
    "data = data[['Product', 'Brand']]\n",
    "drt = brand.merge(data,how='left')\n",
    "drt = drt.drop_duplicates(keep=\"first\")\n",
    "drt = drt[['Product','Price', 'Count', 'FeedBack_Rating', 'Courier_Rating','Product_Rating', 'Packaging_Rating', 'ALL OVER']]\n",
    "drt = drt.sort_values(by='Product')\n",
    "product = product.sort_values(by='Product')\n",
    "\n",
    "rr = pd.merge(product,drt, on=['Product'])\n",
    "\n",
    "lis = ['Price', 'Count', 'FeedBack_Rating', 'Courier_Rating','Product_Rating', 'Packaging_Rating', 'ALL OVER']\n",
    "\n",
    "for item in lis:\n",
    "    x = item + '_x'\n",
    "    y = item + '_y'\n",
    "    rr[item] = rr[x] == rr[y]\n",
    "    \n",
    "rr = rr[['Product','Price', 'Count', 'FeedBack_Rating','Courier_Rating', 'Product_Rating', 'Packaging_Rating', 'ALL OVER']]\n",
    "\n",
    "rr.head()"
   ]
  },
  {
   "cell_type": "code",
   "execution_count": 3,
   "metadata": {},
   "outputs": [
    {
     "data": {
      "text/plain": [
       "(2267, 7)"
      ]
     },
     "execution_count": 3,
     "metadata": {},
     "output_type": "execute_result"
    }
   ],
   "source": [
    "dataSet = rr[['Price', 'Count', 'FeedBack_Rating','Courier_Rating', 'Product_Rating', 'Packaging_Rating', 'ALL OVER']]\n",
    "dataSet.shape"
   ]
  },
  {
   "cell_type": "code",
   "execution_count": 4,
   "metadata": {},
   "outputs": [
    {
     "name": "stdout",
     "output_type": "stream",
     "text": [
      "              precision    recall  f1-score   support\n",
      "\n",
      "           0       0.78      0.74      0.76       226\n",
      "           1       0.88      0.89      0.88       455\n",
      "\n",
      "   micro avg       0.84      0.84      0.84       681\n",
      "   macro avg       0.83      0.82      0.82       681\n",
      "weighted avg       0.84      0.84      0.84       681\n",
      "\n",
      "[[168  58]\n",
      " [ 48 407]]\n"
     ]
    },
    {
     "name": "stderr",
     "output_type": "stream",
     "text": [
      "C:\\Users\\Rahlsesite\\Anaconda3\\lib\\site-packages\\sklearn\\linear_model\\logistic.py:433: FutureWarning: Default solver will be changed to 'lbfgs' in 0.22. Specify a solver to silence this warning.\n",
      "  FutureWarning)\n",
      "C:\\Users\\Rahlsesite\\Anaconda3\\lib\\site-packages\\sklearn\\utils\\validation.py:761: DataConversionWarning: A column-vector y was passed when a 1d array was expected. Please change the shape of y to (n_samples, ), for example using ravel().\n",
      "  y = column_or_1d(y, warn=True)\n"
     ]
    }
   ],
   "source": [
    "from sklearn.model_selection import train_test_split\n",
    "X = dataSet[['Price', 'Count','FeedBack_Rating','Courier_Rating', 'Product_Rating', 'Packaging_Rating']].astype(int)\n",
    "Y = dataSet[['ALL OVER']].astype(int)\n",
    "\n",
    "X_train, X_test, Y_train, Y_test = train_test_split(X, Y, test_size=0.3, random_state=42)\n",
    "\n",
    "from sklearn.linear_model import LogisticRegression\n",
    "lm = LogisticRegression()\n",
    "lm.fit(X_train,Y_train)\n",
    "pred = lm.predict(X_test)\n",
    "from sklearn.metrics import classification_report,confusion_matrix\n",
    "print(classification_report(Y_test,pred))\n",
    "print(confusion_matrix(Y_test,pred))"
   ]
  },
  {
   "cell_type": "code",
   "execution_count": 5,
   "metadata": {},
   "outputs": [
    {
     "data": {
      "text/html": [
       "<div>\n",
       "<style scoped>\n",
       "    .dataframe tbody tr th:only-of-type {\n",
       "        vertical-align: middle;\n",
       "    }\n",
       "\n",
       "    .dataframe tbody tr th {\n",
       "        vertical-align: top;\n",
       "    }\n",
       "\n",
       "    .dataframe thead th {\n",
       "        text-align: right;\n",
       "    }\n",
       "</style>\n",
       "<table border=\"1\" class=\"dataframe\">\n",
       "  <thead>\n",
       "    <tr style=\"text-align: right;\">\n",
       "      <th></th>\n",
       "      <th>Product</th>\n",
       "      <th>Price</th>\n",
       "      <th>Count</th>\n",
       "      <th>FeedBack_Rating</th>\n",
       "      <th>Courier_Rating</th>\n",
       "      <th>Product_Rating</th>\n",
       "      <th>Packaging_Rating</th>\n",
       "      <th>ALL OVER</th>\n",
       "    </tr>\n",
       "  </thead>\n",
       "  <tbody>\n",
       "    <tr>\n",
       "      <th>0</th>\n",
       "      <td>\" ROCKY \" 60 Lt Grey Rucksack I Hiking backpack</td>\n",
       "      <td>True</td>\n",
       "      <td>True</td>\n",
       "      <td>True</td>\n",
       "      <td>True</td>\n",
       "      <td>True</td>\n",
       "      <td>True</td>\n",
       "      <td>False</td>\n",
       "    </tr>\n",
       "    <tr>\n",
       "      <th>1</th>\n",
       "      <td>\" ROCKY \" 60 Lt Royal Rucksack I Hiking backpack</td>\n",
       "      <td>True</td>\n",
       "      <td>True</td>\n",
       "      <td>True</td>\n",
       "      <td>True</td>\n",
       "      <td>True</td>\n",
       "      <td>True</td>\n",
       "      <td>False</td>\n",
       "    </tr>\n",
       "    <tr>\n",
       "      <th>2</th>\n",
       "      <td>\"HERO\" 32 Lt Pink Brown Casual Backpack I bagpack</td>\n",
       "      <td>False</td>\n",
       "      <td>False</td>\n",
       "      <td>False</td>\n",
       "      <td>False</td>\n",
       "      <td>False</td>\n",
       "      <td>False</td>\n",
       "      <td>False</td>\n",
       "    </tr>\n",
       "    <tr>\n",
       "      <th>3</th>\n",
       "      <td>\"HERO\" 32 Lt Pink Brown Casual Backpack I bagpack</td>\n",
       "      <td>False</td>\n",
       "      <td>False</td>\n",
       "      <td>False</td>\n",
       "      <td>False</td>\n",
       "      <td>False</td>\n",
       "      <td>False</td>\n",
       "      <td>False</td>\n",
       "    </tr>\n",
       "    <tr>\n",
       "      <th>4</th>\n",
       "      <td>\"HERO\" 32 Lt Sky &amp; Navy Casual Backpack I bagpack</td>\n",
       "      <td>False</td>\n",
       "      <td>False</td>\n",
       "      <td>False</td>\n",
       "      <td>False</td>\n",
       "      <td>False</td>\n",
       "      <td>False</td>\n",
       "      <td>False</td>\n",
       "    </tr>\n",
       "  </tbody>\n",
       "</table>\n",
       "</div>"
      ],
      "text/plain": [
       "                                             Product  Price  Count  \\\n",
       "0    \" ROCKY \" 60 Lt Grey Rucksack I Hiking backpack   True   True   \n",
       "1   \" ROCKY \" 60 Lt Royal Rucksack I Hiking backpack   True   True   \n",
       "2  \"HERO\" 32 Lt Pink Brown Casual Backpack I bagpack  False  False   \n",
       "3  \"HERO\" 32 Lt Pink Brown Casual Backpack I bagpack  False  False   \n",
       "4  \"HERO\" 32 Lt Sky & Navy Casual Backpack I bagpack  False  False   \n",
       "\n",
       "   FeedBack_Rating  Courier_Rating  Product_Rating  Packaging_Rating  ALL OVER  \n",
       "0             True            True            True              True     False  \n",
       "1             True            True            True              True     False  \n",
       "2            False           False           False             False     False  \n",
       "3            False           False           False             False     False  \n",
       "4            False           False           False             False     False  "
      ]
     },
     "execution_count": 5,
     "metadata": {},
     "output_type": "execute_result"
    }
   ],
   "source": [
    "product = pd.read_csv('D:/DST/BestSellers_Product_Wise.csv')\n",
    "product = product[['Product', 'Price', 'Count', 'FeedBack_Rating','Courier_Rating', 'Product_Rating', 'Packaging_Rating','ALL OVER']]\n",
    "brand = pd.read_csv('D:/DST/BestSellers_Category_Wise.csv')\n",
    "brand = brand[['MultiLink',  'Price', 'Count','FeedBack_Rating','Courier_Rating', 'Product_Rating','Packaging_Rating','ALL OVER']]\n",
    "data = pd.read_csv('D:/DST/FinalData.csv')\n",
    "data = data[['Product', 'MultiLink']]\n",
    "drt = brand.merge(data,how='left')\n",
    "drt = drt.drop_duplicates(keep=\"first\")\n",
    "drt = drt[['Product','Price', 'Count', 'FeedBack_Rating', 'Courier_Rating','Product_Rating', 'Packaging_Rating', 'ALL OVER']]\n",
    "drt = drt.sort_values(by='Product')\n",
    "product = product.sort_values(by='Product')\n",
    "\n",
    "rr = pd.merge(product,drt, on=['Product'])\n",
    "\n",
    "lis = ['Price', 'Count', 'FeedBack_Rating', 'Courier_Rating','Product_Rating', 'Packaging_Rating', 'ALL OVER']\n",
    "\n",
    "for item in lis:\n",
    "    x = item + '_x'\n",
    "    y = item + '_y'\n",
    "    rr[item] = rr[x] == rr[y]\n",
    "    \n",
    "rr = rr[['Product','Price', 'Count', 'FeedBack_Rating','Courier_Rating', 'Product_Rating', 'Packaging_Rating', 'ALL OVER']]\n",
    "\n",
    "rr.head()"
   ]
  },
  {
   "cell_type": "code",
   "execution_count": 6,
   "metadata": {},
   "outputs": [
    {
     "data": {
      "text/plain": [
       "(2294, 7)"
      ]
     },
     "execution_count": 6,
     "metadata": {},
     "output_type": "execute_result"
    }
   ],
   "source": [
    "dataSet = rr[['Price', 'Count', 'FeedBack_Rating','Courier_Rating', 'Product_Rating', 'Packaging_Rating', 'ALL OVER']]\n",
    "dataSet.shape"
   ]
  },
  {
   "cell_type": "code",
   "execution_count": null,
   "metadata": {},
   "outputs": [],
   "source": []
  },
  {
   "cell_type": "code",
   "execution_count": 7,
   "metadata": {},
   "outputs": [
    {
     "name": "stdout",
     "output_type": "stream",
     "text": [
      "              precision    recall  f1-score   support\n",
      "\n",
      "           0       0.87      0.94      0.90       499\n",
      "           1       0.79      0.62      0.70       190\n",
      "\n",
      "   micro avg       0.85      0.85      0.85       689\n",
      "   macro avg       0.83      0.78      0.80       689\n",
      "weighted avg       0.85      0.85      0.84       689\n",
      "\n",
      "[[468  31]\n",
      " [ 72 118]]\n"
     ]
    },
    {
     "name": "stderr",
     "output_type": "stream",
     "text": [
      "C:\\Users\\Rahlsesite\\Anaconda3\\lib\\site-packages\\sklearn\\linear_model\\logistic.py:433: FutureWarning: Default solver will be changed to 'lbfgs' in 0.22. Specify a solver to silence this warning.\n",
      "  FutureWarning)\n",
      "C:\\Users\\Rahlsesite\\Anaconda3\\lib\\site-packages\\sklearn\\utils\\validation.py:761: DataConversionWarning: A column-vector y was passed when a 1d array was expected. Please change the shape of y to (n_samples, ), for example using ravel().\n",
      "  y = column_or_1d(y, warn=True)\n"
     ]
    }
   ],
   "source": [
    "from sklearn.model_selection import train_test_split\n",
    "X = dataSet[['Price', 'Count','FeedBack_Rating','Courier_Rating', 'Product_Rating', 'Packaging_Rating']].astype(int)\n",
    "Y = dataSet[['ALL OVER']].astype(int)\n",
    "\n",
    "X_train, X_test, Y_train, Y_test = train_test_split(X, Y, test_size=0.3, random_state=42)\n",
    "\n",
    "from sklearn.linear_model import LogisticRegression\n",
    "lm = LogisticRegression()\n",
    "lm.fit(X_train,Y_train)\n",
    "pred = lm.predict(X_test)\n",
    "from sklearn.metrics import classification_report,confusion_matrix\n",
    "print(classification_report(Y_test,pred))\n",
    "print(confusion_matrix(Y_test,pred))"
   ]
  },
  {
   "cell_type": "code",
   "execution_count": null,
   "metadata": {},
   "outputs": [],
   "source": []
  },
  {
   "cell_type": "code",
   "execution_count": 13,
   "metadata": {},
   "outputs": [],
   "source": []
  },
  {
   "cell_type": "code",
   "execution_count": null,
   "metadata": {},
   "outputs": [],
   "source": []
  },
  {
   "cell_type": "code",
   "execution_count": null,
   "metadata": {},
   "outputs": [],
   "source": []
  },
  {
   "cell_type": "code",
   "execution_count": null,
   "metadata": {},
   "outputs": [],
   "source": []
  },
  {
   "cell_type": "code",
   "execution_count": null,
   "metadata": {},
   "outputs": [],
   "source": []
  },
  {
   "cell_type": "code",
   "execution_count": null,
   "metadata": {},
   "outputs": [],
   "source": []
  },
  {
   "cell_type": "code",
   "execution_count": null,
   "metadata": {},
   "outputs": [],
   "source": []
  },
  {
   "cell_type": "code",
   "execution_count": null,
   "metadata": {},
   "outputs": [],
   "source": []
  },
  {
   "cell_type": "code",
   "execution_count": null,
   "metadata": {},
   "outputs": [],
   "source": []
  },
  {
   "cell_type": "code",
   "execution_count": null,
   "metadata": {},
   "outputs": [],
   "source": []
  },
  {
   "cell_type": "code",
   "execution_count": null,
   "metadata": {},
   "outputs": [],
   "source": []
  }
 ],
 "metadata": {
  "kernelspec": {
   "display_name": "Python 3",
   "language": "python",
   "name": "python3"
  },
  "language_info": {
   "codemirror_mode": {
    "name": "ipython",
    "version": 3
   },
   "file_extension": ".py",
   "mimetype": "text/x-python",
   "name": "python",
   "nbconvert_exporter": "python",
   "pygments_lexer": "ipython3",
   "version": "3.7.1"
  }
 },
 "nbformat": 4,
 "nbformat_minor": 2
}
