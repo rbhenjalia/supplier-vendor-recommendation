{
 "cells": [
  {
   "cell_type": "code",
   "execution_count": 5,
   "metadata": {},
   "outputs": [
    {
     "data": {
      "text/html": [
       "<div>\n",
       "<style scoped>\n",
       "    .dataframe tbody tr th:only-of-type {\n",
       "        vertical-align: middle;\n",
       "    }\n",
       "\n",
       "    .dataframe tbody tr th {\n",
       "        vertical-align: top;\n",
       "    }\n",
       "\n",
       "    .dataframe thead th {\n",
       "        text-align: right;\n",
       "    }\n",
       "</style>\n",
       "<table border=\"1\" class=\"dataframe\">\n",
       "  <thead>\n",
       "    <tr style=\"text-align: right;\">\n",
       "      <th></th>\n",
       "      <th>Product</th>\n",
       "      <th>Price</th>\n",
       "      <th>Count</th>\n",
       "      <th>Buyer_FeedBack</th>\n",
       "      <th>Courier_Rating</th>\n",
       "      <th>Product_Rating</th>\n",
       "      <th>Packaging_Rating</th>\n",
       "      <th>ALL OVER</th>\n",
       "    </tr>\n",
       "  </thead>\n",
       "  <tbody>\n",
       "    <tr>\n",
       "      <th>0</th>\n",
       "      <td>Voltas 1 Ton 3 Star Split AC (Copper, 123 CZA,...</td>\n",
       "      <td>Cloudtail India</td>\n",
       "      <td>Cloudtail India</td>\n",
       "      <td>Cloudtail India</td>\n",
       "      <td>BEST HOME RETAIL</td>\n",
       "      <td>BEST HOME RETAIL</td>\n",
       "      <td>Cloudtail India</td>\n",
       "      <td>Cloudtail India</td>\n",
       "    </tr>\n",
       "    <tr>\n",
       "      <th>1</th>\n",
       "      <td>Fleejost HD Video/Audio Hidden Recording, HD S...</td>\n",
       "      <td>EagleElectronics</td>\n",
       "      <td>E-commerce Planet</td>\n",
       "      <td>IndiaMart Electronics®</td>\n",
       "      <td>IndiaMart Electronics®</td>\n",
       "      <td>EagleElectronics</td>\n",
       "      <td>ElectronicsArtGalleryEAG®</td>\n",
       "      <td>IndiaMart Electronics®</td>\n",
       "    </tr>\n",
       "    <tr>\n",
       "      <th>2</th>\n",
       "      <td>YI Home Camera Wireless IP Security Surveillan...</td>\n",
       "      <td>YI Technology Private Limited</td>\n",
       "      <td>eTrade Marketing P Ltd</td>\n",
       "      <td>Appario Retail Private Ltd</td>\n",
       "      <td>YI Technology Private Limited</td>\n",
       "      <td>HelloYehlo</td>\n",
       "      <td>Appario Retail Private Ltd</td>\n",
       "      <td>YI Technology Private Limited</td>\n",
       "    </tr>\n",
       "    <tr>\n",
       "      <th>3</th>\n",
       "      <td>ProElite IP01A WiFi Wireless HD IP Security Ca...</td>\n",
       "      <td>Appario Retail Private Ltd</td>\n",
       "      <td>Elites Accessories</td>\n",
       "      <td>Appario Retail Private Ltd</td>\n",
       "      <td>Appario Retail Private Ltd</td>\n",
       "      <td>Elites Accessories</td>\n",
       "      <td>Elites Accessories</td>\n",
       "      <td>Elites Accessories</td>\n",
       "    </tr>\n",
       "    <tr>\n",
       "      <th>4</th>\n",
       "      <td>A &amp; T Hidden Micro Mini Secret Spy Pen Camera ...</td>\n",
       "      <td>IndiaMart Electronics®</td>\n",
       "      <td>IndiaMart Electronics®</td>\n",
       "      <td>IndiaMart Electronics®</td>\n",
       "      <td>IndiaMart Electronics®</td>\n",
       "      <td>IndiaMart Electronics®</td>\n",
       "      <td>IndiaMart Electronics®</td>\n",
       "      <td>IndiaMart Electronics®</td>\n",
       "    </tr>\n",
       "  </tbody>\n",
       "</table>\n",
       "</div>"
      ],
      "text/plain": [
       "                                             Product  \\\n",
       "0  Voltas 1 Ton 3 Star Split AC (Copper, 123 CZA,...   \n",
       "1  Fleejost HD Video/Audio Hidden Recording, HD S...   \n",
       "2  YI Home Camera Wireless IP Security Surveillan...   \n",
       "3  ProElite IP01A WiFi Wireless HD IP Security Ca...   \n",
       "4  A & T Hidden Micro Mini Secret Spy Pen Camera ...   \n",
       "\n",
       "                           Price                   Count  \\\n",
       "0                Cloudtail India         Cloudtail India   \n",
       "1               EagleElectronics       E-commerce Planet   \n",
       "2  YI Technology Private Limited  eTrade Marketing P Ltd   \n",
       "3     Appario Retail Private Ltd      Elites Accessories   \n",
       "4         IndiaMart Electronics®  IndiaMart Electronics®   \n",
       "\n",
       "               Buyer_FeedBack                 Courier_Rating  \\\n",
       "0             Cloudtail India               BEST HOME RETAIL   \n",
       "1      IndiaMart Electronics®         IndiaMart Electronics®   \n",
       "2  Appario Retail Private Ltd  YI Technology Private Limited   \n",
       "3  Appario Retail Private Ltd     Appario Retail Private Ltd   \n",
       "4      IndiaMart Electronics®         IndiaMart Electronics®   \n",
       "\n",
       "           Product_Rating            Packaging_Rating  \\\n",
       "0        BEST HOME RETAIL             Cloudtail India   \n",
       "1        EagleElectronics   ElectronicsArtGalleryEAG®   \n",
       "2              HelloYehlo  Appario Retail Private Ltd   \n",
       "3      Elites Accessories          Elites Accessories   \n",
       "4  IndiaMart Electronics®      IndiaMart Electronics®   \n",
       "\n",
       "                        ALL OVER  \n",
       "0                Cloudtail India  \n",
       "1         IndiaMart Electronics®  \n",
       "2  YI Technology Private Limited  \n",
       "3             Elites Accessories  \n",
       "4         IndiaMart Electronics®  "
      ]
     },
     "execution_count": 5,
     "metadata": {},
     "output_type": "execute_result"
    }
   ],
   "source": [
    "import pandas as pd\n",
    "import numpy as np\n",
    "import matplotlib.pyplot as plt\n",
    "import seaborn as sns\n",
    "import ast\n",
    "from ast import literal_eval\n",
    "from collections import defaultdict\n",
    "%matplotlib inline\n",
    "import random\n",
    "from sklearn.preprocessing import MinMaxScaler\n",
    "product.head()"
   ]
  },
  {
   "cell_type": "code",
   "execution_count": 6,
   "metadata": {},
   "outputs": [
    {
     "data": {
      "text/html": [
       "<div>\n",
       "<style scoped>\n",
       "    .dataframe tbody tr th:only-of-type {\n",
       "        vertical-align: middle;\n",
       "    }\n",
       "\n",
       "    .dataframe tbody tr th {\n",
       "        vertical-align: top;\n",
       "    }\n",
       "\n",
       "    .dataframe thead th {\n",
       "        text-align: right;\n",
       "    }\n",
       "</style>\n",
       "<table border=\"1\" class=\"dataframe\">\n",
       "  <thead>\n",
       "    <tr style=\"text-align: right;\">\n",
       "      <th></th>\n",
       "      <th>Brand</th>\n",
       "      <th>Price</th>\n",
       "      <th>Count</th>\n",
       "      <th>Buyer_FeedBack</th>\n",
       "      <th>Courier_Rating</th>\n",
       "      <th>Product_Rating</th>\n",
       "      <th>Packaging_Rating</th>\n",
       "      <th>ALL OVER</th>\n",
       "    </tr>\n",
       "  </thead>\n",
       "  <tbody>\n",
       "    <tr>\n",
       "      <th>0</th>\n",
       "      <td>100yellow</td>\n",
       "      <td>100yellow</td>\n",
       "      <td>100yellow</td>\n",
       "      <td>100yellow</td>\n",
       "      <td>100yellow</td>\n",
       "      <td>100yellow</td>\n",
       "      <td>100yellow</td>\n",
       "      <td>100yellow</td>\n",
       "    </tr>\n",
       "    <tr>\n",
       "      <th>1</th>\n",
       "      <td>2-OYSS</td>\n",
       "      <td>Rohini Retail</td>\n",
       "      <td>Rohini Retail</td>\n",
       "      <td>Rohini Retail</td>\n",
       "      <td>Rohini Retail</td>\n",
       "      <td>Rohini Retail</td>\n",
       "      <td>Rohini Retail</td>\n",
       "      <td>Rohini Retail</td>\n",
       "    </tr>\n",
       "    <tr>\n",
       "      <th>2</th>\n",
       "      <td>2-oyss</td>\n",
       "      <td>Rohini Retail</td>\n",
       "      <td>Rohini Retail</td>\n",
       "      <td>Rohini Retail</td>\n",
       "      <td>Rohini Retail</td>\n",
       "      <td>Rohini Retail</td>\n",
       "      <td>Rohini Retail</td>\n",
       "      <td>Rohini Retail</td>\n",
       "    </tr>\n",
       "    <tr>\n",
       "      <th>3</th>\n",
       "      <td>A &amp; T</td>\n",
       "      <td>IndiaMart Electronics®</td>\n",
       "      <td>IndiaMart Electronics®</td>\n",
       "      <td>IndiaMart Electronics®</td>\n",
       "      <td>IndiaMart Electronics®</td>\n",
       "      <td>IndiaMart Electronics®</td>\n",
       "      <td>IndiaMart Electronics®</td>\n",
       "      <td>IndiaMart Electronics®</td>\n",
       "    </tr>\n",
       "    <tr>\n",
       "      <th>4</th>\n",
       "      <td>ADISA</td>\n",
       "      <td>ADISA International</td>\n",
       "      <td>ADISA International</td>\n",
       "      <td>ADISA International</td>\n",
       "      <td>ADISA International</td>\n",
       "      <td>ADISA International</td>\n",
       "      <td>ADISA International</td>\n",
       "      <td>ADISA International</td>\n",
       "    </tr>\n",
       "  </tbody>\n",
       "</table>\n",
       "</div>"
      ],
      "text/plain": [
       "       Brand                   Price                   Count  \\\n",
       "0  100yellow               100yellow               100yellow   \n",
       "1     2-OYSS           Rohini Retail           Rohini Retail   \n",
       "2     2-oyss           Rohini Retail           Rohini Retail   \n",
       "3      A & T  IndiaMart Electronics®  IndiaMart Electronics®   \n",
       "4      ADISA     ADISA International     ADISA International   \n",
       "\n",
       "           Buyer_FeedBack          Courier_Rating          Product_Rating  \\\n",
       "0               100yellow               100yellow               100yellow   \n",
       "1           Rohini Retail           Rohini Retail           Rohini Retail   \n",
       "2           Rohini Retail           Rohini Retail           Rohini Retail   \n",
       "3  IndiaMart Electronics®  IndiaMart Electronics®  IndiaMart Electronics®   \n",
       "4     ADISA International     ADISA International     ADISA International   \n",
       "\n",
       "         Packaging_Rating                ALL OVER  \n",
       "0               100yellow               100yellow  \n",
       "1           Rohini Retail           Rohini Retail  \n",
       "2           Rohini Retail           Rohini Retail  \n",
       "3  IndiaMart Electronics®  IndiaMart Electronics®  \n",
       "4     ADISA International     ADISA International  "
      ]
     },
     "execution_count": 6,
     "metadata": {},
     "output_type": "execute_result"
    }
   ],
   "source": [
    "product = pd.read_csv('D:/BestSellers.csv')\n",
    "product = product[['Product', 'Price', 'Count', 'Buyer_FeedBack','Courier_Rating', 'Product_Rating', 'Packaging_Rating','ALL OVER']]\n",
    "brand = pd.read_csv('D:/BestSellers_Brand_Wise.csv')\n",
    "brand = brand[['Brand',  'Price', 'Count','Buyer_FeedBack','Courier_Rating', 'Product_Rating','Packaging_Rating','ALL OVER']]\n",
    "data = pd.read_csv('D:/FinalDataSet.csv')\n",
    "data = data[['Product', 'Brand']]\n",
    "brand.head()"
   ]
  },
  {
   "cell_type": "code",
   "execution_count": 7,
   "metadata": {},
   "outputs": [],
   "source": [
    "drt = brand.merge(data,how='left')\n",
    "drt = drt.drop_duplicates(keep=\"first\")\n",
    "drt = drt[['Product','Price', 'Count', 'Buyer_FeedBack', 'Courier_Rating','Product_Rating', 'Packaging_Rating', 'ALL OVER']]"
   ]
  },
  {
   "cell_type": "code",
   "execution_count": 8,
   "metadata": {},
   "outputs": [],
   "source": [
    "drt = drt.sort_values(by='Product')\n",
    "product = product.sort_values(by='Product')"
   ]
  },
  {
   "cell_type": "code",
   "execution_count": 9,
   "metadata": {},
   "outputs": [],
   "source": [
    "rr = pd.merge(product,drt, on=['Product'])"
   ]
  },
  {
   "cell_type": "code",
   "execution_count": 10,
   "metadata": {},
   "outputs": [],
   "source": [
    "lis = ['Price', 'Count', 'Buyer_FeedBack', 'Courier_Rating','Product_Rating', 'Packaging_Rating', 'ALL OVER']\n",
    "\n",
    "for item in lis:\n",
    "    x = item + '_x'\n",
    "    y = item + '_y'\n",
    "    rr[item] = rr[x] == rr[y]"
   ]
  },
  {
   "cell_type": "code",
   "execution_count": null,
   "metadata": {},
   "outputs": [],
   "source": []
  },
  {
   "cell_type": "code",
   "execution_count": 20,
   "metadata": {},
   "outputs": [
    {
     "data": {
      "text/html": [
       "<div>\n",
       "<style scoped>\n",
       "    .dataframe tbody tr th:only-of-type {\n",
       "        vertical-align: middle;\n",
       "    }\n",
       "\n",
       "    .dataframe tbody tr th {\n",
       "        vertical-align: top;\n",
       "    }\n",
       "\n",
       "    .dataframe thead th {\n",
       "        text-align: right;\n",
       "    }\n",
       "</style>\n",
       "<table border=\"1\" class=\"dataframe\">\n",
       "  <thead>\n",
       "    <tr style=\"text-align: right;\">\n",
       "      <th></th>\n",
       "      <th>Product</th>\n",
       "      <th>Price</th>\n",
       "      <th>Count</th>\n",
       "      <th>Buyer_FeedBack</th>\n",
       "      <th>Courier_Rating</th>\n",
       "      <th>Product_Rating</th>\n",
       "      <th>Packaging_Rating</th>\n",
       "      <th>ALL OVER</th>\n",
       "    </tr>\n",
       "  </thead>\n",
       "  <tbody>\n",
       "    <tr>\n",
       "      <th>0</th>\n",
       "      <td>100yellow Game of Thrones Quote Print Designer...</td>\n",
       "      <td>True</td>\n",
       "      <td>True</td>\n",
       "      <td>True</td>\n",
       "      <td>True</td>\n",
       "      <td>True</td>\n",
       "      <td>True</td>\n",
       "      <td>True</td>\n",
       "    </tr>\n",
       "    <tr>\n",
       "      <th>1</th>\n",
       "      <td>2-OYSS 10 Emoji and 10 Motivation Plastic Stam...</td>\n",
       "      <td>True</td>\n",
       "      <td>True</td>\n",
       "      <td>True</td>\n",
       "      <td>True</td>\n",
       "      <td>True</td>\n",
       "      <td>True</td>\n",
       "      <td>True</td>\n",
       "    </tr>\n",
       "    <tr>\n",
       "      <th>2</th>\n",
       "      <td>2-oyss Kid's Emoji Design Stamp Craft School S...</td>\n",
       "      <td>True</td>\n",
       "      <td>True</td>\n",
       "      <td>True</td>\n",
       "      <td>True</td>\n",
       "      <td>True</td>\n",
       "      <td>True</td>\n",
       "      <td>True</td>\n",
       "    </tr>\n",
       "    <tr>\n",
       "      <th>3</th>\n",
       "      <td>A &amp; T Hidden Micro Mini Secret Spy Pen Camera ...</td>\n",
       "      <td>True</td>\n",
       "      <td>True</td>\n",
       "      <td>True</td>\n",
       "      <td>True</td>\n",
       "      <td>True</td>\n",
       "      <td>True</td>\n",
       "      <td>True</td>\n",
       "    </tr>\n",
       "    <tr>\n",
       "      <th>4</th>\n",
       "      <td>ADISA BP004 Light Weight 31 Ltrs Casual Laptop...</td>\n",
       "      <td>True</td>\n",
       "      <td>True</td>\n",
       "      <td>True</td>\n",
       "      <td>True</td>\n",
       "      <td>True</td>\n",
       "      <td>True</td>\n",
       "      <td>True</td>\n",
       "    </tr>\n",
       "  </tbody>\n",
       "</table>\n",
       "</div>"
      ],
      "text/plain": [
       "                                             Product  Price  Count  \\\n",
       "0  100yellow Game of Thrones Quote Print Designer...   True   True   \n",
       "1  2-OYSS 10 Emoji and 10 Motivation Plastic Stam...   True   True   \n",
       "2  2-oyss Kid's Emoji Design Stamp Craft School S...   True   True   \n",
       "3  A & T Hidden Micro Mini Secret Spy Pen Camera ...   True   True   \n",
       "4  ADISA BP004 Light Weight 31 Ltrs Casual Laptop...   True   True   \n",
       "\n",
       "   Buyer_FeedBack  Courier_Rating  Product_Rating  Packaging_Rating  ALL OVER  \n",
       "0            True            True            True              True      True  \n",
       "1            True            True            True              True      True  \n",
       "2            True            True            True              True      True  \n",
       "3            True            True            True              True      True  \n",
       "4            True            True            True              True      True  "
      ]
     },
     "execution_count": 20,
     "metadata": {},
     "output_type": "execute_result"
    }
   ],
   "source": [
    "rr = rr[['Product','Price', 'Count', 'Buyer_FeedBack','Courier_Rating', 'Product_Rating', 'Packaging_Rating', 'ALL OVER']]\n",
    "\n",
    "rr.head()"
   ]
  },
  {
   "cell_type": "code",
   "execution_count": 21,
   "metadata": {},
   "outputs": [],
   "source": [
    "dataSet = rr[['Price', 'Count', 'Buyer_FeedBack','Courier_Rating', 'Product_Rating', 'Packaging_Rating', 'ALL OVER']]\n"
   ]
  },
  {
   "cell_type": "code",
   "execution_count": 22,
   "metadata": {},
   "outputs": [],
   "source": [
    "from sklearn.model_selection import train_test_split\n",
    "X = dataSet[['Price', 'Count', 'Buyer_FeedBack','Courier_Rating', 'Product_Rating', 'Packaging_Rating']].astype(int)\n",
    "Y = dataSet[['ALL OVER']].astype(int)"
   ]
  },
  {
   "cell_type": "code",
   "execution_count": 33,
   "metadata": {},
   "outputs": [],
   "source": [
    "X_train, X_test, Y_train, Y_test = train_test_split(X, Y, test_size=0.2, random_state=42)"
   ]
  },
  {
   "cell_type": "code",
   "execution_count": 34,
   "metadata": {},
   "outputs": [
    {
     "name": "stdout",
     "output_type": "stream",
     "text": [
      "              precision    recall  f1-score   support\n",
      "\n",
      "           0       0.56      0.43      0.49        21\n",
      "           1       0.85      0.91      0.88        74\n",
      "\n",
      "   micro avg       0.80      0.80      0.80        95\n",
      "   macro avg       0.71      0.67      0.68        95\n",
      "weighted avg       0.78      0.80      0.79        95\n",
      "\n",
      "[[ 9 12]\n",
      " [ 7 67]]\n"
     ]
    },
    {
     "name": "stderr",
     "output_type": "stream",
     "text": [
      "C:\\Users\\Rahlsesite\\Anaconda3\\lib\\site-packages\\sklearn\\linear_model\\logistic.py:433: FutureWarning: Default solver will be changed to 'lbfgs' in 0.22. Specify a solver to silence this warning.\n",
      "  FutureWarning)\n",
      "C:\\Users\\Rahlsesite\\Anaconda3\\lib\\site-packages\\sklearn\\utils\\validation.py:761: DataConversionWarning: A column-vector y was passed when a 1d array was expected. Please change the shape of y to (n_samples, ), for example using ravel().\n",
      "  y = column_or_1d(y, warn=True)\n"
     ]
    }
   ],
   "source": [
    "from sklearn.linear_model import LogisticRegression\n",
    "lm = LogisticRegression()\n",
    "lm.fit(X_train,Y_train)\n",
    "pred = lm.predict(X_test)\n",
    "from sklearn.metrics import classification_report,confusion_matrix\n",
    "print(classification_report(Y_test,pred))\n",
    "print(confusion_matrix(Y_test,pred))"
   ]
  },
  {
   "cell_type": "code",
   "execution_count": 35,
   "metadata": {},
   "outputs": [
    {
     "data": {
      "text/plain": [
       "-0.16151866151866123"
      ]
     },
     "execution_count": 35,
     "metadata": {},
     "output_type": "execute_result"
    }
   ],
   "source": [
    "from sklearn.metrics import r2_score\n",
    "r2_score(Y_test,pred)"
   ]
  },
  {
   "cell_type": "code",
   "execution_count": 37,
   "metadata": {},
   "outputs": [
    {
     "ename": "SyntaxError",
     "evalue": "unexpected EOF while parsing (<ipython-input-37-4dd4def06162>, line 4)",
     "output_type": "error",
     "traceback": [
      "\u001b[1;36m  File \u001b[1;32m\"<ipython-input-37-4dd4def06162>\"\u001b[1;36m, line \u001b[1;32m4\u001b[0m\n\u001b[1;33m    \u001b[0m\n\u001b[1;37m    ^\u001b[0m\n\u001b[1;31mSyntaxError\u001b[0m\u001b[1;31m:\u001b[0m unexpected EOF while parsing\n"
     ]
    }
   ],
   "source": [
    "r2m = []\n",
    "\n",
    "for i in np.arange(0.,0.99,0.01)"
   ]
  },
  {
   "cell_type": "code",
   "execution_count": null,
   "metadata": {},
   "outputs": [],
   "source": []
  },
  {
   "cell_type": "code",
   "execution_count": null,
   "metadata": {},
   "outputs": [],
   "source": []
  },
  {
   "cell_type": "code",
   "execution_count": null,
   "metadata": {},
   "outputs": [],
   "source": []
  },
  {
   "cell_type": "code",
   "execution_count": null,
   "metadata": {},
   "outputs": [],
   "source": []
  },
  {
   "cell_type": "code",
   "execution_count": null,
   "metadata": {},
   "outputs": [],
   "source": []
  },
  {
   "cell_type": "code",
   "execution_count": null,
   "metadata": {},
   "outputs": [],
   "source": []
  }
 ],
 "metadata": {
  "kernelspec": {
   "display_name": "Python 3",
   "language": "python",
   "name": "python3"
  },
  "language_info": {
   "codemirror_mode": {
    "name": "ipython",
    "version": 3
   },
   "file_extension": ".py",
   "mimetype": "text/x-python",
   "name": "python",
   "nbconvert_exporter": "python",
   "pygments_lexer": "ipython3",
   "version": "3.7.1"
  }
 },
 "nbformat": 4,
 "nbformat_minor": 2
}
