{
 "cells": [
  {
   "cell_type": "code",
   "execution_count": 3,
   "metadata": {},
   "outputs": [],
   "source": [
    "import pandas as pd\n",
    "import numpy as np\n",
    "import matplotlib.pyplot as plt\n",
    "import seaborn as sns\n",
    "import ast\n",
    "from ast import literal_eval\n",
    "from collections import defaultdict\n",
    "%matplotlib inline\n",
    "import random\n",
    "from sklearn.preprocessing import MinMaxScaler"
   ]
  },
  {
   "cell_type": "code",
   "execution_count": 50,
   "metadata": {},
   "outputs": [],
   "source": [
    "def PreProcess(dataSet):\n",
    "    dataSet = dataSet[['MultiLink','Product', 'Brand', 'Product_Rating', 'Seller','Price', 'FeedBack_Rating','Category',]]\n",
    "    dataSet['Price'] = dataSet.groupby(['Product'], sort=False)['Price'].apply(lambda x: x.ffill().bfill())\n",
    "    dataSet = dataSet[pd.notnull(dataSet['Seller'])]\n",
    "    \n",
    "    rate = dataSet['FeedBack_Rating']\n",
    "    price = dataSet['Price']\n",
    "    prating = dataSet['Product_Rating']\n",
    "    \n",
    "    x = rate.values\n",
    "    y = price.values\n",
    "    z = prating.values\n",
    "    \n",
    "    xpr = pd.Series(x).str.replace(' out of 5 stars', '', regex=True)\n",
    "    dataSet['FeedBack_Rating'] = xpr\n",
    "    \n",
    "    zpr = pd.Series(z).str.replace(' out of 5 stars', '', regex=True)\n",
    "    dataSet['Product_Rating'] = zpr\n",
    "    \n",
    "    pr2 = pd.Series(y).str.replace('Rs. ', '', regex=True)\n",
    "    pr3 = pd.Series(pr2).str.replace(',', '', regex=True)\n",
    "    dataSet['Price'] = pr3\n",
    "    \n",
    "    \n",
    "    \n",
    "    dataSet['Price'] = dataSet.groupby(['Product','Seller'], sort=False)['Price'].apply(lambda x: x.ffill().bfill())\n",
    "    dataSet['FeedBack_Rating'] = dataSet['FeedBack_Rating'].astype(float)\n",
    "    dataSet['FeedBack_Rating'] = dataSet.groupby(['Product','Seller'])['FeedBack_Rating'].transform(lambda x: x.fillna(x.mean()))\n",
    "    \n",
    "    dataSet['Product_Rating'] = dataSet['Product_Rating'].astype(float)\n",
    "    dataSet['Product_Rating'] = dataSet.groupby(['Product','Seller'])['Product_Rating'].transform(lambda x: x.fillna(x.mean()))\n",
    "    \n",
    "    dataSet = dataSet[['MultiLink', 'Product', 'Brand', 'Seller', 'Price','FeedBack_Rating', 'Product_Rating']]\n",
    "    \n",
    "    dataSet = dataSet[pd.notnull(dataSet['MultiLink'])]\n",
    "    dataSet = dataSet[pd.notnull(dataSet['Product'])]\n",
    "    dataSet = dataSet[pd.notnull(dataSet['Brand'])]\n",
    "    dataSet = dataSet[pd.notnull(dataSet['Seller'])]\n",
    "    dataSet = dataSet[pd.notnull(dataSet['FeedBack_Rating'])]\n",
    "    dataSet = dataSet[pd.notnull(dataSet['Product_Rating'])]\n",
    "    \n",
    "    return dataSet\n"
   ]
  },
  {
   "cell_type": "code",
   "execution_count": 56,
   "metadata": {},
   "outputs": [],
   "source": [
    "finSet = pd.read_csv('D:/allstuff(1).csv')\n",
    "finSet.columns\n",
    "finSet = finSet.rename(columns={'ALinks':'MultiLink'})"
   ]
  },
  {
   "cell_type": "code",
   "execution_count": 57,
   "metadata": {},
   "outputs": [
    {
     "data": {
      "text/plain": [
       "<matplotlib.axes._subplots.AxesSubplot at 0x19e94b3e550>"
      ]
     },
     "execution_count": 57,
     "metadata": {},
     "output_type": "execute_result"
    },
    {
     "data": {
      "image/png": "[encoded data removed]",
      "text/plain": [
       "<Figure size 432x288 with 1 Axes>"
      ]
     },
     "metadata": {
      "needs_background": "light"
     },
     "output_type": "display_data"
    }
   ],
   "source": [
    "finSet = finSet[['MultiLink','Product', 'Brand', 'Product_Rating', 'Seller','Price', 'FeedBack_Rating']]\n",
    "finSet['Price'] = finSet.groupby(['Product'], sort=False)['Price'].apply(lambda x: x.ffill().bfill())\n",
    "finSet['Product_Rating'] = finSet.groupby(['Product'], sort=False)['Product_Rating'].apply(lambda x: x.ffill().bfill())\n",
    "finSet['Seller'] = finSet.groupby(['Product'], sort=False)['Seller'].apply(lambda x: x.ffill().bfill())\n",
    "finSet['FeedBack_Rating'] = finSet.groupby(['Product','Seller'], sort=False)['FeedBack_Rating'].apply(lambda x: x.ffill().bfill())\n",
    "\n",
    "rate = finSet['FeedBack_Rating']\n",
    "price = finSet['Price']\n",
    "prating = finSet['Product_Rating']\n",
    "    \n",
    "x = rate.values\n",
    "y = price.values\n",
    "z = prating.values\n",
    "    \n",
    "xpr = pd.Series(x).str.replace(' out of 5 stars', '', regex=True)\n",
    "finSet['FeedBack_Rating'] = xpr\n",
    "    \n",
    "zpr = pd.Series(z).str.replace(' out of 5 stars', '', regex=True)\n",
    "finSet['Product_Rating'] = zpr\n",
    "    \n",
    "pr2 = pd.Series(y).str.replace('Rs. ', '', regex=True)\n",
    "pr3 = pd.Series(pr2).str.replace(',', '', regex=True)\n",
    "finSet['Price'] = pr3\n",
    "\n",
    "finSet = finSet[pd.notnull(finSet['MultiLink'])]\n",
    "finSet = finSet[pd.notnull(finSet['Product'])]\n",
    "finSet = finSet[pd.notnull(finSet['Brand'])]\n",
    "finSet = finSet[pd.notnull(finSet['Seller'])]\n",
    "finSet = finSet[pd.notnull(finSet['FeedBack_Rating'])]\n",
    "finSet = finSet[pd.notnull(finSet['Product_Rating'])]\n",
    "    \n",
    "sns.heatmap(finSet.isnull(),yticklabels=False,cbar=False)"
   ]
  },
  {
   "cell_type": "code",
   "execution_count": 58,
   "metadata": {},
   "outputs": [
    {
     "data": {
      "text/plain": [
       "(62689, 7)"
      ]
     },
     "execution_count": 58,
     "metadata": {},
     "output_type": "execute_result"
    }
   ],
   "source": [
    "finSet.shape"
   ]
  },
  {
   "cell_type": "code",
   "execution_count": 88,
   "metadata": {},
   "outputs": [],
   "source": [
    "abc = pd.read_csv('D:/DST/FinalData.csv')\n",
    "abc = abc[['MultiLink', 'Product', 'Brand', 'Seller','Price', 'FeedBack_Rating', 'Product_Rating', 'Packaging_Rating','Courier_Rating']]\n",
    "finSet['Courier_Rating'] = finSet[['FeedBack_Rating', 'Product_Rating']].max(axis=1)\n",
    "df = finSet[['FeedBack_Rating', 'Product_Rating','Courier_Rating']]\n",
    "finSet['Packaging_Rating'] = df.mean(axis=1)\n",
    "finSet = finSet[['MultiLink', 'Product', 'Brand', 'Seller','Price', 'FeedBack_Rating', 'Product_Rating', 'Packaging_Rating','Courier_Rating']]"
   ]
  },
  {
   "cell_type": "code",
   "execution_count": 90,
   "metadata": {},
   "outputs": [],
   "source": [
    "final = pd.concat([finSet,abc]).reset_index(drop=True)"
   ]
  },
  {
   "cell_type": "code",
   "execution_count": 94,
   "metadata": {},
   "outputs": [],
   "source": [
    "final = final.drop_duplicates()\n",
    "final = final.reset_index(drop=True)"
   ]
  },
  {
   "cell_type": "code",
   "execution_count": 96,
   "metadata": {},
   "outputs": [],
   "source": [
    "final.to_csv('D:/DST/FinalData.csv')"
   ]
  },
  {
   "cell_type": "code",
   "execution_count": null,
   "metadata": {},
   "outputs": [],
   "source": []
  },
  {
   "cell_type": "code",
   "execution_count": null,
   "metadata": {},
   "outputs": [],
   "source": []
  }
 ],
 "metadata": {
  "kernelspec": {
   "display_name": "Python 3",
   "language": "python",
   "name": "python3"
  },
  "language_info": {
   "codemirror_mode": {
    "name": "ipython",
    "version": 3
   },
   "file_extension": ".py",
   "mimetype": "text/x-python",
   "name": "python",
   "nbconvert_exporter": "python",
   "pygments_lexer": "ipython3",
   "version": "3.7.1"
  }
 },
 "nbformat": 4,
 "nbformat_minor": 2
}
