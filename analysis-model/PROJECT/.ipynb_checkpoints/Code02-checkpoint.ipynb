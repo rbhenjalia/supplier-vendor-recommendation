{
 "cells": [
  {
   "cell_type": "code",
   "execution_count": 1,
   "metadata": {},
   "outputs": [],
   "source": [
    "import pandas as pd\n",
    "import numpy as np\n",
    "import matplotlib.pyplot as plt\n",
    "import seaborn as sns\n",
    "import ast\n",
    "from ast import literal_eval\n",
    "from collections import defaultdict\n",
    "%matplotlib inline\n",
    "import random\n",
    "from sklearn.preprocessing import MinMaxScaler"
   ]
  },
  {
   "cell_type": "code",
   "execution_count": 10,
   "metadata": {},
   "outputs": [],
   "source": [
    "SCR = pd.read_csv('D:/DST/Seller_Category_Ratings.csv')\n",
    "SPR = pd.read_csv('D:/DST/Seller_Products_Ratings.csv')\n",
    "SBR = pd.read_csv('D:/DST/Seller_Brand_Ratings.csv')\n",
    "SWR = pd.read_csv('D:/DST/Seller_Wise_Ratings.csv')\n",
    "Data = pd.read_csv('D:/DST/FinalData.csv')\n",
    "\n",
    "Data = Data[['MultiLink', 'Product', 'Brand', 'Seller', 'Price','FeedBack_Rating', 'Product_Rating', 'Packaging_Rating','Courier_Rating']]\n",
    "SCR = SCR[['Seller', 'MultiLink', 'FeedBack_Rating','Courier_Rating', 'Product_Rating', 'Packaging_Rating', 'ALL_OVER']]\n",
    "SPR = SPR[['Seller', 'Product', 'FeedBack_Rating', 'Courier_Rating','Product_Rating', 'Packaging_Rating', 'ALL_OVER']]\n",
    "SBR = SBR[['Seller', 'Brand', 'FeedBack_Rating', 'Courier_Rating','Product_Rating', 'Packaging_Rating', 'ALL_OVER']]\n",
    "SWR = SWR[['Seller', 'FeedBack_Rating', 'Courier_Rating','Product_Rating', 'Packaging_Rating', 'ALL_OVER']]"
   ]
  },
  {
   "cell_type": "code",
   "execution_count": 11,
   "metadata": {},
   "outputs": [
    {
     "data": {
      "text/plain": [
       "<matplotlib.axes._subplots.AxesSubplot at 0x235cd444940>"
      ]
     },
     "execution_count": 11,
     "metadata": {},
     "output_type": "execute_result"
    },
    {
     "data": {
      "image/png": "[encoded data removed]",
      "text/plain": [
       "<Figure size 432x288 with 1 Axes>"
      ]
     },
     "metadata": {
      "needs_background": "light"
     },
     "output_type": "display_data"
    }
   ],
   "source": [
    "sns.distplot(SBR['Product_Rating'],bins=100)"
   ]
  },
  {
   "cell_type": "code",
   "execution_count": 14,
   "metadata": {},
   "outputs": [],
   "source": [
    "dr = pd.DataFrame(Data.groupby('MultiLink')['Product'].count())"
   ]
  },
  {
   "cell_type": "code",
   "execution_count": 16,
   "metadata": {},
   "outputs": [],
   "source": [
    "d1 = Data[['Product', 'Brand']]\n",
    "d2 = SPR"
   ]
  },
  {
   "cell_type": "code",
   "execution_count": 22,
   "metadata": {},
   "outputs": [],
   "source": [
    "rr = SPR.merge(d1,on=['Product']).drop_duplicates().reset_index(drop=True)"
   ]
  },
  {
   "cell_type": "code",
   "execution_count": null,
   "metadata": {},
   "outputs": [],
   "source": []
  },
  {
   "cell_type": "code",
   "execution_count": null,
   "metadata": {},
   "outputs": [],
   "source": []
  },
  {
   "cell_type": "code",
   "execution_count": null,
   "metadata": {},
   "outputs": [],
   "source": []
  }
 ],
 "metadata": {
  "kernelspec": {
   "display_name": "Python 3",
   "language": "python",
   "name": "python3"
  },
  "language_info": {
   "codemirror_mode": {
    "name": "ipython",
    "version": 3
   },
   "file_extension": ".py",
   "mimetype": "text/x-python",
   "name": "python",
   "nbconvert_exporter": "python",
   "pygments_lexer": "ipython3",
   "version": "3.7.1"
  }
 },
 "nbformat": 4,
 "nbformat_minor": 2
}
