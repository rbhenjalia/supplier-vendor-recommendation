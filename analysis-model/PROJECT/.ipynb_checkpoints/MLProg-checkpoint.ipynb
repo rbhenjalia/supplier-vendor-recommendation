{
 "cells": [
  {
   "cell_type": "code",
   "execution_count": 2,
   "metadata": {},
   "outputs": [],
   "source": [
    "import pandas as pd\n",
    "import numpy as np\n",
    "import matplotlib.pyplot as plt\n",
    "import seaborn as sns\n",
    "import ast\n",
    "from ast import literal_eval\n",
    "from collections import defaultdict\n",
    "%matplotlib inline\n",
    "from sklearn.preprocessing import MinMaxScaler"
   ]
  },
  {
   "cell_type": "code",
   "execution_count": 3,
   "metadata": {},
   "outputs": [],
   "source": [
    "tr = pd.read_csv('D:/finData.csv')"
   ]
  },
  {
   "cell_type": "code",
   "execution_count": 4,
   "metadata": {},
   "outputs": [
    {
     "data": {
      "text/html": [
       "<div>\n",
       "<style scoped>\n",
       "    .dataframe tbody tr th:only-of-type {\n",
       "        vertical-align: middle;\n",
       "    }\n",
       "\n",
       "    .dataframe tbody tr th {\n",
       "        vertical-align: top;\n",
       "    }\n",
       "\n",
       "    .dataframe thead th {\n",
       "        text-align: right;\n",
       "    }\n",
       "</style>\n",
       "<table border=\"1\" class=\"dataframe\">\n",
       "  <thead>\n",
       "    <tr style=\"text-align: right;\">\n",
       "      <th></th>\n",
       "      <th>Unnamed: 0</th>\n",
       "      <th>Product_Seller</th>\n",
       "      <th>Price</th>\n",
       "      <th>Rate</th>\n",
       "    </tr>\n",
       "  </thead>\n",
       "  <tbody>\n",
       "    <tr>\n",
       "      <th>0</th>\n",
       "      <td>0</td>\n",
       "      <td>Acer Aspire 3 UN.GNVSI.001 15.6-inch Laptop (A...</td>\n",
       "      <td>18489.00</td>\n",
       "      <td>0</td>\n",
       "    </tr>\n",
       "    <tr>\n",
       "      <th>1</th>\n",
       "      <td>1</td>\n",
       "      <td>Acer Aspire 3 UN.GNVSI.001 15.6-inch Laptop (A...</td>\n",
       "      <td>18489.00</td>\n",
       "      <td>3</td>\n",
       "    </tr>\n",
       "    <tr>\n",
       "      <th>2</th>\n",
       "      <td>2</td>\n",
       "      <td>Acer Aspire 3 UN.GNVSI.001 15.6-inch Laptop (A...</td>\n",
       "      <td>18489.00</td>\n",
       "      <td>5</td>\n",
       "    </tr>\n",
       "    <tr>\n",
       "      <th>3</th>\n",
       "      <td>3</td>\n",
       "      <td>Acer Aspire 3 UN.GNVSI.001 15.6-inch Laptop (A...</td>\n",
       "      <td>18489.00</td>\n",
       "      <td>1</td>\n",
       "    </tr>\n",
       "    <tr>\n",
       "      <th>4</th>\n",
       "      <td>4</td>\n",
       "      <td>Acer Aspire 3 UN.GNVSI.001 15.6-inch Laptop (A...</td>\n",
       "      <td>18489.00</td>\n",
       "      <td>1</td>\n",
       "    </tr>\n",
       "  </tbody>\n",
       "</table>\n",
       "</div>"
      ],
      "text/plain": [
       "   Unnamed: 0                                     Product_Seller     Price  \\\n",
       "0           0  Acer Aspire 3 UN.GNVSI.001 15.6-inch Laptop (A...  18489.00   \n",
       "1           1  Acer Aspire 3 UN.GNVSI.001 15.6-inch Laptop (A...  18489.00   \n",
       "2           2  Acer Aspire 3 UN.GNVSI.001 15.6-inch Laptop (A...  18489.00   \n",
       "3           3  Acer Aspire 3 UN.GNVSI.001 15.6-inch Laptop (A...  18489.00   \n",
       "4           4  Acer Aspire 3 UN.GNVSI.001 15.6-inch Laptop (A...  18489.00   \n",
       "\n",
       "  Rate  \n",
       "0    0  \n",
       "1    3  \n",
       "2    5  \n",
       "3    1  \n",
       "4    1  "
      ]
     },
     "execution_count": 4,
     "metadata": {},
     "output_type": "execute_result"
    }
   ],
   "source": [
    "tr.head()"
   ]
  },
  {
   "cell_type": "code",
   "execution_count": 5,
   "metadata": {},
   "outputs": [],
   "source": [
    "tr = tr[['Product_Seller', 'Price', 'Rate']]"
   ]
  },
  {
   "cell_type": "code",
   "execution_count": 6,
   "metadata": {},
   "outputs": [
    {
     "data": {
      "text/html": [
       "<div>\n",
       "<style scoped>\n",
       "    .dataframe tbody tr th:only-of-type {\n",
       "        vertical-align: middle;\n",
       "    }\n",
       "\n",
       "    .dataframe tbody tr th {\n",
       "        vertical-align: top;\n",
       "    }\n",
       "\n",
       "    .dataframe thead th {\n",
       "        text-align: right;\n",
       "    }\n",
       "</style>\n",
       "<table border=\"1\" class=\"dataframe\">\n",
       "  <thead>\n",
       "    <tr style=\"text-align: right;\">\n",
       "      <th></th>\n",
       "      <th>Product_Seller</th>\n",
       "      <th>Price</th>\n",
       "      <th>Rate</th>\n",
       "    </tr>\n",
       "  </thead>\n",
       "  <tbody>\n",
       "    <tr>\n",
       "      <th>0</th>\n",
       "      <td>Acer Aspire 3 UN.GNVSI.001 15.6-inch Laptop (A...</td>\n",
       "      <td>18489.00</td>\n",
       "      <td>0</td>\n",
       "    </tr>\n",
       "    <tr>\n",
       "      <th>1</th>\n",
       "      <td>Acer Aspire 3 UN.GNVSI.001 15.6-inch Laptop (A...</td>\n",
       "      <td>18489.00</td>\n",
       "      <td>3</td>\n",
       "    </tr>\n",
       "    <tr>\n",
       "      <th>2</th>\n",
       "      <td>Acer Aspire 3 UN.GNVSI.001 15.6-inch Laptop (A...</td>\n",
       "      <td>18489.00</td>\n",
       "      <td>5</td>\n",
       "    </tr>\n",
       "    <tr>\n",
       "      <th>3</th>\n",
       "      <td>Acer Aspire 3 UN.GNVSI.001 15.6-inch Laptop (A...</td>\n",
       "      <td>18489.00</td>\n",
       "      <td>1</td>\n",
       "    </tr>\n",
       "    <tr>\n",
       "      <th>4</th>\n",
       "      <td>Acer Aspire 3 UN.GNVSI.001 15.6-inch Laptop (A...</td>\n",
       "      <td>18489.00</td>\n",
       "      <td>1</td>\n",
       "    </tr>\n",
       "  </tbody>\n",
       "</table>\n",
       "</div>"
      ],
      "text/plain": [
       "                                      Product_Seller     Price Rate\n",
       "0  Acer Aspire 3 UN.GNVSI.001 15.6-inch Laptop (A...  18489.00    0\n",
       "1  Acer Aspire 3 UN.GNVSI.001 15.6-inch Laptop (A...  18489.00    3\n",
       "2  Acer Aspire 3 UN.GNVSI.001 15.6-inch Laptop (A...  18489.00    5\n",
       "3  Acer Aspire 3 UN.GNVSI.001 15.6-inch Laptop (A...  18489.00    1\n",
       "4  Acer Aspire 3 UN.GNVSI.001 15.6-inch Laptop (A...  18489.00    1"
      ]
     },
     "execution_count": 6,
     "metadata": {},
     "output_type": "execute_result"
    }
   ],
   "source": [
    "tr.head()"
   ]
  },
  {
   "cell_type": "code",
   "execution_count": 7,
   "metadata": {},
   "outputs": [],
   "source": [
    "tab1 = pd.read_csv('D:/FinishedDataSet_1.csv')\n",
    "tab2 = pd.read_csv('D:/FinishedDataSet_2.csv')\n",
    "tab3 = tr\n",
    "\n",
    "\n",
    "tab1 = tab1[['Product_Seller', 'Price', 'Rating']]\n",
    "tab2 = tab2[['Product_Seller', 'Price', 'Rating']]\n",
    "\n",
    "tab1['Product'], tab1['Seller'] = tab1['Product_Seller'].str.split(' ##### ', 1).str\n",
    "tab1 = tab1[['Product', 'Seller','Price', 'Rating']]\n",
    "\n",
    "\n",
    "tab2['Product'], tab2['Seller'] = tab2['Product_Seller'].str.split(' ##### ', 1).str\n",
    "tab2 = tab2[['Product', 'Seller','Price', 'Rating']]"
   ]
  },
  {
   "cell_type": "code",
   "execution_count": 8,
   "metadata": {},
   "outputs": [],
   "source": [
    "tab3 = tab3.rename(columns={'Rate':'Rating'})\n",
    "tab3['Product'], tab3['Seller'] = tab3['Product_Seller'].str.split(' - ', 1).str\n",
    "tab3 = tab3[['Product', 'Seller','Price', 'Rating']]"
   ]
  },
  {
   "cell_type": "code",
   "execution_count": 9,
   "metadata": {},
   "outputs": [],
   "source": [
    "finData = pd.concat([tab1,tab2,tab3]).reset_index(drop=True)"
   ]
  },
  {
   "cell_type": "code",
   "execution_count": 10,
   "metadata": {},
   "outputs": [
    {
     "data": {
      "text/html": [
       "<div>\n",
       "<style scoped>\n",
       "    .dataframe tbody tr th:only-of-type {\n",
       "        vertical-align: middle;\n",
       "    }\n",
       "\n",
       "    .dataframe tbody tr th {\n",
       "        vertical-align: top;\n",
       "    }\n",
       "\n",
       "    .dataframe thead th {\n",
       "        text-align: right;\n",
       "    }\n",
       "</style>\n",
       "<table border=\"1\" class=\"dataframe\">\n",
       "  <thead>\n",
       "    <tr style=\"text-align: right;\">\n",
       "      <th></th>\n",
       "      <th>Product</th>\n",
       "      <th>Seller</th>\n",
       "      <th>Price</th>\n",
       "      <th>Rating</th>\n",
       "    </tr>\n",
       "  </thead>\n",
       "  <tbody>\n",
       "    <tr>\n",
       "      <th>0</th>\n",
       "      <td>Lenovo Ideapad 330 Intel Core i5 8th Gen 15.6-...</td>\n",
       "      <td>Sonal-enterprises</td>\n",
       "      <td>35000</td>\n",
       "      <td>2.5</td>\n",
       "    </tr>\n",
       "    <tr>\n",
       "      <th>1</th>\n",
       "      <td>HP Pavilion x360 Intel Core i3 8th Gen 14-inch...</td>\n",
       "      <td>it store</td>\n",
       "      <td>47490</td>\n",
       "      <td>5</td>\n",
       "    </tr>\n",
       "    <tr>\n",
       "      <th>2</th>\n",
       "      <td>Lenovo Ideapad 330s Intel Core i3 8th Gen 14-i...</td>\n",
       "      <td>FastDealsIndia</td>\n",
       "      <td>33065</td>\n",
       "      <td>5</td>\n",
       "    </tr>\n",
       "    <tr>\n",
       "      <th>3</th>\n",
       "      <td>Dell Inspiron 5370 Intel Core i5 8th Gen 13.3-...</td>\n",
       "      <td>estore9</td>\n",
       "      <td>62489</td>\n",
       "      <td>4</td>\n",
       "    </tr>\n",
       "    <tr>\n",
       "      <th>4</th>\n",
       "      <td>HP 15 Core i3 7th gen 15.6-inch Laptop (4GB/1T...</td>\n",
       "      <td>NEWYEARDEAL</td>\n",
       "      <td>31990</td>\n",
       "      <td>5</td>\n",
       "    </tr>\n",
       "  </tbody>\n",
       "</table>\n",
       "</div>"
      ],
      "text/plain": [
       "                                             Product             Seller  \\\n",
       "0  Lenovo Ideapad 330 Intel Core i5 8th Gen 15.6-...  Sonal-enterprises   \n",
       "1  HP Pavilion x360 Intel Core i3 8th Gen 14-inch...           it store   \n",
       "2  Lenovo Ideapad 330s Intel Core i3 8th Gen 14-i...     FastDealsIndia   \n",
       "3  Dell Inspiron 5370 Intel Core i5 8th Gen 13.3-...            estore9   \n",
       "4  HP 15 Core i3 7th gen 15.6-inch Laptop (4GB/1T...        NEWYEARDEAL   \n",
       "\n",
       "   Price Rating  \n",
       "0  35000    2.5  \n",
       "1  47490      5  \n",
       "2  33065      5  \n",
       "3  62489      4  \n",
       "4  31990      5  "
      ]
     },
     "execution_count": 10,
     "metadata": {},
     "output_type": "execute_result"
    }
   ],
   "source": [
    "finData.head()"
   ]
  },
  {
   "cell_type": "code",
   "execution_count": 11,
   "metadata": {},
   "outputs": [],
   "source": [
    "finData.describe()\n",
    "\n",
    "finData = pd.read_csv('D:/erp.csv')\n",
    "finData['Rating'] = finData['Rating'].astype(float)\n",
    "\n",
    "finData['Price'] = finData['Price'].astype(float)\n",
    "\n"
   ]
  },
  {
   "cell_type": "code",
   "execution_count": 12,
   "metadata": {},
   "outputs": [],
   "source": [
    "finData = finData[['Product','Seller', 'Price', 'Rating']]"
   ]
  },
  {
   "cell_type": "code",
   "execution_count": 13,
   "metadata": {},
   "outputs": [],
   "source": [
    "finData.head()\n",
    "finData['Rating'].fillna(value=2.5)\n",
    "finData.to_csv('D:/Data.csv')\n"
   ]
  },
  {
   "cell_type": "code",
   "execution_count": 14,
   "metadata": {},
   "outputs": [
    {
     "data": {
      "text/plain": [
       "<matplotlib.axes._subplots.AxesSubplot at 0x27bc82041d0>"
      ]
     },
     "execution_count": 14,
     "metadata": {},
     "output_type": "execute_result"
    },
    {
     "data": {
      "image/png": "[encoded data removed]",
      "text/plain": [
       "<Figure size 432x288 with 1 Axes>"
      ]
     },
     "metadata": {
      "needs_background": "light"
     },
     "output_type": "display_data"
    }
   ],
   "source": [
    "sns.distplot(finData['Price'],kde=False,bins=70)"
   ]
  },
  {
   "cell_type": "code",
   "execution_count": 15,
   "metadata": {},
   "outputs": [
    {
     "name": "stderr",
     "output_type": "stream",
     "text": [
      "C:\\Users\\Rahlsesite\\Anaconda3\\lib\\site-packages\\scipy\\stats\\stats.py:1713: FutureWarning: Using a non-tuple sequence for multidimensional indexing is deprecated; use `arr[tuple(seq)]` instead of `arr[seq]`. In the future this will be interpreted as an array index, `arr[np.array(seq)]`, which will result either in an error or a different result.\n",
      "  return np.add.reduce(sorted[indexer] * weights, axis=axis) / sumval\n"
     ]
    },
    {
     "data": {
      "text/plain": [
       "<seaborn.axisgrid.JointGrid at 0x27bc7eefb38>"
      ]
     },
     "execution_count": 15,
     "metadata": {},
     "output_type": "execute_result"
    },
    {
     "data": {
      "image/png": "[encoded data removed]",
      "text/plain": [
       "<Figure size 432x432 with 3 Axes>"
      ]
     },
     "metadata": {
      "needs_background": "light"
     },
     "output_type": "display_data"
    }
   ],
   "source": [
    "sns.jointplot(x='Price',y='Rating',data=finData)"
   ]
  },
  {
   "cell_type": "code",
   "execution_count": 16,
   "metadata": {},
   "outputs": [
    {
     "name": "stderr",
     "output_type": "stream",
     "text": [
      "C:\\Users\\Rahlsesite\\Anaconda3\\lib\\site-packages\\numpy\\lib\\histograms.py:754: RuntimeWarning: invalid value encountered in greater_equal\n",
      "  keep = (tmp_a >= first_edge)\n",
      "C:\\Users\\Rahlsesite\\Anaconda3\\lib\\site-packages\\numpy\\lib\\histograms.py:755: RuntimeWarning: invalid value encountered in less_equal\n",
      "  keep &= (tmp_a <= last_edge)\n"
     ]
    },
    {
     "data": {
      "text/plain": [
       "<matplotlib.axes._subplots.AxesSubplot at 0x27bc8537d30>"
      ]
     },
     "execution_count": 16,
     "metadata": {},
     "output_type": "execute_result"
    },
    {
     "data": {
      "image/png": "[encoded data removed]",
      "text/plain": [
       "<Figure size 432x288 with 1 Axes>"
      ]
     },
     "metadata": {
      "needs_background": "light"
     },
     "output_type": "display_data"
    }
   ],
   "source": [
    "sns.distplot(finData['Rating'],kde=False,bins=10)"
   ]
  },
  {
   "cell_type": "code",
   "execution_count": 17,
   "metadata": {},
   "outputs": [
    {
     "data": {
      "text/plain": [
       "<seaborn.axisgrid.PairGrid at 0x27bc83f0080>"
      ]
     },
     "execution_count": 17,
     "metadata": {},
     "output_type": "execute_result"
    },
    {
     "data": {
      "image/png": "[encoded data removed]",
      "text/plain": [
       "<Figure size 360x360 with 6 Axes>"
      ]
     },
     "metadata": {
      "needs_background": "light"
     },
     "output_type": "display_data"
    }
   ],
   "source": [
    "sns.pairplot(finData)"
   ]
  },
  {
   "cell_type": "code",
   "execution_count": 18,
   "metadata": {},
   "outputs": [],
   "source": [
    "ratings = finData.pivot_table(index='Product',columns='Seller',values='Rating')\n",
    "price = finData.pivot_table(index='Product',columns='Seller',values='Price')"
   ]
  },
  {
   "cell_type": "code",
   "execution_count": 19,
   "metadata": {},
   "outputs": [],
   "source": [
    "X_train = finData[['Product', 'Price', 'Rating']]"
   ]
  },
  {
   "cell_type": "code",
   "execution_count": 20,
   "metadata": {},
   "outputs": [],
   "source": [
    "Y_train = finData['Seller']\n",
    "E = 'Acer Aspire 3 UN.GNVSI.001 15.6-inch Laptop (AMD Dual-Core Processor E2-9000/4GB/1TB/windows 10 Home 64Bit/Integrated Graphics), Obsidian Black'"
   ]
  },
  {
   "cell_type": "code",
   "execution_count": 21,
   "metadata": {},
   "outputs": [],
   "source": [
    "#LET's ASSUME THAT THE GIVEN PRODUCT IS SEARCHED & CLICKED UPON\n",
    "Product = 'YI Dome Camera 1080p HD Pan/Tilt/Zoom Wireless IP Security Surveillance System Night Vision (US Edition)'\n",
    "\n",
    "#LOCATING THE DATA WITH SEARCHED PRODUCT\n",
    "df = finData.loc[finData['Product'] == Product]"
   ]
  },
  {
   "cell_type": "code",
   "execution_count": 22,
   "metadata": {},
   "outputs": [
    {
     "data": {
      "text/html": [
       "<div>\n",
       "<style scoped>\n",
       "    .dataframe tbody tr th:only-of-type {\n",
       "        vertical-align: middle;\n",
       "    }\n",
       "\n",
       "    .dataframe tbody tr th {\n",
       "        vertical-align: top;\n",
       "    }\n",
       "\n",
       "    .dataframe thead th {\n",
       "        text-align: right;\n",
       "    }\n",
       "</style>\n",
       "<table border=\"1\" class=\"dataframe\">\n",
       "  <thead>\n",
       "    <tr style=\"text-align: right;\">\n",
       "      <th></th>\n",
       "      <th>Seller</th>\n",
       "      <th>Rating</th>\n",
       "    </tr>\n",
       "  </thead>\n",
       "  <tbody>\n",
       "    <tr>\n",
       "      <th>0</th>\n",
       "      <td>SmartGlobal</td>\n",
       "      <td>12</td>\n",
       "    </tr>\n",
       "    <tr>\n",
       "      <th>1</th>\n",
       "      <td>Shop Your World Store</td>\n",
       "      <td>12</td>\n",
       "    </tr>\n",
       "    <tr>\n",
       "      <th>2</th>\n",
       "      <td>Peach Imports</td>\n",
       "      <td>12</td>\n",
       "    </tr>\n",
       "    <tr>\n",
       "      <th>3</th>\n",
       "      <td>NyCraze</td>\n",
       "      <td>12</td>\n",
       "    </tr>\n",
       "    <tr>\n",
       "      <th>4</th>\n",
       "      <td>Kiron</td>\n",
       "      <td>12</td>\n",
       "    </tr>\n",
       "    <tr>\n",
       "      <th>5</th>\n",
       "      <td>HelloYehlo</td>\n",
       "      <td>12</td>\n",
       "    </tr>\n",
       "    <tr>\n",
       "      <th>6</th>\n",
       "      <td>Headrush India</td>\n",
       "      <td>12</td>\n",
       "    </tr>\n",
       "    <tr>\n",
       "      <th>7</th>\n",
       "      <td>Exborders</td>\n",
       "      <td>12</td>\n",
       "    </tr>\n",
       "    <tr>\n",
       "      <th>8</th>\n",
       "      <td>Everfocus AV</td>\n",
       "      <td>12</td>\n",
       "    </tr>\n",
       "    <tr>\n",
       "      <th>9</th>\n",
       "      <td>Appario Retail Private Ltd</td>\n",
       "      <td>12</td>\n",
       "    </tr>\n",
       "  </tbody>\n",
       "</table>\n",
       "</div>"
      ],
      "text/plain": [
       "                       Seller  Rating\n",
       "0                 SmartGlobal      12\n",
       "1       Shop Your World Store      12\n",
       "2               Peach Imports      12\n",
       "3                     NyCraze      12\n",
       "4                       Kiron      12\n",
       "5                  HelloYehlo      12\n",
       "6              Headrush India      12\n",
       "7                   Exborders      12\n",
       "8                Everfocus AV      12\n",
       "9  Appario Retail Private Ltd      12"
      ]
     },
     "execution_count": 22,
     "metadata": {},
     "output_type": "execute_result"
    }
   ],
   "source": [
    "#FILTERING ONLY SELLER, PRICE & RATING\n",
    "df = df[['Seller', 'Price', 'Rating']]\n",
    "\n",
    "#SINCE THERE ARE MULTIPLE RATINGS ON A PARTICULAR SELLER FOR A PARTICULAR PRODUCT\n",
    "#NUMBER OF RATINGS RECEIVED BY EACH SELLER ON THE PRODUCT\n",
    "avg_rating_count = pd.DataFrame(df.groupby('Seller')['Rating'].count().sort_values(ascending=False)).reset_index()\n",
    "avg_rating_count"
   ]
  },
  {
   "cell_type": "code",
   "execution_count": 23,
   "metadata": {},
   "outputs": [
    {
     "data": {
      "text/html": [
       "<div>\n",
       "<style scoped>\n",
       "    .dataframe tbody tr th:only-of-type {\n",
       "        vertical-align: middle;\n",
       "    }\n",
       "\n",
       "    .dataframe tbody tr th {\n",
       "        vertical-align: top;\n",
       "    }\n",
       "\n",
       "    .dataframe thead th {\n",
       "        text-align: right;\n",
       "    }\n",
       "</style>\n",
       "<table border=\"1\" class=\"dataframe\">\n",
       "  <thead>\n",
       "    <tr style=\"text-align: right;\">\n",
       "      <th></th>\n",
       "      <th>Seller</th>\n",
       "      <th>Rating</th>\n",
       "    </tr>\n",
       "  </thead>\n",
       "  <tbody>\n",
       "    <tr>\n",
       "      <th>0</th>\n",
       "      <td>HelloYehlo</td>\n",
       "      <td>3.909091</td>\n",
       "    </tr>\n",
       "    <tr>\n",
       "      <th>1</th>\n",
       "      <td>Everfocus AV</td>\n",
       "      <td>3.800000</td>\n",
       "    </tr>\n",
       "    <tr>\n",
       "      <th>2</th>\n",
       "      <td>Kiron</td>\n",
       "      <td>3.416667</td>\n",
       "    </tr>\n",
       "    <tr>\n",
       "      <th>3</th>\n",
       "      <td>Headrush India</td>\n",
       "      <td>3.083333</td>\n",
       "    </tr>\n",
       "    <tr>\n",
       "      <th>4</th>\n",
       "      <td>Appario Retail Private Ltd</td>\n",
       "      <td>3.000000</td>\n",
       "    </tr>\n",
       "    <tr>\n",
       "      <th>5</th>\n",
       "      <td>Peach Imports</td>\n",
       "      <td>2.833333</td>\n",
       "    </tr>\n",
       "    <tr>\n",
       "      <th>6</th>\n",
       "      <td>SmartGlobal</td>\n",
       "      <td>2.750000</td>\n",
       "    </tr>\n",
       "    <tr>\n",
       "      <th>7</th>\n",
       "      <td>NyCraze</td>\n",
       "      <td>2.583333</td>\n",
       "    </tr>\n",
       "    <tr>\n",
       "      <th>8</th>\n",
       "      <td>Shop Your World Store</td>\n",
       "      <td>2.166667</td>\n",
       "    </tr>\n",
       "    <tr>\n",
       "      <th>9</th>\n",
       "      <td>Exborders</td>\n",
       "      <td>1.727273</td>\n",
       "    </tr>\n",
       "  </tbody>\n",
       "</table>\n",
       "</div>"
      ],
      "text/plain": [
       "                       Seller    Rating\n",
       "0                  HelloYehlo  3.909091\n",
       "1                Everfocus AV  3.800000\n",
       "2                       Kiron  3.416667\n",
       "3              Headrush India  3.083333\n",
       "4  Appario Retail Private Ltd  3.000000\n",
       "5               Peach Imports  2.833333\n",
       "6                 SmartGlobal  2.750000\n",
       "7                     NyCraze  2.583333\n",
       "8       Shop Your World Store  2.166667\n",
       "9                   Exborders  1.727273"
      ]
     },
     "execution_count": 23,
     "metadata": {},
     "output_type": "execute_result"
    }
   ],
   "source": [
    "#AVERAGE RATING RECEIVED BY EACH SELLER ON THE PRODUCT\n",
    "avg_rating = pd.DataFrame(df.groupby('Seller')['Rating'].mean().sort_values(ascending=False)).reset_index()\n",
    "avg_rating"
   ]
  },
  {
   "cell_type": "code",
   "execution_count": 24,
   "metadata": {},
   "outputs": [
    {
     "data": {
      "text/html": [
       "<div>\n",
       "<style scoped>\n",
       "    .dataframe tbody tr th:only-of-type {\n",
       "        vertical-align: middle;\n",
       "    }\n",
       "\n",
       "    .dataframe tbody tr th {\n",
       "        vertical-align: top;\n",
       "    }\n",
       "\n",
       "    .dataframe thead th {\n",
       "        text-align: right;\n",
       "    }\n",
       "</style>\n",
       "<table border=\"1\" class=\"dataframe\">\n",
       "  <thead>\n",
       "    <tr style=\"text-align: right;\">\n",
       "      <th></th>\n",
       "      <th>Seller</th>\n",
       "      <th>Price</th>\n",
       "    </tr>\n",
       "  </thead>\n",
       "  <tbody>\n",
       "    <tr>\n",
       "      <th>0</th>\n",
       "      <td>Headrush India</td>\n",
       "      <td>2544.500000</td>\n",
       "    </tr>\n",
       "    <tr>\n",
       "      <th>1</th>\n",
       "      <td>Kiron</td>\n",
       "      <td>2604.250000</td>\n",
       "    </tr>\n",
       "    <tr>\n",
       "      <th>2</th>\n",
       "      <td>Appario Retail Private Ltd</td>\n",
       "      <td>2613.666667</td>\n",
       "    </tr>\n",
       "    <tr>\n",
       "      <th>3</th>\n",
       "      <td>SmartGlobal</td>\n",
       "      <td>2653.750000</td>\n",
       "    </tr>\n",
       "    <tr>\n",
       "      <th>4</th>\n",
       "      <td>Peach Imports</td>\n",
       "      <td>2676.833333</td>\n",
       "    </tr>\n",
       "    <tr>\n",
       "      <th>5</th>\n",
       "      <td>Everfocus AV</td>\n",
       "      <td>2711.333333</td>\n",
       "    </tr>\n",
       "    <tr>\n",
       "      <th>6</th>\n",
       "      <td>Exborders</td>\n",
       "      <td>3016.333333</td>\n",
       "    </tr>\n",
       "    <tr>\n",
       "      <th>7</th>\n",
       "      <td>HelloYehlo</td>\n",
       "      <td>3125.000000</td>\n",
       "    </tr>\n",
       "    <tr>\n",
       "      <th>8</th>\n",
       "      <td>NyCraze</td>\n",
       "      <td>3148.333333</td>\n",
       "    </tr>\n",
       "    <tr>\n",
       "      <th>9</th>\n",
       "      <td>Shop Your World Store</td>\n",
       "      <td>3406.666667</td>\n",
       "    </tr>\n",
       "  </tbody>\n",
       "</table>\n",
       "</div>"
      ],
      "text/plain": [
       "                       Seller        Price\n",
       "0              Headrush India  2544.500000\n",
       "1                       Kiron  2604.250000\n",
       "2  Appario Retail Private Ltd  2613.666667\n",
       "3                 SmartGlobal  2653.750000\n",
       "4               Peach Imports  2676.833333\n",
       "5                Everfocus AV  2711.333333\n",
       "6                   Exborders  3016.333333\n",
       "7                  HelloYehlo  3125.000000\n",
       "8                     NyCraze  3148.333333\n",
       "9       Shop Your World Store  3406.666667"
      ]
     },
     "execution_count": 24,
     "metadata": {},
     "output_type": "execute_result"
    }
   ],
   "source": [
    "#AVERAGE OF PRICE PROVIDED BY EACH SELLER ON THE PRODUCT\n",
    "avg_price = pd.DataFrame(df.groupby('Seller')['Price'].mean().sort_values()).reset_index()\n",
    "avg_price"
   ]
  },
  {
   "cell_type": "code",
   "execution_count": 25,
   "metadata": {},
   "outputs": [
    {
     "data": {
      "text/html": [
       "<div>\n",
       "<style scoped>\n",
       "    .dataframe tbody tr th:only-of-type {\n",
       "        vertical-align: middle;\n",
       "    }\n",
       "\n",
       "    .dataframe tbody tr th {\n",
       "        vertical-align: top;\n",
       "    }\n",
       "\n",
       "    .dataframe thead th {\n",
       "        text-align: right;\n",
       "    }\n",
       "</style>\n",
       "<table border=\"1\" class=\"dataframe\">\n",
       "  <thead>\n",
       "    <tr style=\"text-align: right;\">\n",
       "      <th></th>\n",
       "      <th>Seller</th>\n",
       "      <th>Rating</th>\n",
       "      <th>Price</th>\n",
       "      <th>Count</th>\n",
       "    </tr>\n",
       "  </thead>\n",
       "  <tbody>\n",
       "    <tr>\n",
       "      <th>0</th>\n",
       "      <td>HelloYehlo</td>\n",
       "      <td>3.909091</td>\n",
       "      <td>3125.000000</td>\n",
       "      <td>12</td>\n",
       "    </tr>\n",
       "    <tr>\n",
       "      <th>1</th>\n",
       "      <td>Everfocus AV</td>\n",
       "      <td>3.800000</td>\n",
       "      <td>2711.333333</td>\n",
       "      <td>12</td>\n",
       "    </tr>\n",
       "    <tr>\n",
       "      <th>2</th>\n",
       "      <td>Kiron</td>\n",
       "      <td>3.416667</td>\n",
       "      <td>2604.250000</td>\n",
       "      <td>12</td>\n",
       "    </tr>\n",
       "    <tr>\n",
       "      <th>3</th>\n",
       "      <td>Headrush India</td>\n",
       "      <td>3.083333</td>\n",
       "      <td>2544.500000</td>\n",
       "      <td>12</td>\n",
       "    </tr>\n",
       "    <tr>\n",
       "      <th>4</th>\n",
       "      <td>Appario Retail Private Ltd</td>\n",
       "      <td>3.000000</td>\n",
       "      <td>2613.666667</td>\n",
       "      <td>12</td>\n",
       "    </tr>\n",
       "    <tr>\n",
       "      <th>5</th>\n",
       "      <td>Peach Imports</td>\n",
       "      <td>2.833333</td>\n",
       "      <td>2676.833333</td>\n",
       "      <td>12</td>\n",
       "    </tr>\n",
       "    <tr>\n",
       "      <th>6</th>\n",
       "      <td>SmartGlobal</td>\n",
       "      <td>2.750000</td>\n",
       "      <td>2653.750000</td>\n",
       "      <td>12</td>\n",
       "    </tr>\n",
       "    <tr>\n",
       "      <th>7</th>\n",
       "      <td>NyCraze</td>\n",
       "      <td>2.583333</td>\n",
       "      <td>3148.333333</td>\n",
       "      <td>12</td>\n",
       "    </tr>\n",
       "    <tr>\n",
       "      <th>8</th>\n",
       "      <td>Shop Your World Store</td>\n",
       "      <td>2.166667</td>\n",
       "      <td>3406.666667</td>\n",
       "      <td>12</td>\n",
       "    </tr>\n",
       "    <tr>\n",
       "      <th>9</th>\n",
       "      <td>Exborders</td>\n",
       "      <td>1.727273</td>\n",
       "      <td>3016.333333</td>\n",
       "      <td>12</td>\n",
       "    </tr>\n",
       "  </tbody>\n",
       "</table>\n",
       "</div>"
      ],
      "text/plain": [
       "                       Seller    Rating        Price  Count\n",
       "0                  HelloYehlo  3.909091  3125.000000     12\n",
       "1                Everfocus AV  3.800000  2711.333333     12\n",
       "2                       Kiron  3.416667  2604.250000     12\n",
       "3              Headrush India  3.083333  2544.500000     12\n",
       "4  Appario Retail Private Ltd  3.000000  2613.666667     12\n",
       "5               Peach Imports  2.833333  2676.833333     12\n",
       "6                 SmartGlobal  2.750000  2653.750000     12\n",
       "7                     NyCraze  2.583333  3148.333333     12\n",
       "8       Shop Your World Store  2.166667  3406.666667     12\n",
       "9                   Exborders  1.727273  3016.333333     12"
      ]
     },
     "execution_count": 25,
     "metadata": {},
     "output_type": "execute_result"
    }
   ],
   "source": [
    "#CREATING A NEW FRAME BASED ON SELLERS\n",
    "new_Frame = pd.merge(avg_rating,avg_price,on='Seller', how='outer')\n",
    "new_Frame = pd.merge(new_Frame,avg_rating_count,on='Seller', how='outer')\n",
    "new_Frame = new_Frame.rename(columns={'Rating_y':'Count','Rating_x':'Rating'})\n",
    "new_Frame\n"
   ]
  },
  {
   "cell_type": "code",
   "execution_count": 26,
   "metadata": {},
   "outputs": [
    {
     "data": {
      "text/html": [
       "<div>\n",
       "<style scoped>\n",
       "    .dataframe tbody tr th:only-of-type {\n",
       "        vertical-align: middle;\n",
       "    }\n",
       "\n",
       "    .dataframe tbody tr th {\n",
       "        vertical-align: top;\n",
       "    }\n",
       "\n",
       "    .dataframe thead th {\n",
       "        text-align: right;\n",
       "    }\n",
       "</style>\n",
       "<table border=\"1\" class=\"dataframe\">\n",
       "  <thead>\n",
       "    <tr style=\"text-align: right;\">\n",
       "      <th></th>\n",
       "      <th>Rating</th>\n",
       "      <th>Price</th>\n",
       "      <th>Count</th>\n",
       "    </tr>\n",
       "  </thead>\n",
       "  <tbody>\n",
       "    <tr>\n",
       "      <th>Rating</th>\n",
       "      <td>1.000000</td>\n",
       "      <td>-0.389156</td>\n",
       "      <td>NaN</td>\n",
       "    </tr>\n",
       "    <tr>\n",
       "      <th>Price</th>\n",
       "      <td>-0.389156</td>\n",
       "      <td>1.000000</td>\n",
       "      <td>NaN</td>\n",
       "    </tr>\n",
       "    <tr>\n",
       "      <th>Count</th>\n",
       "      <td>NaN</td>\n",
       "      <td>NaN</td>\n",
       "      <td>NaN</td>\n",
       "    </tr>\n",
       "  </tbody>\n",
       "</table>\n",
       "</div>"
      ],
      "text/plain": [
       "          Rating     Price  Count\n",
       "Rating  1.000000 -0.389156    NaN\n",
       "Price  -0.389156  1.000000    NaN\n",
       "Count        NaN       NaN    NaN"
      ]
     },
     "execution_count": 26,
     "metadata": {},
     "output_type": "execute_result"
    }
   ],
   "source": [
    "corr = new_Frame.corr()\n",
    "corr"
   ]
  },
  {
   "cell_type": "code",
   "execution_count": 27,
   "metadata": {},
   "outputs": [
    {
     "data": {
      "text/plain": [
       "<matplotlib.axes._subplots.AxesSubplot at 0x27bc8a84780>"
      ]
     },
     "execution_count": 27,
     "metadata": {},
     "output_type": "execute_result"
    },
    {
     "data": {
      "image/png": "[encoded data removed]",
      "text/plain": [
       "<Figure size 432x288 with 2 Axes>"
      ]
     },
     "metadata": {
      "needs_background": "light"
     },
     "output_type": "display_data"
    }
   ],
   "source": [
    "sns.heatmap(corr, annot=True, cmap='coolwarm')"
   ]
  },
  {
   "cell_type": "code",
   "execution_count": 28,
   "metadata": {},
   "outputs": [
    {
     "name": "stderr",
     "output_type": "stream",
     "text": [
      "C:\\Users\\Rahlsesite\\Anaconda3\\lib\\site-packages\\sklearn\\preprocessing\\data.py:323: DataConversionWarning: Data with input dtype int64, float64 were all converted to float64 by MinMaxScaler.\n",
      "  return self.partial_fit(X, y)\n"
     ]
    },
    {
     "data": {
      "text/plain": [
       "MinMaxScaler(copy=True, feature_range=(0, 5))"
      ]
     },
     "execution_count": 28,
     "metadata": {},
     "output_type": "execute_result"
    }
   ],
   "source": [
    "#SCALING DATA TO SCORE(0-5) \n",
    "from sklearn.preprocessing import MinMaxScaler\n",
    "data = new_Frame[['Price','Rating','Count']]\n",
    "scaler = MinMaxScaler(feature_range=(0, 5))\n",
    "scaler.fit(data)\n"
   ]
  },
  {
   "cell_type": "code",
   "execution_count": 29,
   "metadata": {},
   "outputs": [],
   "source": [
    "df = pd.DataFrame()"
   ]
  },
  {
   "cell_type": "code",
   "execution_count": 30,
   "metadata": {},
   "outputs": [
    {
     "data": {
      "text/html": [
       "<div>\n",
       "<style scoped>\n",
       "    .dataframe tbody tr th:only-of-type {\n",
       "        vertical-align: middle;\n",
       "    }\n",
       "\n",
       "    .dataframe tbody tr th {\n",
       "        vertical-align: top;\n",
       "    }\n",
       "\n",
       "    .dataframe thead th {\n",
       "        text-align: right;\n",
       "    }\n",
       "</style>\n",
       "<table border=\"1\" class=\"dataframe\">\n",
       "  <thead>\n",
       "    <tr style=\"text-align: right;\">\n",
       "      <th></th>\n",
       "      <th>0</th>\n",
       "      <th>1</th>\n",
       "      <th>2</th>\n",
       "    </tr>\n",
       "  </thead>\n",
       "  <tbody>\n",
       "    <tr>\n",
       "      <th>0</th>\n",
       "      <td>1.633482</td>\n",
       "      <td>5.000000</td>\n",
       "      <td>0.0</td>\n",
       "    </tr>\n",
       "    <tr>\n",
       "      <th>1</th>\n",
       "      <td>4.032476</td>\n",
       "      <td>4.750000</td>\n",
       "      <td>0.0</td>\n",
       "    </tr>\n",
       "    <tr>\n",
       "      <th>2</th>\n",
       "      <td>4.653489</td>\n",
       "      <td>3.871528</td>\n",
       "      <td>0.0</td>\n",
       "    </tr>\n",
       "    <tr>\n",
       "      <th>3</th>\n",
       "      <td>5.000000</td>\n",
       "      <td>3.107639</td>\n",
       "      <td>0.0</td>\n",
       "    </tr>\n",
       "    <tr>\n",
       "      <th>4</th>\n",
       "      <td>4.598879</td>\n",
       "      <td>2.916667</td>\n",
       "      <td>0.0</td>\n",
       "    </tr>\n",
       "    <tr>\n",
       "      <th>5</th>\n",
       "      <td>4.232554</td>\n",
       "      <td>2.534722</td>\n",
       "      <td>0.0</td>\n",
       "    </tr>\n",
       "    <tr>\n",
       "      <th>6</th>\n",
       "      <td>4.366422</td>\n",
       "      <td>2.343750</td>\n",
       "      <td>0.0</td>\n",
       "    </tr>\n",
       "    <tr>\n",
       "      <th>7</th>\n",
       "      <td>1.498164</td>\n",
       "      <td>1.961806</td>\n",
       "      <td>0.0</td>\n",
       "    </tr>\n",
       "    <tr>\n",
       "      <th>8</th>\n",
       "      <td>0.000000</td>\n",
       "      <td>1.006944</td>\n",
       "      <td>0.0</td>\n",
       "    </tr>\n",
       "    <tr>\n",
       "      <th>9</th>\n",
       "      <td>2.263677</td>\n",
       "      <td>0.000000</td>\n",
       "      <td>0.0</td>\n",
       "    </tr>\n",
       "  </tbody>\n",
       "</table>\n",
       "</div>"
      ],
      "text/plain": [
       "          0         1    2\n",
       "0  1.633482  5.000000  0.0\n",
       "1  4.032476  4.750000  0.0\n",
       "2  4.653489  3.871528  0.0\n",
       "3  5.000000  3.107639  0.0\n",
       "4  4.598879  2.916667  0.0\n",
       "5  4.232554  2.534722  0.0\n",
       "6  4.366422  2.343750  0.0\n",
       "7  1.498164  1.961806  0.0\n",
       "8  0.000000  1.006944  0.0\n",
       "9  2.263677  0.000000  0.0"
      ]
     },
     "execution_count": 30,
     "metadata": {},
     "output_type": "execute_result"
    }
   ],
   "source": [
    "df = pd.DataFrame(scaler.transform(data))\n",
    "\n",
    "#LOWER THE PRICE HIGHER THE SCORE, HENCE REVERSE SCALING\n",
    "df[0] = 5 - df[0]\n",
    "df"
   ]
  },
  {
   "cell_type": "code",
   "execution_count": 31,
   "metadata": {},
   "outputs": [],
   "source": [
    "#CALCULATING TOTAL SCORE\n",
    "df['result'] = df[0] + df[1] + df[2]"
   ]
  },
  {
   "cell_type": "code",
   "execution_count": 32,
   "metadata": {},
   "outputs": [],
   "source": [
    "new_Frame = new_Frame.join(df['result'])"
   ]
  },
  {
   "cell_type": "code",
   "execution_count": 33,
   "metadata": {},
   "outputs": [
    {
     "data": {
      "text/html": [
       "<div>\n",
       "<style scoped>\n",
       "    .dataframe tbody tr th:only-of-type {\n",
       "        vertical-align: middle;\n",
       "    }\n",
       "\n",
       "    .dataframe tbody tr th {\n",
       "        vertical-align: top;\n",
       "    }\n",
       "\n",
       "    .dataframe thead th {\n",
       "        text-align: right;\n",
       "    }\n",
       "</style>\n",
       "<table border=\"1\" class=\"dataframe\">\n",
       "  <thead>\n",
       "    <tr style=\"text-align: right;\">\n",
       "      <th></th>\n",
       "      <th>Seller</th>\n",
       "      <th>Rating</th>\n",
       "      <th>Price</th>\n",
       "      <th>Count</th>\n",
       "      <th>result</th>\n",
       "    </tr>\n",
       "  </thead>\n",
       "  <tbody>\n",
       "    <tr>\n",
       "      <th>0</th>\n",
       "      <td>HelloYehlo</td>\n",
       "      <td>3.909091</td>\n",
       "      <td>3125.000000</td>\n",
       "      <td>12</td>\n",
       "      <td>6.633482</td>\n",
       "    </tr>\n",
       "    <tr>\n",
       "      <th>1</th>\n",
       "      <td>Everfocus AV</td>\n",
       "      <td>3.800000</td>\n",
       "      <td>2711.333333</td>\n",
       "      <td>12</td>\n",
       "      <td>8.782476</td>\n",
       "    </tr>\n",
       "    <tr>\n",
       "      <th>2</th>\n",
       "      <td>Kiron</td>\n",
       "      <td>3.416667</td>\n",
       "      <td>2604.250000</td>\n",
       "      <td>12</td>\n",
       "      <td>8.525017</td>\n",
       "    </tr>\n",
       "    <tr>\n",
       "      <th>3</th>\n",
       "      <td>Headrush India</td>\n",
       "      <td>3.083333</td>\n",
       "      <td>2544.500000</td>\n",
       "      <td>12</td>\n",
       "      <td>8.107639</td>\n",
       "    </tr>\n",
       "    <tr>\n",
       "      <th>4</th>\n",
       "      <td>Appario Retail Private Ltd</td>\n",
       "      <td>3.000000</td>\n",
       "      <td>2613.666667</td>\n",
       "      <td>12</td>\n",
       "      <td>7.515545</td>\n",
       "    </tr>\n",
       "    <tr>\n",
       "      <th>5</th>\n",
       "      <td>Peach Imports</td>\n",
       "      <td>2.833333</td>\n",
       "      <td>2676.833333</td>\n",
       "      <td>12</td>\n",
       "      <td>6.767276</td>\n",
       "    </tr>\n",
       "    <tr>\n",
       "      <th>6</th>\n",
       "      <td>SmartGlobal</td>\n",
       "      <td>2.750000</td>\n",
       "      <td>2653.750000</td>\n",
       "      <td>12</td>\n",
       "      <td>6.710172</td>\n",
       "    </tr>\n",
       "    <tr>\n",
       "      <th>7</th>\n",
       "      <td>NyCraze</td>\n",
       "      <td>2.583333</td>\n",
       "      <td>3148.333333</td>\n",
       "      <td>12</td>\n",
       "      <td>3.459969</td>\n",
       "    </tr>\n",
       "    <tr>\n",
       "      <th>8</th>\n",
       "      <td>Shop Your World Store</td>\n",
       "      <td>2.166667</td>\n",
       "      <td>3406.666667</td>\n",
       "      <td>12</td>\n",
       "      <td>1.006944</td>\n",
       "    </tr>\n",
       "    <tr>\n",
       "      <th>9</th>\n",
       "      <td>Exborders</td>\n",
       "      <td>1.727273</td>\n",
       "      <td>3016.333333</td>\n",
       "      <td>12</td>\n",
       "      <td>2.263677</td>\n",
       "    </tr>\n",
       "  </tbody>\n",
       "</table>\n",
       "</div>"
      ],
      "text/plain": [
       "                       Seller    Rating        Price  Count    result\n",
       "0                  HelloYehlo  3.909091  3125.000000     12  6.633482\n",
       "1                Everfocus AV  3.800000  2711.333333     12  8.782476\n",
       "2                       Kiron  3.416667  2604.250000     12  8.525017\n",
       "3              Headrush India  3.083333  2544.500000     12  8.107639\n",
       "4  Appario Retail Private Ltd  3.000000  2613.666667     12  7.515545\n",
       "5               Peach Imports  2.833333  2676.833333     12  6.767276\n",
       "6                 SmartGlobal  2.750000  2653.750000     12  6.710172\n",
       "7                     NyCraze  2.583333  3148.333333     12  3.459969\n",
       "8       Shop Your World Store  2.166667  3406.666667     12  1.006944\n",
       "9                   Exborders  1.727273  3016.333333     12  2.263677"
      ]
     },
     "execution_count": 33,
     "metadata": {},
     "output_type": "execute_result"
    }
   ],
   "source": [
    "new_Frame"
   ]
  },
  {
   "cell_type": "code",
   "execution_count": 34,
   "metadata": {},
   "outputs": [
    {
     "data": {
      "text/plain": [
       "'Everfocus AV'"
      ]
     },
     "execution_count": 34,
     "metadata": {},
     "output_type": "execute_result"
    }
   ],
   "source": [
    "#RETURNING THE SELLER WITH HIGHEST SCORE\n",
    "pdr = new_Frame[new_Frame['result'] == new_Frame['result'].max()]\n",
    "x = pdr.iat[0,0]\n",
    "x\n",
    "\n"
   ]
  },
  {
   "cell_type": "code",
   "execution_count": 35,
   "metadata": {},
   "outputs": [],
   "source": [
    "#A FUNCTION WHICH TAKES PRODUCT NAME AND FINISHED DATASET TO RETURN A BEST SELLER FOR THE PRODUCT\n",
    "\n",
    "def Best_Seller(product,dataSet):\n",
    "    avg_rating_count = pd.DataFrame()\n",
    "    avg_rating = pd.DataFrame()\n",
    "    avg_price = pd.DataFrame()\n",
    "    df = pd.DataFrame()         \n",
    "    new_Frame = pd.DataFrame()\n",
    "    \n",
    "    df = dataSet.loc[dataSet['Product'] == product]\n",
    "    df = df[['Seller', 'Price', 'Rating']]\n",
    "        \n",
    "    avg_rating_count = pd.DataFrame(df.groupby('Seller')['Rating'].count().reset_index())\n",
    "    avg_rating = pd.DataFrame(df.groupby('Seller')['Rating'].mean().reset_index())\n",
    "    avg_price = pd.DataFrame(df.groupby('Seller')['Price'].mean().reset_index())\n",
    "    \n",
    "    new_Frame = pd.merge(avg_rating,avg_price,on='Seller', how='outer')\n",
    "    new_Frame = pd.merge(new_Frame,avg_rating_count,on='Seller', how='outer')\n",
    "    new_Frame = new_Frame.rename(columns={'Rating_y':'Count','Rating_x':'Rating'})\n",
    "      \n",
    "    data = new_Frame[['Price','Rating','Count']]\n",
    "    scaler = MinMaxScaler(feature_range=(0, 5))\n",
    "    scaler.fit(data)\n",
    "\n",
    "    df = pd.DataFrame()     \n",
    "    df = pd.DataFrame(scaler.transform(data))\n",
    "                             \n",
    "    df[0] = 5 - df[0]\n",
    "    df['result'] = df[0] + df[1] + df[2]\n",
    "    pdr = pd.DataFrame()\n",
    "    pdr = new_Frame[new_Frame['result'] == new_Frame['result'].max()]\n",
    "    x = pdr.iat[0,0]\n",
    "    return x.astype(str)"
   ]
  },
  {
   "cell_type": "code",
   "execution_count": 36,
   "metadata": {},
   "outputs": [],
   "source": [
    "pdf = pd.DataFrame(finData.groupby(['Product'])['Seller'].count()).reset_index()"
   ]
  },
  {
   "cell_type": "code",
   "execution_count": 37,
   "metadata": {},
   "outputs": [],
   "source": [
    "bestSeller = pdf[['Product']]"
   ]
  },
  {
   "cell_type": "code",
   "execution_count": 38,
   "metadata": {},
   "outputs": [],
   "source": [
    "serieA = pd.Series(bestSeller['Product'])"
   ]
  },
  {
   "cell_type": "code",
   "execution_count": 39,
   "metadata": {},
   "outputs": [],
   "source": [
    "x = serieA[0]"
   ]
  },
  {
   "cell_type": "code",
   "execution_count": 40,
   "metadata": {},
   "outputs": [],
   "source": [
    "finData.to_csv('D:/Trap.csv')"
   ]
  },
  {
   "cell_type": "code",
   "execution_count": 41,
   "metadata": {},
   "outputs": [],
   "source": [
    "df = pd.read_csv('D:/Trap.csv')"
   ]
  },
  {
   "cell_type": "code",
   "execution_count": 42,
   "metadata": {},
   "outputs": [],
   "source": [
    "df = df[['Product', 'Seller', 'Price', 'Rating']]"
   ]
  },
  {
   "cell_type": "code",
   "execution_count": null,
   "metadata": {},
   "outputs": [],
   "source": []
  },
  {
   "cell_type": "code",
   "execution_count": 97,
   "metadata": {},
   "outputs": [],
   "source": [
    "pr = pd.read_csv('D:/amazon1.csv')\n",
    "pe = pd.read_csv('D:/amazon2.csv')"
   ]
  },
  {
   "cell_type": "code",
   "execution_count": 98,
   "metadata": {},
   "outputs": [
    {
     "data": {
      "text/plain": [
       "Index(['web-scraper-order', 'web-scraper-start-url', 'Product', 'Product-href',\n",
       "       'Main_Pagination', 'Main_Pagination-href', 'Brand', 'ProductDesc',\n",
       "       'Sellers', 'Sellers-href', 'Seller_Price', 'Seller_Name',\n",
       "       'Seller_Name-href', 'Ratings'],\n",
       "      dtype='object')"
      ]
     },
     "execution_count": 98,
     "metadata": {},
     "output_type": "execute_result"
    }
   ],
   "source": [
    "pr.columns"
   ]
  },
  {
   "cell_type": "code",
   "execution_count": 99,
   "metadata": {},
   "outputs": [
    {
     "data": {
      "text/plain": [
       "Index(['web-scraper-order', 'web-scraper-start-url', 'Product', 'Product-href',\n",
       "       'Pagination', 'Pagination-href', 'Brand', 'ProductDesc', 'Sellers',\n",
       "       'Sellers-href', 'Price', 'Seller_Name', 'Seller_Name-href', 'Ratings'],\n",
       "      dtype='object')"
      ]
     },
     "execution_count": 99,
     "metadata": {},
     "output_type": "execute_result"
    }
   ],
   "source": [
    "pe.columns"
   ]
  },
  {
   "cell_type": "code",
   "execution_count": 100,
   "metadata": {},
   "outputs": [],
   "source": [
    "pr = pr[['Product','Brand','ProductDesc','Seller_Price','Seller_Name','Ratings']]"
   ]
  },
  {
   "cell_type": "code",
   "execution_count": 101,
   "metadata": {},
   "outputs": [],
   "source": [
    "pr['Seller_Price'] = pr.groupby(['Product','Brand'], sort=False)['Seller_Price'].apply(lambda x: x.ffill().bfill())"
   ]
  },
  {
   "cell_type": "code",
   "execution_count": 102,
   "metadata": {},
   "outputs": [
    {
     "data": {
      "text/plain": [
       "<matplotlib.axes._subplots.AxesSubplot at 0x27bca0025f8>"
      ]
     },
     "execution_count": 102,
     "metadata": {},
     "output_type": "execute_result"
    },
    {
     "data": {
      "image/png": "[encoded data removed]",
      "text/plain": [
       "<Figure size 432x288 with 1 Axes>"
      ]
     },
     "metadata": {
      "needs_background": "light"
     },
     "output_type": "display_data"
    }
   ],
   "source": [
    "sns.heatmap(pr.isnull(),yticklabels=False,cbar=False)"
   ]
  },
  {
   "cell_type": "code",
   "execution_count": 103,
   "metadata": {},
   "outputs": [],
   "source": [
    "pr = pr[pd.notnull(pr['Seller_Name'])]"
   ]
  },
  {
   "cell_type": "code",
   "execution_count": 104,
   "metadata": {},
   "outputs": [
    {
     "data": {
      "text/plain": [
       "<matplotlib.axes._subplots.AxesSubplot at 0x27bca11ce10>"
      ]
     },
     "execution_count": 104,
     "metadata": {},
     "output_type": "execute_result"
    },
    {
     "data": {
      "image/png": "[encoded data removed]",
      "text/plain": [
       "<Figure size 432x288 with 1 Axes>"
      ]
     },
     "metadata": {
      "needs_background": "light"
     },
     "output_type": "display_data"
    }
   ],
   "source": [
    "sns.heatmap(pr.isnull(),yticklabels=False,cbar=False)"
   ]
  },
  {
   "cell_type": "code",
   "execution_count": 105,
   "metadata": {},
   "outputs": [],
   "source": [
    "pr = pr[pd.notnull(pr['ProductDesc'])]"
   ]
  },
  {
   "cell_type": "code",
   "execution_count": 106,
   "metadata": {},
   "outputs": [
    {
     "data": {
      "text/plain": [
       "(423, 6)"
      ]
     },
     "execution_count": 106,
     "metadata": {},
     "output_type": "execute_result"
    }
   ],
   "source": [
    "pr.shape"
   ]
  },
  {
   "cell_type": "code",
   "execution_count": 107,
   "metadata": {},
   "outputs": [
    {
     "data": {
      "text/plain": [
       "(404, 6)"
      ]
     },
     "execution_count": 107,
     "metadata": {},
     "output_type": "execute_result"
    },
    {
     "data": {
      "image/png": "[encoded data removed]",
      "text/plain": [
       "<Figure size 432x288 with 1 Axes>"
      ]
     },
     "metadata": {
      "needs_background": "light"
     },
     "output_type": "display_data"
    }
   ],
   "source": [
    "pe = pe[['Product','Brand', 'ProductDesc','Price', 'Seller_Name','Ratings']]\n",
    "pe['Price'] = pe.groupby(['Product','Brand'], sort=False)['Price'].apply(lambda x: x.ffill().bfill())\n",
    "pe = pe[pd.notnull(pe['Seller_Name'])]\n",
    "pe = pe[pd.notnull(pe['ProductDesc'])]\n",
    "sns.heatmap(pe.isnull(),yticklabels=False,cbar=False)\n",
    "pe.shape"
   ]
  },
  {
   "cell_type": "code",
   "execution_count": 108,
   "metadata": {},
   "outputs": [
    {
     "data": {
      "text/plain": [
       "Index(['Product', 'Brand', 'Decription', 'Price', 'Seller', 'Ratings'], dtype='object')"
      ]
     },
     "execution_count": 108,
     "metadata": {},
     "output_type": "execute_result"
    }
   ],
   "source": [
    "pr = pr.rename(columns={'Seller_Price': 'Price', 'Seller_Name': 'Seller','ProductDesc':'Decription'})\n",
    "pe = pe.rename(columns={'Seller_Name': 'Seller','ProductDesc':'Decription'})\n",
    "pr.columns"
   ]
  },
  {
   "cell_type": "code",
   "execution_count": 109,
   "metadata": {},
   "outputs": [
    {
     "data": {
      "text/plain": [
       "Index(['Product', 'Brand', 'Decription', 'Price', 'Seller', 'Ratings'], dtype='object')"
      ]
     },
     "execution_count": 109,
     "metadata": {},
     "output_type": "execute_result"
    }
   ],
   "source": [
    "pe.columns"
   ]
  },
  {
   "cell_type": "code",
   "execution_count": 110,
   "metadata": {},
   "outputs": [],
   "source": [
    "finSet = pd.concat([pr,pe], axis=0)"
   ]
  },
  {
   "cell_type": "code",
   "execution_count": 111,
   "metadata": {},
   "outputs": [
    {
     "data": {
      "text/plain": [
       "(827, 6)"
      ]
     },
     "execution_count": 111,
     "metadata": {},
     "output_type": "execute_result"
    }
   ],
   "source": [
    "finSet.shape"
   ]
  },
  {
   "cell_type": "code",
   "execution_count": 112,
   "metadata": {},
   "outputs": [
    {
     "data": {
      "text/html": [
       "<div>\n",
       "<style scoped>\n",
       "    .dataframe tbody tr th:only-of-type {\n",
       "        vertical-align: middle;\n",
       "    }\n",
       "\n",
       "    .dataframe tbody tr th {\n",
       "        vertical-align: top;\n",
       "    }\n",
       "\n",
       "    .dataframe thead th {\n",
       "        text-align: right;\n",
       "    }\n",
       "</style>\n",
       "<table border=\"1\" class=\"dataframe\">\n",
       "  <thead>\n",
       "    <tr style=\"text-align: right;\">\n",
       "      <th></th>\n",
       "      <th>Product</th>\n",
       "      <th>Brand</th>\n",
       "      <th>Decription</th>\n",
       "      <th>Price</th>\n",
       "      <th>Seller</th>\n",
       "      <th>Ratings</th>\n",
       "    </tr>\n",
       "  </thead>\n",
       "  <tbody>\n",
       "    <tr>\n",
       "      <th>0</th>\n",
       "      <td>LG 80 cm (32 Inches) HD Ready LED Smart TV 32L...</td>\n",
       "      <td>LG</td>\n",
       "      <td>ThinQ AI, Size (cm) 80cm (32), Active HDR, Mag...</td>\n",
       "      <td>Rs. 28,900.00</td>\n",
       "      <td>Galaxy Shopee</td>\n",
       "      <td>5 out of 5 stars</td>\n",
       "    </tr>\n",
       "    <tr>\n",
       "      <th>1</th>\n",
       "      <td>LG 139 cm (55 Inches) 4K UHD LED Smart TV 55UK...</td>\n",
       "      <td>LG</td>\n",
       "      <td>Size name:55 inches\\n            \\n          \\...</td>\n",
       "      <td>Rs. 74,999.00</td>\n",
       "      <td>Galaxy Shopee</td>\n",
       "      <td>5 out of 5 stars</td>\n",
       "    </tr>\n",
       "    <tr>\n",
       "      <th>2</th>\n",
       "      <td>Samsung 59 cm (24 Inches) HD Ready LED TV 24K4...</td>\n",
       "      <td>Samsung</td>\n",
       "      <td>59cm (24) HD Flat TV K4100 Series 4 (UA24K4100...</td>\n",
       "      <td>Rs. 10,999.00</td>\n",
       "      <td>Cloudtail India</td>\n",
       "      <td>3 out of 5 stars</td>\n",
       "    </tr>\n",
       "    <tr>\n",
       "      <th>3</th>\n",
       "      <td>Kodak 140 cm (55 inches) UHD 55UHDXSMART 4K Ul...</td>\n",
       "      <td>Kodak</td>\n",
       "      <td>What is it like to have the Kodak Ultra HD LED...</td>\n",
       "      <td>Rs. 36,990.00</td>\n",
       "      <td>Cloudtail India</td>\n",
       "      <td>3 out of 5 stars</td>\n",
       "    </tr>\n",
       "    <tr>\n",
       "      <th>4</th>\n",
       "      <td>LG 139 cm (55 Inches) 4K UHD LED Smart TV 55UK...</td>\n",
       "      <td>LG</td>\n",
       "      <td>Size name:55 inches\\n            \\n          \\...</td>\n",
       "      <td>Rs. 74,999.00</td>\n",
       "      <td>Cloud6</td>\n",
       "      <td>4 out of 5 stars</td>\n",
       "    </tr>\n",
       "  </tbody>\n",
       "</table>\n",
       "</div>"
      ],
      "text/plain": [
       "                                             Product    Brand  \\\n",
       "0  LG 80 cm (32 Inches) HD Ready LED Smart TV 32L...       LG   \n",
       "1  LG 139 cm (55 Inches) 4K UHD LED Smart TV 55UK...       LG   \n",
       "2  Samsung 59 cm (24 Inches) HD Ready LED TV 24K4...  Samsung   \n",
       "3  Kodak 140 cm (55 inches) UHD 55UHDXSMART 4K Ul...    Kodak   \n",
       "4  LG 139 cm (55 Inches) 4K UHD LED Smart TV 55UK...       LG   \n",
       "\n",
       "                                          Decription          Price  \\\n",
       "0  ThinQ AI, Size (cm) 80cm (32), Active HDR, Mag...  Rs. 28,900.00   \n",
       "1  Size name:55 inches\\n            \\n          \\...  Rs. 74,999.00   \n",
       "2  59cm (24) HD Flat TV K4100 Series 4 (UA24K4100...  Rs. 10,999.00   \n",
       "3  What is it like to have the Kodak Ultra HD LED...  Rs. 36,990.00   \n",
       "4  Size name:55 inches\\n            \\n          \\...  Rs. 74,999.00   \n",
       "\n",
       "            Seller           Ratings  \n",
       "0    Galaxy Shopee  5 out of 5 stars  \n",
       "1    Galaxy Shopee  5 out of 5 stars  \n",
       "2  Cloudtail India  3 out of 5 stars  \n",
       "3  Cloudtail India  3 out of 5 stars  \n",
       "4           Cloud6  4 out of 5 stars  "
      ]
     },
     "execution_count": 112,
     "metadata": {},
     "output_type": "execute_result"
    }
   ],
   "source": [
    "finSet.head()"
   ]
  },
  {
   "cell_type": "code",
   "execution_count": 113,
   "metadata": {},
   "outputs": [],
   "source": [
    "rate = finSet['Ratings']\n",
    "price = finSet['Price']\n",
    "x = rate.values\n",
    "y = price.values\n",
    "pr = pd.Series(x).str.replace(' out of 5 stars', '', regex=True)\n",
    "finSet['Ratings'] = pr\n",
    "pr2 = pd.Series(y).str.replace('Rs. ', '', regex=True)\n",
    "pr3 = pd.Series(pr2).str.replace(',', '', regex=True)\n",
    "finSet['Price'] = pr3"
   ]
  },
  {
   "cell_type": "code",
   "execution_count": 114,
   "metadata": {},
   "outputs": [
    {
     "data": {
      "text/html": [
       "<div>\n",
       "<style scoped>\n",
       "    .dataframe tbody tr th:only-of-type {\n",
       "        vertical-align: middle;\n",
       "    }\n",
       "\n",
       "    .dataframe tbody tr th {\n",
       "        vertical-align: top;\n",
       "    }\n",
       "\n",
       "    .dataframe thead th {\n",
       "        text-align: right;\n",
       "    }\n",
       "</style>\n",
       "<table border=\"1\" class=\"dataframe\">\n",
       "  <thead>\n",
       "    <tr style=\"text-align: right;\">\n",
       "      <th></th>\n",
       "      <th>Product</th>\n",
       "      <th>Brand</th>\n",
       "      <th>Decription</th>\n",
       "      <th>Price</th>\n",
       "      <th>Seller</th>\n",
       "      <th>Ratings</th>\n",
       "    </tr>\n",
       "  </thead>\n",
       "  <tbody>\n",
       "    <tr>\n",
       "      <th>0</th>\n",
       "      <td>LG 80 cm (32 Inches) HD Ready LED Smart TV 32L...</td>\n",
       "      <td>LG</td>\n",
       "      <td>ThinQ AI, Size (cm) 80cm (32), Active HDR, Mag...</td>\n",
       "      <td>28900.00</td>\n",
       "      <td>Galaxy Shopee</td>\n",
       "      <td>5</td>\n",
       "    </tr>\n",
       "    <tr>\n",
       "      <th>1</th>\n",
       "      <td>LG 139 cm (55 Inches) 4K UHD LED Smart TV 55UK...</td>\n",
       "      <td>LG</td>\n",
       "      <td>Size name:55 inches\\n            \\n          \\...</td>\n",
       "      <td>74999.00</td>\n",
       "      <td>Galaxy Shopee</td>\n",
       "      <td>5</td>\n",
       "    </tr>\n",
       "    <tr>\n",
       "      <th>2</th>\n",
       "      <td>Samsung 59 cm (24 Inches) HD Ready LED TV 24K4...</td>\n",
       "      <td>Samsung</td>\n",
       "      <td>59cm (24) HD Flat TV K4100 Series 4 (UA24K4100...</td>\n",
       "      <td>10999.00</td>\n",
       "      <td>Cloudtail India</td>\n",
       "      <td>3</td>\n",
       "    </tr>\n",
       "    <tr>\n",
       "      <th>3</th>\n",
       "      <td>Kodak 140 cm (55 inches) UHD 55UHDXSMART 4K Ul...</td>\n",
       "      <td>Kodak</td>\n",
       "      <td>What is it like to have the Kodak Ultra HD LED...</td>\n",
       "      <td>36990.00</td>\n",
       "      <td>Cloudtail India</td>\n",
       "      <td>3</td>\n",
       "    </tr>\n",
       "    <tr>\n",
       "      <th>4</th>\n",
       "      <td>LG 139 cm (55 Inches) 4K UHD LED Smart TV 55UK...</td>\n",
       "      <td>LG</td>\n",
       "      <td>Size name:55 inches\\n            \\n          \\...</td>\n",
       "      <td>74999.00</td>\n",
       "      <td>Cloud6</td>\n",
       "      <td>4</td>\n",
       "    </tr>\n",
       "  </tbody>\n",
       "</table>\n",
       "</div>"
      ],
      "text/plain": [
       "                                             Product    Brand  \\\n",
       "0  LG 80 cm (32 Inches) HD Ready LED Smart TV 32L...       LG   \n",
       "1  LG 139 cm (55 Inches) 4K UHD LED Smart TV 55UK...       LG   \n",
       "2  Samsung 59 cm (24 Inches) HD Ready LED TV 24K4...  Samsung   \n",
       "3  Kodak 140 cm (55 inches) UHD 55UHDXSMART 4K Ul...    Kodak   \n",
       "4  LG 139 cm (55 Inches) 4K UHD LED Smart TV 55UK...       LG   \n",
       "\n",
       "                                          Decription     Price  \\\n",
       "0  ThinQ AI, Size (cm) 80cm (32), Active HDR, Mag...  28900.00   \n",
       "1  Size name:55 inches\\n            \\n          \\...  74999.00   \n",
       "2  59cm (24) HD Flat TV K4100 Series 4 (UA24K4100...  10999.00   \n",
       "3  What is it like to have the Kodak Ultra HD LED...  36990.00   \n",
       "4  Size name:55 inches\\n            \\n          \\...  74999.00   \n",
       "\n",
       "            Seller Ratings  \n",
       "0    Galaxy Shopee       5  \n",
       "1    Galaxy Shopee       5  \n",
       "2  Cloudtail India       3  \n",
       "3  Cloudtail India       3  \n",
       "4           Cloud6       4  "
      ]
     },
     "execution_count": 114,
     "metadata": {},
     "output_type": "execute_result"
    }
   ],
   "source": [
    "finSet.head()"
   ]
  },
  {
   "cell_type": "code",
   "execution_count": 116,
   "metadata": {},
   "outputs": [
    {
     "data": {
      "text/plain": [
       "(827, 6)"
      ]
     },
     "execution_count": 116,
     "metadata": {},
     "output_type": "execute_result"
    }
   ],
   "source": [
    "finSet.shape"
   ]
  },
  {
   "cell_type": "code",
   "execution_count": 118,
   "metadata": {},
   "outputs": [],
   "source": [
    "finSet.to_csv('D:/Finish1.csv')"
   ]
  },
  {
   "cell_type": "code",
   "execution_count": null,
   "metadata": {},
   "outputs": [],
   "source": []
  }
 ],
 "metadata": {
  "kernelspec": {
   "display_name": "Python 3",
   "language": "python",
   "name": "python3"
  },
  "language_info": {
   "codemirror_mode": {
    "name": "ipython",
    "version": 3
   },
   "file_extension": ".py",
   "mimetype": "text/x-python",
   "name": "python",
   "nbconvert_exporter": "python",
   "pygments_lexer": "ipython3",
   "version": "3.7.1"
  }
 },
 "nbformat": 4,
 "nbformat_minor": 2
}
