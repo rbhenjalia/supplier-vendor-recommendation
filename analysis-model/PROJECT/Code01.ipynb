{
 "cells": [
  {
   "cell_type": "code",
   "execution_count": 1,
   "metadata": {},
   "outputs": [],
   "source": [
    "import pandas as pd\n",
    "import numpy as np\n",
    "import matplotlib.pyplot as plt\n",
    "import seaborn as sns\n",
    "import ast\n",
    "from ast import literal_eval\n",
    "from collections import defaultdict\n",
    "%matplotlib inline\n",
    "import random\n",
    "from sklearn.preprocessing import MinMaxScaler"
   ]
  },
  {
   "cell_type": "code",
   "execution_count": 3,
   "metadata": {},
   "outputs": [],
   "source": [
    "data = pd.read_csv('D:/DST/FinalData.csv')\n",
    "data = data[['MultiLink', 'Product', 'Brand', 'Seller', 'Price', 'FeedBack_Rating', 'Product_Rating', 'Packaging_Rating', 'Courier_Rating']] "
   ]
  },
  {
   "cell_type": "code",
   "execution_count": 5,
   "metadata": {},
   "outputs": [],
   "source": [
    "df =  data[['FeedBack_Rating', 'Product_Rating', 'Packaging_Rating', 'Courier_Rating']] \n",
    "corr = df.corr()"
   ]
  },
  {
   "cell_type": "code",
   "execution_count": 6,
   "metadata": {},
   "outputs": [
    {
     "name": "stderr",
     "output_type": "stream",
     "text": [
      "C:\\Users\\Rahlsesite\\Anaconda3\\lib\\site-packages\\ipykernel_launcher.py:6: SettingWithCopyWarning: \n",
      "A value is trying to be set on a copy of a slice from a DataFrame.\n",
      "Try using .loc[row_indexer,col_indexer] = value instead\n",
      "\n",
      "See the caveats in the documentation: http://pandas.pydata.org/pandas-docs/stable/indexing.html#indexing-view-versus-copy\n",
      "  \n"
     ]
    }
   ],
   "source": [
    "lis = ['FeedBack_Rating','Courier_Rating','Product_Rating','Packaging_Rating']\n",
    "corr = df.corr()\n",
    "for i in np.arange(0,4):\n",
    "    sr = lis[i]+'_Score'\n",
    "    corrList = corr[lis[i]]\n",
    "    df[sr] = (corrList[0]*df['FeedBack_Rating']) + (corrList[1]*df['Courier_Rating']) + (corrList[2]*df['Product_Rating']) + (corrList[3]*df['Packaging_Rating'])\n",
    "datar = df[['FeedBack_Rating_Score', 'Courier_Rating_Score', 'Product_Rating_Score', 'Packaging_Rating_Score']]\n",
    "scaler = MinMaxScaler(feature_range=(0, 5))\n",
    "scaler.fit(datar)\n",
    "dr = pd.DataFrame(scaler.transform(datar))\n",
    "data['ALL_OVER'] = dr[[0,1,2,3]].mean(axis=1)"
   ]
  },
  {
   "cell_type": "code",
   "execution_count": 7,
   "metadata": {},
   "outputs": [],
   "source": [
    "fin = data[[ 'FeedBack_Rating', 'Product_Rating', 'Packaging_Rating', 'Courier_Rating','ALL_OVER']]"
   ]
  },
  {
   "cell_type": "code",
   "execution_count": 8,
   "metadata": {},
   "outputs": [],
   "source": [
    "d1 = pd.DataFrame(data.groupby('Seller')['FeedBack_Rating'].mean())\n",
    "d3 = pd.DataFrame(data.groupby('Seller')['Product_Rating'].mean())\n",
    "d4 = pd.DataFrame(data.groupby('Seller')['Packaging_Rating'].mean())\n",
    "d2 = pd.DataFrame(data.groupby('Seller')['Courier_Rating'].mean())\n",
    "f1 =  pd.merge(d1,d2 , on=['Seller'])\n",
    "f2 =  pd.merge(d3,d4 , on=['Seller'])\n",
    "f =  pd.merge(f1,f2 , on=['Seller'])\n",
    "f = f.reset_index()\n",
    "\n",
    "fin = f[[ 'FeedBack_Rating', 'Product_Rating', 'Packaging_Rating', 'Courier_Rating']]\n",
    "corr = fin.corr()\n",
    "lis = ['FeedBack_Rating','Product_Rating','Packaging_Rating','Courier_Rating']\n",
    "\n",
    "for i in np.arange(0,4):\n",
    "    sr = lis[i]+'_Score'\n",
    "    corrList = corr[lis[i]]\n",
    "    fin[sr] = (corrList[0]*fin['FeedBack_Rating']) + (corrList[1]*fin['Product_Rating']) + (corrList[2]*fin['Packaging_Rating']) + (corrList[3]*fin['Courier_Rating'])\n",
    "    \n",
    "datar = fin[['FeedBack_Rating_Score', 'Product_Rating_Score',   'Packaging_Rating_Score', 'Courier_Rating_Score']]\n",
    "scaler = MinMaxScaler(feature_range=(0, 5))\n",
    "scaler.fit(datar)\n",
    "dr = pd.DataFrame(scaler.transform(datar))\n",
    "f['ALL_OVER'] = dr[[0,1,2,3]].mean(axis=1)\n",
    "f.to_csv('D:/DST/Seller_Wise_Ratings.csv')"
   ]
  },
  {
   "cell_type": "code",
   "execution_count": 9,
   "metadata": {},
   "outputs": [
    {
     "name": "stderr",
     "output_type": "stream",
     "text": [
      "C:\\Users\\Rahlsesite\\Anaconda3\\lib\\site-packages\\ipykernel_launcher.py:17: SettingWithCopyWarning: \n",
      "A value is trying to be set on a copy of a slice from a DataFrame.\n",
      "Try using .loc[row_indexer,col_indexer] = value instead\n",
      "\n",
      "See the caveats in the documentation: http://pandas.pydata.org/pandas-docs/stable/indexing.html#indexing-view-versus-copy\n"
     ]
    }
   ],
   "source": [
    "d1 = pd.DataFrame(data.groupby(['Seller','Brand'])['FeedBack_Rating'].mean())\n",
    "d3 = pd.DataFrame(data.groupby(['Seller','Brand'])['Product_Rating'].mean())\n",
    "d4 = pd.DataFrame(data.groupby(['Seller','Brand'])['Packaging_Rating'].mean())\n",
    "d2 = pd.DataFrame(data.groupby(['Seller','Brand'])['Courier_Rating'].mean())\n",
    "f1 =  pd.merge(d1,d2 , on=['Seller','Brand'])\n",
    "f2 =  pd.merge(d3,d4 , on=['Seller','Brand'])\n",
    "f =  pd.merge(f1,f2 , on=['Seller','Brand'])\n",
    "f = f.reset_index()\n",
    "\n",
    "fin = f[[ 'FeedBack_Rating', 'Product_Rating', 'Packaging_Rating', 'Courier_Rating']]\n",
    "corr = fin.corr()\n",
    "lis = ['FeedBack_Rating','Product_Rating','Packaging_Rating','Courier_Rating']\n",
    "\n",
    "for i in np.arange(0,4):\n",
    "    sr = lis[i]+'_Score'\n",
    "    corrList = corr[lis[i]]\n",
    "    fin[sr] = (corrList[0]*fin['FeedBack_Rating']) + (corrList[1]*fin['Product_Rating']) + (corrList[2]*fin['Packaging_Rating']) + (corrList[3]*fin['Courier_Rating'])\n",
    "    \n",
    "datar = fin[['FeedBack_Rating_Score', 'Product_Rating_Score',   'Packaging_Rating_Score', 'Courier_Rating_Score']]\n",
    "scaler = MinMaxScaler(feature_range=(0, 5))\n",
    "scaler.fit(datar)\n",
    "dr = pd.DataFrame(scaler.transform(datar))\n",
    "f['ALL_OVER'] = dr[[0,1,2,3]].mean(axis=1)\n",
    "f.to_csv('D:/DST/Seller_Brand_Ratings.csv')"
   ]
  },
  {
   "cell_type": "code",
   "execution_count": 10,
   "metadata": {},
   "outputs": [
    {
     "name": "stderr",
     "output_type": "stream",
     "text": [
      "C:\\Users\\Rahlsesite\\Anaconda3\\lib\\site-packages\\ipykernel_launcher.py:17: SettingWithCopyWarning: \n",
      "A value is trying to be set on a copy of a slice from a DataFrame.\n",
      "Try using .loc[row_indexer,col_indexer] = value instead\n",
      "\n",
      "See the caveats in the documentation: http://pandas.pydata.org/pandas-docs/stable/indexing.html#indexing-view-versus-copy\n"
     ]
    }
   ],
   "source": [
    "d1 = pd.DataFrame(data.groupby(['Seller','MultiLink'])['FeedBack_Rating'].mean())\n",
    "d3 = pd.DataFrame(data.groupby(['Seller','MultiLink'])['Product_Rating'].mean())\n",
    "d4 = pd.DataFrame(data.groupby(['Seller','MultiLink'])['Packaging_Rating'].mean())\n",
    "d2 = pd.DataFrame(data.groupby(['Seller','MultiLink'])['Courier_Rating'].mean())\n",
    "f1 =  pd.merge(d1,d2 , on=['Seller','MultiLink'])\n",
    "f2 =  pd.merge(d3,d4 , on=['Seller','MultiLink'])\n",
    "f =  pd.merge(f1,f2 , on=['Seller','MultiLink'])\n",
    "f = f.reset_index()\n",
    "\n",
    "fin = f[[ 'FeedBack_Rating', 'Product_Rating', 'Packaging_Rating', 'Courier_Rating']]\n",
    "corr = fin.corr()\n",
    "lis = ['FeedBack_Rating','Product_Rating','Packaging_Rating','Courier_Rating']\n",
    "\n",
    "for i in np.arange(0,4):\n",
    "    sr = lis[i]+'_Score'\n",
    "    corrList = corr[lis[i]]\n",
    "    fin[sr] = (corrList[0]*fin['FeedBack_Rating']) + (corrList[1]*fin['Product_Rating']) + (corrList[2]*fin['Packaging_Rating']) + (corrList[3]*fin['Courier_Rating'])\n",
    "    \n",
    "datar = fin[['FeedBack_Rating_Score', 'Product_Rating_Score',   'Packaging_Rating_Score', 'Courier_Rating_Score']]\n",
    "scaler = MinMaxScaler(feature_range=(0, 5))\n",
    "scaler.fit(datar)\n",
    "dr = pd.DataFrame(scaler.transform(datar))\n",
    "f['ALL_OVER'] = dr[[0,1,2,3]].mean(axis=1)\n",
    "f.to_csv('D:/DST/Seller_Category_Ratings.csv')"
   ]
  },
  {
   "cell_type": "code",
   "execution_count": 12,
   "metadata": {},
   "outputs": [
    {
     "name": "stderr",
     "output_type": "stream",
     "text": [
      "C:\\Users\\Rahlsesite\\Anaconda3\\lib\\site-packages\\ipykernel_launcher.py:17: SettingWithCopyWarning: \n",
      "A value is trying to be set on a copy of a slice from a DataFrame.\n",
      "Try using .loc[row_indexer,col_indexer] = value instead\n",
      "\n",
      "See the caveats in the documentation: http://pandas.pydata.org/pandas-docs/stable/indexing.html#indexing-view-versus-copy\n"
     ]
    }
   ],
   "source": [
    "d1 = pd.DataFrame(data.groupby(['MultiLink','Seller'])['FeedBack_Rating'].mean())\n",
    "d3 = pd.DataFrame(data.groupby(['MultiLink','Seller'])['Product_Rating'].mean())\n",
    "d4 = pd.DataFrame(data.groupby(['MultiLink','Seller'])['Packaging_Rating'].mean())\n",
    "d2 = pd.DataFrame(data.groupby(['MultiLink','Seller'])['Courier_Rating'].mean())\n",
    "f1 =  pd.merge(d1,d2 , on=['MultiLink','Seller'])\n",
    "f2 =  pd.merge(d3,d4 , on=['MultiLink','Seller'])\n",
    "f =  pd.merge(f1,f2 , on=['MultiLink','Seller'])\n",
    "f = f.reset_index()\n",
    "\n",
    "fin = f[[ 'FeedBack_Rating', 'Product_Rating', 'Packaging_Rating', 'Courier_Rating']]\n",
    "corr = fin.corr()\n",
    "lis = ['FeedBack_Rating','Product_Rating','Packaging_Rating','Courier_Rating']\n",
    "\n",
    "for i in np.arange(0,4):\n",
    "    sr = lis[i]+'_Score'\n",
    "    corrList = corr[lis[i]]\n",
    "    fin[sr] = (corrList[0]*fin['FeedBack_Rating']) + (corrList[1]*fin['Product_Rating']) + (corrList[2]*fin['Packaging_Rating']) + (corrList[3]*fin['Courier_Rating'])\n",
    "    \n",
    "datar = fin[['FeedBack_Rating_Score', 'Product_Rating_Score',   'Packaging_Rating_Score', 'Courier_Rating_Score']]\n",
    "scaler = MinMaxScaler(feature_range=(0, 5))\n",
    "scaler.fit(datar)\n",
    "dr = pd.DataFrame(scaler.transform(datar))\n",
    "f['ALL_OVER'] = dr[[0,1,2,3]].mean(axis=1)"
   ]
  },
  {
   "cell_type": "code",
   "execution_count": 11,
   "metadata": {},
   "outputs": [
    {
     "name": "stderr",
     "output_type": "stream",
     "text": [
      "C:\\Users\\Rahlsesite\\Anaconda3\\lib\\site-packages\\ipykernel_launcher.py:17: SettingWithCopyWarning: \n",
      "A value is trying to be set on a copy of a slice from a DataFrame.\n",
      "Try using .loc[row_indexer,col_indexer] = value instead\n",
      "\n",
      "See the caveats in the documentation: http://pandas.pydata.org/pandas-docs/stable/indexing.html#indexing-view-versus-copy\n"
     ]
    }
   ],
   "source": [
    "d1 = pd.DataFrame(data.groupby(['Seller','Product'])['FeedBack_Rating'].mean())\n",
    "d3 = pd.DataFrame(data.groupby(['Seller','Product'])['Product_Rating'].mean())\n",
    "d4 = pd.DataFrame(data.groupby(['Seller','Product'])['Packaging_Rating'].mean())\n",
    "d2 = pd.DataFrame(data.groupby(['Seller','Product'])['Courier_Rating'].mean())\n",
    "f1 =  pd.merge(d1,d2 , on=['Seller','Product'])\n",
    "f2 =  pd.merge(d3,d4 , on=['Seller','Product'])\n",
    "f =  pd.merge(f1,f2 , on=['Seller','Product'])\n",
    "f = f.reset_index()\n",
    "\n",
    "fin = f[[ 'FeedBack_Rating', 'Product_Rating', 'Packaging_Rating', 'Courier_Rating']]\n",
    "corr = fin.corr()\n",
    "lis = ['FeedBack_Rating','Product_Rating','Packaging_Rating','Courier_Rating']\n",
    "\n",
    "for i in np.arange(0,4):\n",
    "    sr = lis[i]+'_Score'\n",
    "    corrList = corr[lis[i]]\n",
    "    fin[sr] = (corrList[0]*fin['FeedBack_Rating']) + (corrList[1]*fin['Product_Rating']) + (corrList[2]*fin['Packaging_Rating']) + (corrList[3]*fin['Courier_Rating'])\n",
    "    \n",
    "datar = fin[['FeedBack_Rating_Score', 'Product_Rating_Score',   'Packaging_Rating_Score', 'Courier_Rating_Score']]\n",
    "scaler = MinMaxScaler(feature_range=(0, 5))\n",
    "scaler.fit(datar)\n",
    "dr = pd.DataFrame(scaler.transform(datar))\n",
    "f['ALL_OVER'] = dr[[0,1,2,3]].mean(axis=1)\n",
    "f.to_csv('D:/DST/Seller_Products_Ratings.csv')"
   ]
  },
  {
   "cell_type": "code",
   "execution_count": null,
   "metadata": {},
   "outputs": [],
   "source": []
  },
  {
   "cell_type": "code",
   "execution_count": null,
   "metadata": {},
   "outputs": [],
   "source": []
  }
 ],
 "metadata": {
  "kernelspec": {
   "display_name": "Python 3",
   "language": "python",
   "name": "python3"
  },
  "language_info": {
   "codemirror_mode": {
    "name": "ipython",
    "version": 3
   },
   "file_extension": ".py",
   "mimetype": "text/x-python",
   "name": "python",
   "nbconvert_exporter": "python",
   "pygments_lexer": "ipython3",
   "version": "3.7.1"
  }
 },
 "nbformat": 4,
 "nbformat_minor": 2
}
