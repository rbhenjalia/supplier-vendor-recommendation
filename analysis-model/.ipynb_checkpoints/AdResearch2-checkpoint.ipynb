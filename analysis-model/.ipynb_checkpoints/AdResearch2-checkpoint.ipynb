{
 "cells": [
  {
   "cell_type": "code",
   "execution_count": 130,
   "metadata": {},
   "outputs": [],
   "source": [
    "import pandas as pd\n",
    "import numpy as np\n",
    "import matplotlib.pyplot as plt\n",
    "import seaborn as sns\n",
    "import ast\n",
    "from ast import literal_eval\n",
    "from collections import defaultdict\n",
    "%matplotlib inline"
   ]
  },
  {
   "cell_type": "code",
   "execution_count": 131,
   "metadata": {},
   "outputs": [],
   "source": [
    "train = pd.read_csv('D:/train.csv')"
   ]
  },
  {
   "cell_type": "code",
   "execution_count": 132,
   "metadata": {},
   "outputs": [],
   "source": [
    "train.columns\n",
    "df = train"
   ]
  },
  {
   "cell_type": "raw",
   "metadata": {},
   "source": []
  },
  {
   "cell_type": "raw",
   "metadata": {},
   "source": []
  },
  {
   "cell_type": "code",
   "execution_count": 133,
   "metadata": {},
   "outputs": [
    {
     "data": {
      "text/plain": [
       "Index(['Product_Name', 'Product_Price', 'Seller', 'Rating', 'Product_Seller'], dtype='object')"
      ]
     },
     "execution_count": 133,
     "metadata": {},
     "output_type": "execute_result"
    }
   ],
   "source": [
    "\n",
    "df['Product_Seller'] = df['Product_Name'] + ' - ' + df['Seller']\n",
    "df.columns"
   ]
  },
  {
   "cell_type": "raw",
   "metadata": {},
   "source": []
  },
  {
   "cell_type": "code",
   "execution_count": 134,
   "metadata": {},
   "outputs": [
    {
     "data": {
      "text/html": [
       "<div>\n",
       "<style scoped>\n",
       "    .dataframe tbody tr th:only-of-type {\n",
       "        vertical-align: middle;\n",
       "    }\n",
       "\n",
       "    .dataframe tbody tr th {\n",
       "        vertical-align: top;\n",
       "    }\n",
       "\n",
       "    .dataframe thead th {\n",
       "        text-align: right;\n",
       "    }\n",
       "</style>\n",
       "<table border=\"1\" class=\"dataframe\">\n",
       "  <thead>\n",
       "    <tr style=\"text-align: right;\">\n",
       "      <th></th>\n",
       "      <th>Product_Seller</th>\n",
       "      <th>Product_Price</th>\n",
       "      <th>Rating</th>\n",
       "    </tr>\n",
       "  </thead>\n",
       "  <tbody>\n",
       "    <tr>\n",
       "      <th>0</th>\n",
       "      <td>Acer Aspire 3 UN.GNVSI.001 15.6-inch Laptop (A...</td>\n",
       "      <td>Rs. 18,489.00</td>\n",
       "      <td>0 out of 5 stars</td>\n",
       "    </tr>\n",
       "    <tr>\n",
       "      <th>1</th>\n",
       "      <td>Acer Aspire 3 UN.GNVSI.001 15.6-inch Laptop (A...</td>\n",
       "      <td>Rs. 18,489.00</td>\n",
       "      <td>3 out of 5 stars</td>\n",
       "    </tr>\n",
       "    <tr>\n",
       "      <th>2</th>\n",
       "      <td>Acer Aspire 3 UN.GNVSI.001 15.6-inch Laptop (A...</td>\n",
       "      <td>Rs. 18,489.00</td>\n",
       "      <td>5 out of 5 stars</td>\n",
       "    </tr>\n",
       "    <tr>\n",
       "      <th>3</th>\n",
       "      <td>Acer Aspire 3 UN.GNVSI.001 15.6-inch Laptop (A...</td>\n",
       "      <td>Rs. 18,489.00</td>\n",
       "      <td>1 out of 5 stars</td>\n",
       "    </tr>\n",
       "    <tr>\n",
       "      <th>4</th>\n",
       "      <td>Acer Aspire 3 UN.GNVSI.001 15.6-inch Laptop (A...</td>\n",
       "      <td>Rs. 18,489.00</td>\n",
       "      <td>1 out of 5 stars</td>\n",
       "    </tr>\n",
       "  </tbody>\n",
       "</table>\n",
       "</div>"
      ],
      "text/plain": [
       "                                      Product_Seller  Product_Price  \\\n",
       "0  Acer Aspire 3 UN.GNVSI.001 15.6-inch Laptop (A...  Rs. 18,489.00   \n",
       "1  Acer Aspire 3 UN.GNVSI.001 15.6-inch Laptop (A...  Rs. 18,489.00   \n",
       "2  Acer Aspire 3 UN.GNVSI.001 15.6-inch Laptop (A...  Rs. 18,489.00   \n",
       "3  Acer Aspire 3 UN.GNVSI.001 15.6-inch Laptop (A...  Rs. 18,489.00   \n",
       "4  Acer Aspire 3 UN.GNVSI.001 15.6-inch Laptop (A...  Rs. 18,489.00   \n",
       "\n",
       "             Rating  \n",
       "0  0 out of 5 stars  \n",
       "1  3 out of 5 stars  \n",
       "2  5 out of 5 stars  \n",
       "3  1 out of 5 stars  \n",
       "4  1 out of 5 stars  "
      ]
     },
     "execution_count": 134,
     "metadata": {},
     "output_type": "execute_result"
    }
   ],
   "source": [
    "fdata = df[['Product_Seller','Product_Price', 'Rating']]\n",
    "fdata.head()"
   ]
  },
  {
   "cell_type": "code",
   "execution_count": 135,
   "metadata": {},
   "outputs": [
    {
     "name": "stderr",
     "output_type": "stream",
     "text": [
      "C:\\Users\\Rahlsesite\\Anaconda3\\lib\\site-packages\\ipykernel_launcher.py:6: SettingWithCopyWarning: \n",
      "A value is trying to be set on a copy of a slice from a DataFrame.\n",
      "Try using .loc[row_indexer,col_indexer] = value instead\n",
      "\n",
      "See the caveats in the documentation: http://pandas.pydata.org/pandas-docs/stable/indexing.html#indexing-view-versus-copy\n",
      "  \n"
     ]
    }
   ],
   "source": [
    "rate = fdata['Rating']\n",
    "price = fdata['Product_Price']\n",
    "x = rate.values\n",
    "y = price.values\n",
    "pr = pd.Series(x).str.replace(' out of 5 stars', '', regex=True)\n",
    "fdata['Rate'] = pr\n",
    "pr2 = pd.Series(y).str.replace('Rs. ', '', regex=True)\n",
    "pr3 = pd.Series(pr2).str.replace(',', '', regex=True)\n",
    "fdata['Price'] = pr3"
   ]
  },
  {
   "cell_type": "code",
   "execution_count": null,
   "metadata": {},
   "outputs": [],
   "source": []
  },
  {
   "cell_type": "code",
   "execution_count": 136,
   "metadata": {},
   "outputs": [],
   "source": [
    "fdata = fdata[['Product_Seller','Price','Rate']]"
   ]
  },
  {
   "cell_type": "code",
   "execution_count": 139,
   "metadata": {},
   "outputs": [],
   "source": [
    "fdata.to_csv('D:/finData.csv')"
   ]
  },
  {
   "cell_type": "code",
   "execution_count": 141,
   "metadata": {},
   "outputs": [],
   "source": [
    "fdata = pd.read_csv('D:/finData.csv')"
   ]
  },
  {
   "cell_type": "code",
   "execution_count": 144,
   "metadata": {},
   "outputs": [],
   "source": [
    "fdata['Product_Price'] = fdata['Price'].astype(float)"
   ]
  },
  {
   "cell_type": "code",
   "execution_count": 145,
   "metadata": {},
   "outputs": [
    {
     "data": {
      "text/plain": [
       "Index(['Unnamed: 0', 'Product_Seller', 'Price', 'Rate', 'Product_Price'], dtype='object')"
      ]
     },
     "execution_count": 145,
     "metadata": {},
     "output_type": "execute_result"
    }
   ],
   "source": [
    "fdata.col"
   ]
  },
  {
   "cell_type": "code",
   "execution_count": 165,
   "metadata": {},
   "outputs": [
    {
     "data": {
      "text/html": [
       "<div>\n",
       "<style scoped>\n",
       "    .dataframe tbody tr th:only-of-type {\n",
       "        vertical-align: middle;\n",
       "    }\n",
       "\n",
       "    .dataframe tbody tr th {\n",
       "        vertical-align: top;\n",
       "    }\n",
       "\n",
       "    .dataframe thead th {\n",
       "        text-align: right;\n",
       "    }\n",
       "</style>\n",
       "<table border=\"1\" class=\"dataframe\">\n",
       "  <thead>\n",
       "    <tr style=\"text-align: right;\">\n",
       "      <th></th>\n",
       "      <th>Product_Seller</th>\n",
       "      <th>Rate</th>\n",
       "      <th>Product_Price</th>\n",
       "    </tr>\n",
       "  </thead>\n",
       "  <tbody>\n",
       "    <tr>\n",
       "      <th>0</th>\n",
       "      <td>Acer Aspire 3 UN.GNVSI.001 15.6-inch Laptop (A...</td>\n",
       "      <td>0.0</td>\n",
       "      <td>18489.0</td>\n",
       "    </tr>\n",
       "    <tr>\n",
       "      <th>1</th>\n",
       "      <td>Acer Aspire 3 UN.GNVSI.001 15.6-inch Laptop (A...</td>\n",
       "      <td>3.0</td>\n",
       "      <td>18489.0</td>\n",
       "    </tr>\n",
       "    <tr>\n",
       "      <th>2</th>\n",
       "      <td>Acer Aspire 3 UN.GNVSI.001 15.6-inch Laptop (A...</td>\n",
       "      <td>5.0</td>\n",
       "      <td>18489.0</td>\n",
       "    </tr>\n",
       "    <tr>\n",
       "      <th>3</th>\n",
       "      <td>Acer Aspire 3 UN.GNVSI.001 15.6-inch Laptop (A...</td>\n",
       "      <td>1.0</td>\n",
       "      <td>18489.0</td>\n",
       "    </tr>\n",
       "    <tr>\n",
       "      <th>4</th>\n",
       "      <td>Acer Aspire 3 UN.GNVSI.001 15.6-inch Laptop (A...</td>\n",
       "      <td>1.0</td>\n",
       "      <td>18489.0</td>\n",
       "    </tr>\n",
       "  </tbody>\n",
       "</table>\n",
       "</div>"
      ],
      "text/plain": [
       "                                      Product_Seller  Rate  Product_Price\n",
       "0  Acer Aspire 3 UN.GNVSI.001 15.6-inch Laptop (A...   0.0        18489.0\n",
       "1  Acer Aspire 3 UN.GNVSI.001 15.6-inch Laptop (A...   3.0        18489.0\n",
       "2  Acer Aspire 3 UN.GNVSI.001 15.6-inch Laptop (A...   5.0        18489.0\n",
       "3  Acer Aspire 3 UN.GNVSI.001 15.6-inch Laptop (A...   1.0        18489.0\n",
       "4  Acer Aspire 3 UN.GNVSI.001 15.6-inch Laptop (A...   1.0        18489.0"
      ]
     },
     "execution_count": 165,
     "metadata": {},
     "output_type": "execute_result"
    }
   ],
   "source": [
    "fdata = fdata[[ 'Product_Seller', 'Rate', 'Product_Price']]\n",
    "fdata.head()"
   ]
  },
  {
   "cell_type": "code",
   "execution_count": 164,
   "metadata": {},
   "outputs": [],
   "source": [
    "df  = fdata\n",
    "df[\"Rate\"] = df.groupby('Product_Seller').transform(lambda x: x.fillna(x.mean()))\n",
    "df.fillna(value=0)\n",
    "df.to_csv('D:/rdata.csv')"
   ]
  },
  {
   "cell_type": "code",
   "execution_count": null,
   "metadata": {},
   "outputs": [],
   "source": []
  },
  {
   "cell_type": "code",
   "execution_count": null,
   "metadata": {},
   "outputs": [],
   "source": []
  }
 ],
 "metadata": {
  "kernelspec": {
   "display_name": "Python 3",
   "language": "python",
   "name": "python3"
  },
  "language_info": {
   "codemirror_mode": {
    "name": "ipython",
    "version": 3
   },
   "file_extension": ".py",
   "mimetype": "text/x-python",
   "name": "python",
   "nbconvert_exporter": "python",
   "pygments_lexer": "ipython3",
   "version": "3.7.1"
  }
 },
 "nbformat": 4,
 "nbformat_minor": 2
}
