{
 "cells": [
  {
   "cell_type": "code",
   "execution_count": 2,
   "metadata": {},
   "outputs": [],
   "source": [
    "import pandas as pd\n",
    "import numpy as np\n",
    "import matplotlib.pyplot as plt\n",
    "import seaborn as sns\n",
    "import ast\n",
    "from ast import literal_eval\n",
    "from collections import defaultdict\n",
    "%matplotlib inline\n",
    "from sklearn.preprocessing import MinMaxScaler"
   ]
  },
  {
   "cell_type": "code",
   "execution_count": 3,
   "metadata": {},
   "outputs": [],
   "source": [
    "tr = pd.read_csv('D:/finData.csv')"
   ]
  },
  {
   "cell_type": "code",
   "execution_count": 4,
   "metadata": {},
   "outputs": [
    {
     "data": {
      "text/html": [
       "<div>\n",
       "<style scoped>\n",
       "    .dataframe tbody tr th:only-of-type {\n",
       "        vertical-align: middle;\n",
       "    }\n",
       "\n",
       "    .dataframe tbody tr th {\n",
       "        vertical-align: top;\n",
       "    }\n",
       "\n",
       "    .dataframe thead th {\n",
       "        text-align: right;\n",
       "    }\n",
       "</style>\n",
       "<table border=\"1\" class=\"dataframe\">\n",
       "  <thead>\n",
       "    <tr style=\"text-align: right;\">\n",
       "      <th></th>\n",
       "      <th>Unnamed: 0</th>\n",
       "      <th>Product_Seller</th>\n",
       "      <th>Price</th>\n",
       "      <th>Rate</th>\n",
       "    </tr>\n",
       "  </thead>\n",
       "  <tbody>\n",
       "    <tr>\n",
       "      <th>0</th>\n",
       "      <td>0</td>\n",
       "      <td>Acer Aspire 3 UN.GNVSI.001 15.6-inch Laptop (A...</td>\n",
       "      <td>18489.00</td>\n",
       "      <td>0</td>\n",
       "    </tr>\n",
       "    <tr>\n",
       "      <th>1</th>\n",
       "      <td>1</td>\n",
       "      <td>Acer Aspire 3 UN.GNVSI.001 15.6-inch Laptop (A...</td>\n",
       "      <td>18489.00</td>\n",
       "      <td>3</td>\n",
       "    </tr>\n",
       "    <tr>\n",
       "      <th>2</th>\n",
       "      <td>2</td>\n",
       "      <td>Acer Aspire 3 UN.GNVSI.001 15.6-inch Laptop (A...</td>\n",
       "      <td>18489.00</td>\n",
       "      <td>5</td>\n",
       "    </tr>\n",
       "    <tr>\n",
       "      <th>3</th>\n",
       "      <td>3</td>\n",
       "      <td>Acer Aspire 3 UN.GNVSI.001 15.6-inch Laptop (A...</td>\n",
       "      <td>18489.00</td>\n",
       "      <td>1</td>\n",
       "    </tr>\n",
       "    <tr>\n",
       "      <th>4</th>\n",
       "      <td>4</td>\n",
       "      <td>Acer Aspire 3 UN.GNVSI.001 15.6-inch Laptop (A...</td>\n",
       "      <td>18489.00</td>\n",
       "      <td>1</td>\n",
       "    </tr>\n",
       "  </tbody>\n",
       "</table>\n",
       "</div>"
      ],
      "text/plain": [
       "   Unnamed: 0                                     Product_Seller     Price  \\\n",
       "0           0  Acer Aspire 3 UN.GNVSI.001 15.6-inch Laptop (A...  18489.00   \n",
       "1           1  Acer Aspire 3 UN.GNVSI.001 15.6-inch Laptop (A...  18489.00   \n",
       "2           2  Acer Aspire 3 UN.GNVSI.001 15.6-inch Laptop (A...  18489.00   \n",
       "3           3  Acer Aspire 3 UN.GNVSI.001 15.6-inch Laptop (A...  18489.00   \n",
       "4           4  Acer Aspire 3 UN.GNVSI.001 15.6-inch Laptop (A...  18489.00   \n",
       "\n",
       "  Rate  \n",
       "0    0  \n",
       "1    3  \n",
       "2    5  \n",
       "3    1  \n",
       "4    1  "
      ]
     },
     "execution_count": 4,
     "metadata": {},
     "output_type": "execute_result"
    }
   ],
   "source": [
    "tr.head()"
   ]
  },
  {
   "cell_type": "code",
   "execution_count": 5,
   "metadata": {},
   "outputs": [],
   "source": [
    "tr = tr[['Product_Seller', 'Price', 'Rate']]"
   ]
  },
  {
   "cell_type": "code",
   "execution_count": 6,
   "metadata": {},
   "outputs": [
    {
     "data": {
      "text/html": [
       "<div>\n",
       "<style scoped>\n",
       "    .dataframe tbody tr th:only-of-type {\n",
       "        vertical-align: middle;\n",
       "    }\n",
       "\n",
       "    .dataframe tbody tr th {\n",
       "        vertical-align: top;\n",
       "    }\n",
       "\n",
       "    .dataframe thead th {\n",
       "        text-align: right;\n",
       "    }\n",
       "</style>\n",
       "<table border=\"1\" class=\"dataframe\">\n",
       "  <thead>\n",
       "    <tr style=\"text-align: right;\">\n",
       "      <th></th>\n",
       "      <th>Product_Seller</th>\n",
       "      <th>Price</th>\n",
       "      <th>Rate</th>\n",
       "    </tr>\n",
       "  </thead>\n",
       "  <tbody>\n",
       "    <tr>\n",
       "      <th>0</th>\n",
       "      <td>Acer Aspire 3 UN.GNVSI.001 15.6-inch Laptop (A...</td>\n",
       "      <td>18489.00</td>\n",
       "      <td>0</td>\n",
       "    </tr>\n",
       "    <tr>\n",
       "      <th>1</th>\n",
       "      <td>Acer Aspire 3 UN.GNVSI.001 15.6-inch Laptop (A...</td>\n",
       "      <td>18489.00</td>\n",
       "      <td>3</td>\n",
       "    </tr>\n",
       "    <tr>\n",
       "      <th>2</th>\n",
       "      <td>Acer Aspire 3 UN.GNVSI.001 15.6-inch Laptop (A...</td>\n",
       "      <td>18489.00</td>\n",
       "      <td>5</td>\n",
       "    </tr>\n",
       "    <tr>\n",
       "      <th>3</th>\n",
       "      <td>Acer Aspire 3 UN.GNVSI.001 15.6-inch Laptop (A...</td>\n",
       "      <td>18489.00</td>\n",
       "      <td>1</td>\n",
       "    </tr>\n",
       "    <tr>\n",
       "      <th>4</th>\n",
       "      <td>Acer Aspire 3 UN.GNVSI.001 15.6-inch Laptop (A...</td>\n",
       "      <td>18489.00</td>\n",
       "      <td>1</td>\n",
       "    </tr>\n",
       "  </tbody>\n",
       "</table>\n",
       "</div>"
      ],
      "text/plain": [
       "                                      Product_Seller     Price Rate\n",
       "0  Acer Aspire 3 UN.GNVSI.001 15.6-inch Laptop (A...  18489.00    0\n",
       "1  Acer Aspire 3 UN.GNVSI.001 15.6-inch Laptop (A...  18489.00    3\n",
       "2  Acer Aspire 3 UN.GNVSI.001 15.6-inch Laptop (A...  18489.00    5\n",
       "3  Acer Aspire 3 UN.GNVSI.001 15.6-inch Laptop (A...  18489.00    1\n",
       "4  Acer Aspire 3 UN.GNVSI.001 15.6-inch Laptop (A...  18489.00    1"
      ]
     },
     "execution_count": 6,
     "metadata": {},
     "output_type": "execute_result"
    }
   ],
   "source": [
    "tr.head()"
   ]
  },
  {
   "cell_type": "code",
   "execution_count": 7,
   "metadata": {},
   "outputs": [],
   "source": [
    "tab1 = pd.read_csv('D:/FinishedDataSet_1.csv')\n",
    "tab2 = pd.read_csv('D:/FinishedDataSet_2.csv')\n",
    "tab3 = tr\n",
    "\n",
    "\n",
    "tab1 = tab1[['Product_Seller', 'Price', 'Rating']]\n",
    "tab2 = tab2[['Product_Seller', 'Price', 'Rating']]\n",
    "\n",
    "tab1['Product'], tab1['Seller'] = tab1['Product_Seller'].str.split(' ##### ', 1).str\n",
    "tab1 = tab1[['Product', 'Seller','Price', 'Rating']]\n",
    "\n",
    "\n",
    "tab2['Product'], tab2['Seller'] = tab2['Product_Seller'].str.split(' ##### ', 1).str\n",
    "tab2 = tab2[['Product', 'Seller','Price', 'Rating']]"
   ]
  },
  {
   "cell_type": "code",
   "execution_count": 8,
   "metadata": {},
   "outputs": [],
   "source": [
    "tab3 = tab3.rename(columns={'Rate':'Rating'})\n",
    "tab3['Product'], tab3['Seller'] = tab3['Product_Seller'].str.split(' - ', 1).str\n",
    "tab3 = tab3[['Product', 'Seller','Price', 'Rating']]"
   ]
  },
  {
   "cell_type": "code",
   "execution_count": 9,
   "metadata": {},
   "outputs": [],
   "source": [
    "finData = pd.concat([tab1,tab2,tab3]).reset_index(drop=True)"
   ]
  },
  {
   "cell_type": "code",
   "execution_count": 43,
   "metadata": {},
   "outputs": [
    {
     "data": {
      "text/html": [
       "<div>\n",
       "<style scoped>\n",
       "    .dataframe tbody tr th:only-of-type {\n",
       "        vertical-align: middle;\n",
       "    }\n",
       "\n",
       "    .dataframe tbody tr th {\n",
       "        vertical-align: top;\n",
       "    }\n",
       "\n",
       "    .dataframe thead th {\n",
       "        text-align: right;\n",
       "    }\n",
       "</style>\n",
       "<table border=\"1\" class=\"dataframe\">\n",
       "  <thead>\n",
       "    <tr style=\"text-align: right;\">\n",
       "      <th></th>\n",
       "      <th>Product</th>\n",
       "      <th>Seller</th>\n",
       "      <th>Price</th>\n",
       "      <th>Rating</th>\n",
       "    </tr>\n",
       "  </thead>\n",
       "  <tbody>\n",
       "    <tr>\n",
       "      <th>0</th>\n",
       "      <td>Lenovo Ideapad 330 Intel Core i5 8th Gen 15.6-...</td>\n",
       "      <td>Sonal-enterprises</td>\n",
       "      <td>35000.0</td>\n",
       "      <td>2.5</td>\n",
       "    </tr>\n",
       "    <tr>\n",
       "      <th>1</th>\n",
       "      <td>HP Pavilion x360 Intel Core i3 8th Gen 14-inch...</td>\n",
       "      <td>it store</td>\n",
       "      <td>47490.0</td>\n",
       "      <td>5.0</td>\n",
       "    </tr>\n",
       "    <tr>\n",
       "      <th>2</th>\n",
       "      <td>Lenovo Ideapad 330s Intel Core i3 8th Gen 14-i...</td>\n",
       "      <td>FastDealsIndia</td>\n",
       "      <td>33065.0</td>\n",
       "      <td>5.0</td>\n",
       "    </tr>\n",
       "    <tr>\n",
       "      <th>3</th>\n",
       "      <td>Dell Inspiron 5370 Intel Core i5 8th Gen 13.3-...</td>\n",
       "      <td>estore9</td>\n",
       "      <td>62489.0</td>\n",
       "      <td>4.0</td>\n",
       "    </tr>\n",
       "    <tr>\n",
       "      <th>4</th>\n",
       "      <td>HP 15 Core i3 7th gen 15.6-inch Laptop (4GB/1T...</td>\n",
       "      <td>NEWYEARDEAL</td>\n",
       "      <td>31990.0</td>\n",
       "      <td>5.0</td>\n",
       "    </tr>\n",
       "  </tbody>\n",
       "</table>\n",
       "</div>"
      ],
      "text/plain": [
       "                                             Product             Seller  \\\n",
       "0  Lenovo Ideapad 330 Intel Core i5 8th Gen 15.6-...  Sonal-enterprises   \n",
       "1  HP Pavilion x360 Intel Core i3 8th Gen 14-inch...           it store   \n",
       "2  Lenovo Ideapad 330s Intel Core i3 8th Gen 14-i...     FastDealsIndia   \n",
       "3  Dell Inspiron 5370 Intel Core i5 8th Gen 13.3-...            estore9   \n",
       "4  HP 15 Core i3 7th gen 15.6-inch Laptop (4GB/1T...        NEWYEARDEAL   \n",
       "\n",
       "     Price  Rating  \n",
       "0  35000.0     2.5  \n",
       "1  47490.0     5.0  \n",
       "2  33065.0     5.0  \n",
       "3  62489.0     4.0  \n",
       "4  31990.0     5.0  "
      ]
     },
     "execution_count": 43,
     "metadata": {},
     "output_type": "execute_result"
    }
   ],
   "source": [
    "finData.head()"
   ]
  },
  {
   "cell_type": "code",
   "execution_count": 10,
   "metadata": {},
   "outputs": [],
   "source": [
    "finData.describe()\n",
    "\n",
    "finData = pd.read_csv('D:/erp.csv')\n",
    "finData['Rating'] = finData['Rating'].astype(float)\n",
    "\n",
    "finData['Price'] = finData['Price'].astype(float)\n",
    "\n"
   ]
  },
  {
   "cell_type": "code",
   "execution_count": 11,
   "metadata": {},
   "outputs": [],
   "source": [
    "finData = finData[['Product','Seller', 'Price', 'Rating']]"
   ]
  },
  {
   "cell_type": "code",
   "execution_count": 16,
   "metadata": {},
   "outputs": [],
   "source": [
    "finData.head()\n",
    "finData['Rating'].fillna(value=2.5)\n",
    "finData.to_csv('D:/Data.csv')\n"
   ]
  },
  {
   "cell_type": "code",
   "execution_count": 17,
   "metadata": {},
   "outputs": [
    {
     "data": {
      "text/plain": [
       "<matplotlib.axes._subplots.AxesSubplot at 0x25134de18d0>"
      ]
     },
     "execution_count": 17,
     "metadata": {},
     "output_type": "execute_result"
    },
    {
     "data": {
      "image/png": "[encoded data removed]",
      "text/plain": [
       "<Figure size 432x288 with 1 Axes>"
      ]
     },
     "metadata": {
      "needs_background": "light"
     },
     "output_type": "display_data"
    }
   ],
   "source": [
    "sns.distplot(finData['Price'],kde=False,bins=70)"
   ]
  },
  {
   "cell_type": "code",
   "execution_count": 18,
   "metadata": {},
   "outputs": [
    {
     "name": "stderr",
     "output_type": "stream",
     "text": [
      "C:\\Users\\Rahlsesite\\Anaconda3\\lib\\site-packages\\scipy\\stats\\stats.py:1713: FutureWarning: Using a non-tuple sequence for multidimensional indexing is deprecated; use `arr[tuple(seq)]` instead of `arr[seq]`. In the future this will be interpreted as an array index, `arr[np.array(seq)]`, which will result either in an error or a different result.\n",
      "  return np.add.reduce(sorted[indexer] * weights, axis=axis) / sumval\n"
     ]
    },
    {
     "data": {
      "text/plain": [
       "<seaborn.axisgrid.JointGrid at 0x25134f9fe80>"
      ]
     },
     "execution_count": 18,
     "metadata": {},
     "output_type": "execute_result"
    },
    {
     "data": {
      "image/png": "[encoded data removed]",
      "text/plain": [
       "<Figure size 432x432 with 3 Axes>"
      ]
     },
     "metadata": {
      "needs_background": "light"
     },
     "output_type": "display_data"
    }
   ],
   "source": [
    "sns.jointplot(x='Price',y='Rating',data=finData)"
   ]
  },
  {
   "cell_type": "code",
   "execution_count": 19,
   "metadata": {},
   "outputs": [
    {
     "name": "stderr",
     "output_type": "stream",
     "text": [
      "C:\\Users\\Rahlsesite\\Anaconda3\\lib\\site-packages\\numpy\\lib\\histograms.py:754: RuntimeWarning: invalid value encountered in greater_equal\n",
      "  keep = (tmp_a >= first_edge)\n",
      "C:\\Users\\Rahlsesite\\Anaconda3\\lib\\site-packages\\numpy\\lib\\histograms.py:755: RuntimeWarning: invalid value encountered in less_equal\n",
      "  keep &= (tmp_a <= last_edge)\n"
     ]
    },
    {
     "data": {
      "text/plain": [
       "<matplotlib.axes._subplots.AxesSubplot at 0x2513520d860>"
      ]
     },
     "execution_count": 19,
     "metadata": {},
     "output_type": "execute_result"
    },
    {
     "data": {
      "image/png": "[encoded data removed]",
      "text/plain": [
       "<Figure size 432x288 with 1 Axes>"
      ]
     },
     "metadata": {
      "needs_background": "light"
     },
     "output_type": "display_data"
    }
   ],
   "source": [
    "sns.distplot(finData['Rating'],kde=False,bins=10)"
   ]
  },
  {
   "cell_type": "code",
   "execution_count": 20,
   "metadata": {},
   "outputs": [
    {
     "data": {
      "text/plain": [
       "<seaborn.axisgrid.PairGrid at 0x25135243d68>"
      ]
     },
     "execution_count": 20,
     "metadata": {},
     "output_type": "execute_result"
    },
    {
     "data": {
      "image/png": "[encoded data removed]",
      "text/plain": [
       "<Figure size 360x360 with 6 Axes>"
      ]
     },
     "metadata": {
      "needs_background": "light"
     },
     "output_type": "display_data"
    }
   ],
   "source": [
    "sns.pairplot(finData)"
   ]
  },
  {
   "cell_type": "code",
   "execution_count": 21,
   "metadata": {},
   "outputs": [],
   "source": [
    "ratings = finData.pivot_table(index='Product',columns='Seller',values='Rating')\n",
    "price = finData.pivot_table(index='Product',columns='Seller',values='Price')"
   ]
  },
  {
   "cell_type": "code",
   "execution_count": 22,
   "metadata": {},
   "outputs": [],
   "source": [
    "X_train = finData[['Product', 'Price', 'Rating']]"
   ]
  },
  {
   "cell_type": "code",
   "execution_count": 23,
   "metadata": {},
   "outputs": [],
   "source": [
    "Y_train = finData['Seller']\n",
    "E = 'Acer Aspire 3 UN.GNVSI.001 15.6-inch Laptop (AMD Dual-Core Processor E2-9000/4GB/1TB/windows 10 Home 64Bit/Integrated Graphics), Obsidian Black'"
   ]
  },
  {
   "cell_type": "code",
   "execution_count": 49,
   "metadata": {},
   "outputs": [],
   "source": [
    "#LET's ASSUME THAT THE GIVEN PRODUCT IS SEARCHED & CLICKED UPON\n",
    "Product = 'Acer Aspire 3 UN.GNVSI.001 15.6-inch Laptop (AMD Dual-Core Processor E2-9000/4GB/1TB/windows 10 Home 64Bit/Integrated Graphics), Obsidian Black'\n",
    "\n",
    "#LOCATING THE DATA WITH SEARCHED PRODUCT\n",
    "df = finData.loc[finData['Product'] == Product]"
   ]
  },
  {
   "cell_type": "code",
   "execution_count": 25,
   "metadata": {},
   "outputs": [
    {
     "data": {
      "text/html": [
       "<div>\n",
       "<style scoped>\n",
       "    .dataframe tbody tr th:only-of-type {\n",
       "        vertical-align: middle;\n",
       "    }\n",
       "\n",
       "    .dataframe tbody tr th {\n",
       "        vertical-align: top;\n",
       "    }\n",
       "\n",
       "    .dataframe thead th {\n",
       "        text-align: right;\n",
       "    }\n",
       "</style>\n",
       "<table border=\"1\" class=\"dataframe\">\n",
       "  <thead>\n",
       "    <tr style=\"text-align: right;\">\n",
       "      <th></th>\n",
       "      <th>Seller</th>\n",
       "      <th>Rating</th>\n",
       "    </tr>\n",
       "  </thead>\n",
       "  <tbody>\n",
       "    <tr>\n",
       "      <th>0</th>\n",
       "      <td>e9accessories</td>\n",
       "      <td>24</td>\n",
       "    </tr>\n",
       "    <tr>\n",
       "      <th>1</th>\n",
       "      <td>Klick Technology</td>\n",
       "      <td>24</td>\n",
       "    </tr>\n",
       "    <tr>\n",
       "      <th>2</th>\n",
       "      <td>A TO Z IT</td>\n",
       "      <td>24</td>\n",
       "    </tr>\n",
       "    <tr>\n",
       "      <th>3</th>\n",
       "      <td>amezonsales</td>\n",
       "      <td>12</td>\n",
       "    </tr>\n",
       "    <tr>\n",
       "      <th>4</th>\n",
       "      <td>IT SALES</td>\n",
       "      <td>12</td>\n",
       "    </tr>\n",
       "    <tr>\n",
       "      <th>5</th>\n",
       "      <td>GMCS-Ecommerce</td>\n",
       "      <td>12</td>\n",
       "    </tr>\n",
       "    <tr>\n",
       "      <th>6</th>\n",
       "      <td>Vishal Infotech</td>\n",
       "      <td>5</td>\n",
       "    </tr>\n",
       "    <tr>\n",
       "      <th>7</th>\n",
       "      <td>Bhandari Technologies</td>\n",
       "      <td>1</td>\n",
       "    </tr>\n",
       "  </tbody>\n",
       "</table>\n",
       "</div>"
      ],
      "text/plain": [
       "                  Seller  Rating\n",
       "0          e9accessories      24\n",
       "1       Klick Technology      24\n",
       "2              A TO Z IT      24\n",
       "3            amezonsales      12\n",
       "4               IT SALES      12\n",
       "5         GMCS-Ecommerce      12\n",
       "6        Vishal Infotech       5\n",
       "7  Bhandari Technologies       1"
      ]
     },
     "execution_count": 25,
     "metadata": {},
     "output_type": "execute_result"
    }
   ],
   "source": [
    "#FILTERING ONLY SELLER, PRICE & RATING\n",
    "df = df[['Seller', 'Price', 'Rating']]\n",
    "\n",
    "#SINCE THERE ARE MULTIPLE RATINGS ON A PARTICULAR SELLER FOR A PARTICULAR PRODUCT\n",
    "#NUMBER OF RATINGS RECEIVED BY EACH SELLER ON THE PRODUCT\n",
    "avg_rating_count = pd.DataFrame(df.groupby('Seller')['Rating'].count().sort_values(ascending=False)).reset_index()\n",
    "avg_rating_count"
   ]
  },
  {
   "cell_type": "code",
   "execution_count": 26,
   "metadata": {},
   "outputs": [
    {
     "data": {
      "text/html": [
       "<div>\n",
       "<style scoped>\n",
       "    .dataframe tbody tr th:only-of-type {\n",
       "        vertical-align: middle;\n",
       "    }\n",
       "\n",
       "    .dataframe tbody tr th {\n",
       "        vertical-align: top;\n",
       "    }\n",
       "\n",
       "    .dataframe thead th {\n",
       "        text-align: right;\n",
       "    }\n",
       "</style>\n",
       "<table border=\"1\" class=\"dataframe\">\n",
       "  <thead>\n",
       "    <tr style=\"text-align: right;\">\n",
       "      <th></th>\n",
       "      <th>Seller</th>\n",
       "      <th>Rating</th>\n",
       "    </tr>\n",
       "  </thead>\n",
       "  <tbody>\n",
       "    <tr>\n",
       "      <th>0</th>\n",
       "      <td>Klick Technology</td>\n",
       "      <td>4.000000</td>\n",
       "    </tr>\n",
       "    <tr>\n",
       "      <th>1</th>\n",
       "      <td>e9accessories</td>\n",
       "      <td>3.666667</td>\n",
       "    </tr>\n",
       "    <tr>\n",
       "      <th>2</th>\n",
       "      <td>GMCS-Ecommerce</td>\n",
       "      <td>3.333333</td>\n",
       "    </tr>\n",
       "    <tr>\n",
       "      <th>3</th>\n",
       "      <td>IT SALES</td>\n",
       "      <td>3.166667</td>\n",
       "    </tr>\n",
       "    <tr>\n",
       "      <th>4</th>\n",
       "      <td>amezonsales</td>\n",
       "      <td>2.833333</td>\n",
       "    </tr>\n",
       "    <tr>\n",
       "      <th>5</th>\n",
       "      <td>Bhandari Technologies</td>\n",
       "      <td>2.500000</td>\n",
       "    </tr>\n",
       "    <tr>\n",
       "      <th>6</th>\n",
       "      <td>A TO Z IT</td>\n",
       "      <td>2.500000</td>\n",
       "    </tr>\n",
       "    <tr>\n",
       "      <th>7</th>\n",
       "      <td>Vishal Infotech</td>\n",
       "      <td>0.500000</td>\n",
       "    </tr>\n",
       "  </tbody>\n",
       "</table>\n",
       "</div>"
      ],
      "text/plain": [
       "                  Seller    Rating\n",
       "0       Klick Technology  4.000000\n",
       "1          e9accessories  3.666667\n",
       "2         GMCS-Ecommerce  3.333333\n",
       "3               IT SALES  3.166667\n",
       "4            amezonsales  2.833333\n",
       "5  Bhandari Technologies  2.500000\n",
       "6              A TO Z IT  2.500000\n",
       "7        Vishal Infotech  0.500000"
      ]
     },
     "execution_count": 26,
     "metadata": {},
     "output_type": "execute_result"
    }
   ],
   "source": [
    "#AVERAGE RATING RECEIVED BY EACH SELLER ON THE PRODUCT\n",
    "avg_rating = pd.DataFrame(df.groupby('Seller')['Rating'].mean().sort_values(ascending=False)).reset_index()\n",
    "avg_rating"
   ]
  },
  {
   "cell_type": "code",
   "execution_count": 27,
   "metadata": {},
   "outputs": [
    {
     "data": {
      "text/html": [
       "<div>\n",
       "<style scoped>\n",
       "    .dataframe tbody tr th:only-of-type {\n",
       "        vertical-align: middle;\n",
       "    }\n",
       "\n",
       "    .dataframe tbody tr th {\n",
       "        vertical-align: top;\n",
       "    }\n",
       "\n",
       "    .dataframe thead th {\n",
       "        text-align: right;\n",
       "    }\n",
       "</style>\n",
       "<table border=\"1\" class=\"dataframe\">\n",
       "  <thead>\n",
       "    <tr style=\"text-align: right;\">\n",
       "      <th></th>\n",
       "      <th>Seller</th>\n",
       "      <th>Price</th>\n",
       "    </tr>\n",
       "  </thead>\n",
       "  <tbody>\n",
       "    <tr>\n",
       "      <th>0</th>\n",
       "      <td>amezonsales</td>\n",
       "      <td>17829.0</td>\n",
       "    </tr>\n",
       "    <tr>\n",
       "      <th>1</th>\n",
       "      <td>A TO Z IT</td>\n",
       "      <td>18159.0</td>\n",
       "    </tr>\n",
       "    <tr>\n",
       "      <th>2</th>\n",
       "      <td>Bhandari Technologies</td>\n",
       "      <td>18159.0</td>\n",
       "    </tr>\n",
       "    <tr>\n",
       "      <th>3</th>\n",
       "      <td>Klick Technology</td>\n",
       "      <td>18159.0</td>\n",
       "    </tr>\n",
       "    <tr>\n",
       "      <th>4</th>\n",
       "      <td>Vishal Infotech</td>\n",
       "      <td>18159.0</td>\n",
       "    </tr>\n",
       "    <tr>\n",
       "      <th>5</th>\n",
       "      <td>e9accessories</td>\n",
       "      <td>18159.0</td>\n",
       "    </tr>\n",
       "    <tr>\n",
       "      <th>6</th>\n",
       "      <td>GMCS-Ecommerce</td>\n",
       "      <td>18489.0</td>\n",
       "    </tr>\n",
       "    <tr>\n",
       "      <th>7</th>\n",
       "      <td>IT SALES</td>\n",
       "      <td>18489.0</td>\n",
       "    </tr>\n",
       "  </tbody>\n",
       "</table>\n",
       "</div>"
      ],
      "text/plain": [
       "                  Seller    Price\n",
       "0            amezonsales  17829.0\n",
       "1              A TO Z IT  18159.0\n",
       "2  Bhandari Technologies  18159.0\n",
       "3       Klick Technology  18159.0\n",
       "4        Vishal Infotech  18159.0\n",
       "5          e9accessories  18159.0\n",
       "6         GMCS-Ecommerce  18489.0\n",
       "7               IT SALES  18489.0"
      ]
     },
     "execution_count": 27,
     "metadata": {},
     "output_type": "execute_result"
    }
   ],
   "source": [
    "#AVERAGE OF PRICE PROVIDED BY EACH SELLER ON THE PRODUCT\n",
    "avg_price = pd.DataFrame(df.groupby('Seller')['Price'].mean().sort_values()).reset_index()\n",
    "avg_price"
   ]
  },
  {
   "cell_type": "code",
   "execution_count": 28,
   "metadata": {},
   "outputs": [
    {
     "data": {
      "text/html": [
       "<div>\n",
       "<style scoped>\n",
       "    .dataframe tbody tr th:only-of-type {\n",
       "        vertical-align: middle;\n",
       "    }\n",
       "\n",
       "    .dataframe tbody tr th {\n",
       "        vertical-align: top;\n",
       "    }\n",
       "\n",
       "    .dataframe thead th {\n",
       "        text-align: right;\n",
       "    }\n",
       "</style>\n",
       "<table border=\"1\" class=\"dataframe\">\n",
       "  <thead>\n",
       "    <tr style=\"text-align: right;\">\n",
       "      <th></th>\n",
       "      <th>Seller</th>\n",
       "      <th>Rating</th>\n",
       "      <th>Price</th>\n",
       "      <th>Count</th>\n",
       "    </tr>\n",
       "  </thead>\n",
       "  <tbody>\n",
       "    <tr>\n",
       "      <th>0</th>\n",
       "      <td>Klick Technology</td>\n",
       "      <td>4.000000</td>\n",
       "      <td>18159.0</td>\n",
       "      <td>24</td>\n",
       "    </tr>\n",
       "    <tr>\n",
       "      <th>1</th>\n",
       "      <td>e9accessories</td>\n",
       "      <td>3.666667</td>\n",
       "      <td>18159.0</td>\n",
       "      <td>24</td>\n",
       "    </tr>\n",
       "    <tr>\n",
       "      <th>2</th>\n",
       "      <td>GMCS-Ecommerce</td>\n",
       "      <td>3.333333</td>\n",
       "      <td>18489.0</td>\n",
       "      <td>12</td>\n",
       "    </tr>\n",
       "    <tr>\n",
       "      <th>3</th>\n",
       "      <td>IT SALES</td>\n",
       "      <td>3.166667</td>\n",
       "      <td>18489.0</td>\n",
       "      <td>12</td>\n",
       "    </tr>\n",
       "    <tr>\n",
       "      <th>4</th>\n",
       "      <td>amezonsales</td>\n",
       "      <td>2.833333</td>\n",
       "      <td>17829.0</td>\n",
       "      <td>12</td>\n",
       "    </tr>\n",
       "    <tr>\n",
       "      <th>5</th>\n",
       "      <td>Bhandari Technologies</td>\n",
       "      <td>2.500000</td>\n",
       "      <td>18159.0</td>\n",
       "      <td>1</td>\n",
       "    </tr>\n",
       "    <tr>\n",
       "      <th>6</th>\n",
       "      <td>A TO Z IT</td>\n",
       "      <td>2.500000</td>\n",
       "      <td>18159.0</td>\n",
       "      <td>24</td>\n",
       "    </tr>\n",
       "    <tr>\n",
       "      <th>7</th>\n",
       "      <td>Vishal Infotech</td>\n",
       "      <td>0.500000</td>\n",
       "      <td>18159.0</td>\n",
       "      <td>5</td>\n",
       "    </tr>\n",
       "  </tbody>\n",
       "</table>\n",
       "</div>"
      ],
      "text/plain": [
       "                  Seller    Rating    Price  Count\n",
       "0       Klick Technology  4.000000  18159.0     24\n",
       "1          e9accessories  3.666667  18159.0     24\n",
       "2         GMCS-Ecommerce  3.333333  18489.0     12\n",
       "3               IT SALES  3.166667  18489.0     12\n",
       "4            amezonsales  2.833333  17829.0     12\n",
       "5  Bhandari Technologies  2.500000  18159.0      1\n",
       "6              A TO Z IT  2.500000  18159.0     24\n",
       "7        Vishal Infotech  0.500000  18159.0      5"
      ]
     },
     "execution_count": 28,
     "metadata": {},
     "output_type": "execute_result"
    }
   ],
   "source": [
    "#CREATING A NEW FRAME BASED ON SELLERS\n",
    "new_Frame = pd.merge(avg_rating,avg_price,on='Seller', how='outer')\n",
    "new_Frame = pd.merge(new_Frame,avg_rating_count,on='Seller', how='outer')\n",
    "new_Frame = new_Frame.rename(columns={'Rating_y':'Count','Rating_x':'Rating'})\n",
    "new_Frame\n"
   ]
  },
  {
   "cell_type": "code",
   "execution_count": 29,
   "metadata": {},
   "outputs": [
    {
     "data": {
      "text/html": [
       "<div>\n",
       "<style scoped>\n",
       "    .dataframe tbody tr th:only-of-type {\n",
       "        vertical-align: middle;\n",
       "    }\n",
       "\n",
       "    .dataframe tbody tr th {\n",
       "        vertical-align: top;\n",
       "    }\n",
       "\n",
       "    .dataframe thead th {\n",
       "        text-align: right;\n",
       "    }\n",
       "</style>\n",
       "<table border=\"1\" class=\"dataframe\">\n",
       "  <thead>\n",
       "    <tr style=\"text-align: right;\">\n",
       "      <th></th>\n",
       "      <th>Rating</th>\n",
       "      <th>Price</th>\n",
       "      <th>Count</th>\n",
       "    </tr>\n",
       "  </thead>\n",
       "  <tbody>\n",
       "    <tr>\n",
       "      <th>Rating</th>\n",
       "      <td>1.000000</td>\n",
       "      <td>0.177224</td>\n",
       "      <td>0.599426</td>\n",
       "    </tr>\n",
       "    <tr>\n",
       "      <th>Price</th>\n",
       "      <td>0.177224</td>\n",
       "      <td>1.000000</td>\n",
       "      <td>-0.056000</td>\n",
       "    </tr>\n",
       "    <tr>\n",
       "      <th>Count</th>\n",
       "      <td>0.599426</td>\n",
       "      <td>-0.056000</td>\n",
       "      <td>1.000000</td>\n",
       "    </tr>\n",
       "  </tbody>\n",
       "</table>\n",
       "</div>"
      ],
      "text/plain": [
       "          Rating     Price     Count\n",
       "Rating  1.000000  0.177224  0.599426\n",
       "Price   0.177224  1.000000 -0.056000\n",
       "Count   0.599426 -0.056000  1.000000"
      ]
     },
     "execution_count": 29,
     "metadata": {},
     "output_type": "execute_result"
    }
   ],
   "source": [
    "corr = new_Frame.corr()\n",
    "corr"
   ]
  },
  {
   "cell_type": "code",
   "execution_count": 30,
   "metadata": {},
   "outputs": [
    {
     "data": {
      "text/plain": [
       "<matplotlib.axes._subplots.AxesSubplot at 0x2513546a470>"
      ]
     },
     "execution_count": 30,
     "metadata": {},
     "output_type": "execute_result"
    },
    {
     "data": {
      "image/png": "[encoded data removed]",
      "text/plain": [
       "<Figure size 432x288 with 2 Axes>"
      ]
     },
     "metadata": {
      "needs_background": "light"
     },
     "output_type": "display_data"
    }
   ],
   "source": [
    "sns.heatmap(corr, annot=True, cmap='coolwarm')"
   ]
  },
  {
   "cell_type": "code",
   "execution_count": 31,
   "metadata": {},
   "outputs": [
    {
     "name": "stderr",
     "output_type": "stream",
     "text": [
      "C:\\Users\\Rahlsesite\\Anaconda3\\lib\\site-packages\\sklearn\\preprocessing\\data.py:323: DataConversionWarning: Data with input dtype int64, float64 were all converted to float64 by MinMaxScaler.\n",
      "  return self.partial_fit(X, y)\n"
     ]
    },
    {
     "data": {
      "text/plain": [
       "MinMaxScaler(copy=True, feature_range=(0, 5))"
      ]
     },
     "execution_count": 31,
     "metadata": {},
     "output_type": "execute_result"
    }
   ],
   "source": [
    "#SCALING DATA TO SCORE(0-5) \n",
    "from sklearn.preprocessing import MinMaxScaler\n",
    "data = new_Frame[['Price','Rating','Count']]\n",
    "scaler = MinMaxScaler(feature_range=(0, 5))\n",
    "scaler.fit(data)\n"
   ]
  },
  {
   "cell_type": "code",
   "execution_count": 32,
   "metadata": {},
   "outputs": [],
   "source": [
    "df = pd.DataFrame()"
   ]
  },
  {
   "cell_type": "code",
   "execution_count": 44,
   "metadata": {},
   "outputs": [
    {
     "data": {
      "text/html": [
       "<div>\n",
       "<style scoped>\n",
       "    .dataframe tbody tr th:only-of-type {\n",
       "        vertical-align: middle;\n",
       "    }\n",
       "\n",
       "    .dataframe tbody tr th {\n",
       "        vertical-align: top;\n",
       "    }\n",
       "\n",
       "    .dataframe thead th {\n",
       "        text-align: right;\n",
       "    }\n",
       "</style>\n",
       "<table border=\"1\" class=\"dataframe\">\n",
       "  <thead>\n",
       "    <tr style=\"text-align: right;\">\n",
       "      <th></th>\n",
       "      <th>0</th>\n",
       "      <th>1</th>\n",
       "      <th>2</th>\n",
       "    </tr>\n",
       "  </thead>\n",
       "  <tbody>\n",
       "    <tr>\n",
       "      <th>0</th>\n",
       "      <td>2.5</td>\n",
       "      <td>5.000000</td>\n",
       "      <td>5.000000</td>\n",
       "    </tr>\n",
       "    <tr>\n",
       "      <th>1</th>\n",
       "      <td>2.5</td>\n",
       "      <td>4.523810</td>\n",
       "      <td>5.000000</td>\n",
       "    </tr>\n",
       "    <tr>\n",
       "      <th>2</th>\n",
       "      <td>0.0</td>\n",
       "      <td>4.047619</td>\n",
       "      <td>2.391304</td>\n",
       "    </tr>\n",
       "    <tr>\n",
       "      <th>3</th>\n",
       "      <td>0.0</td>\n",
       "      <td>3.809524</td>\n",
       "      <td>2.391304</td>\n",
       "    </tr>\n",
       "    <tr>\n",
       "      <th>4</th>\n",
       "      <td>5.0</td>\n",
       "      <td>3.333333</td>\n",
       "      <td>2.391304</td>\n",
       "    </tr>\n",
       "    <tr>\n",
       "      <th>5</th>\n",
       "      <td>2.5</td>\n",
       "      <td>2.857143</td>\n",
       "      <td>0.000000</td>\n",
       "    </tr>\n",
       "    <tr>\n",
       "      <th>6</th>\n",
       "      <td>2.5</td>\n",
       "      <td>2.857143</td>\n",
       "      <td>5.000000</td>\n",
       "    </tr>\n",
       "    <tr>\n",
       "      <th>7</th>\n",
       "      <td>2.5</td>\n",
       "      <td>0.000000</td>\n",
       "      <td>0.869565</td>\n",
       "    </tr>\n",
       "  </tbody>\n",
       "</table>\n",
       "</div>"
      ],
      "text/plain": [
       "     0         1         2\n",
       "0  2.5  5.000000  5.000000\n",
       "1  2.5  4.523810  5.000000\n",
       "2  0.0  4.047619  2.391304\n",
       "3  0.0  3.809524  2.391304\n",
       "4  5.0  3.333333  2.391304\n",
       "5  2.5  2.857143  0.000000\n",
       "6  2.5  2.857143  5.000000\n",
       "7  2.5  0.000000  0.869565"
      ]
     },
     "execution_count": 44,
     "metadata": {},
     "output_type": "execute_result"
    }
   ],
   "source": [
    "df = pd.DataFrame(scaler.transform(data))\n",
    "\n",
    "#LOWER THE PRICE HIGHER THE SCORE, HENCE REVERSE SCALING\n",
    "df[0] = 5 - df[0]\n",
    "df"
   ]
  },
  {
   "cell_type": "code",
   "execution_count": 34,
   "metadata": {},
   "outputs": [],
   "source": [
    "#CALCULATING TOTAL SCORE\n",
    "df['result'] = df[0] + df[1] + df[2]"
   ]
  },
  {
   "cell_type": "code",
   "execution_count": 35,
   "metadata": {},
   "outputs": [],
   "source": [
    "new_Frame = new_Frame.join(df['result'])"
   ]
  },
  {
   "cell_type": "code",
   "execution_count": 36,
   "metadata": {},
   "outputs": [
    {
     "data": {
      "text/html": [
       "<div>\n",
       "<style scoped>\n",
       "    .dataframe tbody tr th:only-of-type {\n",
       "        vertical-align: middle;\n",
       "    }\n",
       "\n",
       "    .dataframe tbody tr th {\n",
       "        vertical-align: top;\n",
       "    }\n",
       "\n",
       "    .dataframe thead th {\n",
       "        text-align: right;\n",
       "    }\n",
       "</style>\n",
       "<table border=\"1\" class=\"dataframe\">\n",
       "  <thead>\n",
       "    <tr style=\"text-align: right;\">\n",
       "      <th></th>\n",
       "      <th>Seller</th>\n",
       "      <th>Rating</th>\n",
       "      <th>Price</th>\n",
       "      <th>Count</th>\n",
       "      <th>result</th>\n",
       "    </tr>\n",
       "  </thead>\n",
       "  <tbody>\n",
       "    <tr>\n",
       "      <th>0</th>\n",
       "      <td>Klick Technology</td>\n",
       "      <td>4.000000</td>\n",
       "      <td>18159.0</td>\n",
       "      <td>24</td>\n",
       "      <td>12.500000</td>\n",
       "    </tr>\n",
       "    <tr>\n",
       "      <th>1</th>\n",
       "      <td>e9accessories</td>\n",
       "      <td>3.666667</td>\n",
       "      <td>18159.0</td>\n",
       "      <td>24</td>\n",
       "      <td>12.023810</td>\n",
       "    </tr>\n",
       "    <tr>\n",
       "      <th>2</th>\n",
       "      <td>GMCS-Ecommerce</td>\n",
       "      <td>3.333333</td>\n",
       "      <td>18489.0</td>\n",
       "      <td>12</td>\n",
       "      <td>6.438923</td>\n",
       "    </tr>\n",
       "    <tr>\n",
       "      <th>3</th>\n",
       "      <td>IT SALES</td>\n",
       "      <td>3.166667</td>\n",
       "      <td>18489.0</td>\n",
       "      <td>12</td>\n",
       "      <td>6.200828</td>\n",
       "    </tr>\n",
       "    <tr>\n",
       "      <th>4</th>\n",
       "      <td>amezonsales</td>\n",
       "      <td>2.833333</td>\n",
       "      <td>17829.0</td>\n",
       "      <td>12</td>\n",
       "      <td>10.724638</td>\n",
       "    </tr>\n",
       "    <tr>\n",
       "      <th>5</th>\n",
       "      <td>Bhandari Technologies</td>\n",
       "      <td>2.500000</td>\n",
       "      <td>18159.0</td>\n",
       "      <td>1</td>\n",
       "      <td>5.357143</td>\n",
       "    </tr>\n",
       "    <tr>\n",
       "      <th>6</th>\n",
       "      <td>A TO Z IT</td>\n",
       "      <td>2.500000</td>\n",
       "      <td>18159.0</td>\n",
       "      <td>24</td>\n",
       "      <td>10.357143</td>\n",
       "    </tr>\n",
       "    <tr>\n",
       "      <th>7</th>\n",
       "      <td>Vishal Infotech</td>\n",
       "      <td>0.500000</td>\n",
       "      <td>18159.0</td>\n",
       "      <td>5</td>\n",
       "      <td>3.369565</td>\n",
       "    </tr>\n",
       "  </tbody>\n",
       "</table>\n",
       "</div>"
      ],
      "text/plain": [
       "                  Seller    Rating    Price  Count     result\n",
       "0       Klick Technology  4.000000  18159.0     24  12.500000\n",
       "1          e9accessories  3.666667  18159.0     24  12.023810\n",
       "2         GMCS-Ecommerce  3.333333  18489.0     12   6.438923\n",
       "3               IT SALES  3.166667  18489.0     12   6.200828\n",
       "4            amezonsales  2.833333  17829.0     12  10.724638\n",
       "5  Bhandari Technologies  2.500000  18159.0      1   5.357143\n",
       "6              A TO Z IT  2.500000  18159.0     24  10.357143\n",
       "7        Vishal Infotech  0.500000  18159.0      5   3.369565"
      ]
     },
     "execution_count": 36,
     "metadata": {},
     "output_type": "execute_result"
    }
   ],
   "source": [
    "new_Frame"
   ]
  },
  {
   "cell_type": "code",
   "execution_count": 37,
   "metadata": {},
   "outputs": [
    {
     "data": {
      "text/plain": [
       "'Klick Technology'"
      ]
     },
     "execution_count": 37,
     "metadata": {},
     "output_type": "execute_result"
    }
   ],
   "source": [
    "#RETURNING THE SELLER WITH HIGHEST SCORE\n",
    "pdr = new_Frame[new_Frame['result'] == new_Frame['result'].max()]\n",
    "x = pdr.iat[0,0]\n",
    "x"
   ]
  },
  {
   "cell_type": "code",
   "execution_count": 38,
   "metadata": {},
   "outputs": [],
   "source": [
    "#A FUNCTION WHICH TAKES PRODUCT NAME AND FINISHED DATASET TO RETURN A BEST SELLER FOR THE PRODUCT\n",
    "\n",
    "def Best_Seller(product,dataSet):\n",
    "    df = finData.loc[finData['Product'] == product]\n",
    "    df = df[['Seller', 'Price', 'Rating']]\n",
    "    \n",
    "    avg_rating_count = pd.DataFrame(df.groupby('Seller')['Rating'].count().reset_index())\n",
    "    avg_rating = pd.DataFrame(df.groupby('Seller')['Rating'].mean().reset_index())\n",
    "    avg_price = pd.DataFrame(df.groupby('Seller')['Price'].mean().reset_index())\n",
    "    \n",
    "    new_Frame = pd.merge(avg_rating,avg_price,on='Seller', how='outer')\n",
    "    new_Frame = pd.merge(new_Frame,avg_rating_count,on='Seller', how='outer')\n",
    "    new_Frame = new_Frame.rename(columns={'Rating_y':'Count','Rating_x':'Rating'})\n",
    "      \n",
    "    data = new_Frame[['Price','Rating','Count']]\n",
    "    scaler = MinMaxScaler(feature_range=(0, 5))\n",
    "    scaler.fit(data)\n",
    "\n",
    "    df = pd.DataFrame()     \n",
    "    df = pd.DataFrame(scaler.transform(data))\n",
    "                             \n",
    "    df[0] = 5 - df[0]\n",
    "    df['result'] = df[0] + df[1] + df[2]\n",
    "    pdr = new_Frame[new_Frame['result'] == new_Frame['result'].max()]\n",
    "    x = pdr.iat[0,0]\n",
    "    return x"
   ]
  },
  {
   "cell_type": "code",
   "execution_count": 46,
   "metadata": {},
   "outputs": [],
   "source": [
    "pdf = finData.groupby('Product')['Seller'].nunique().count()"
   ]
  },
  {
   "cell_type": "code",
   "execution_count": 47,
   "metadata": {},
   "outputs": [
    {
     "data": {
      "text/plain": [
       "307"
      ]
     },
     "execution_count": 47,
     "metadata": {},
     "output_type": "execute_result"
    }
   ],
   "source": [
    "pdf"
   ]
  },
  {
   "cell_type": "code",
   "execution_count": null,
   "metadata": {},
   "outputs": [],
   "source": []
  },
  {
   "cell_type": "code",
   "execution_count": null,
   "metadata": {},
   "outputs": [],
   "source": []
  },
  {
   "cell_type": "code",
   "execution_count": null,
   "metadata": {},
   "outputs": [],
   "source": []
  }
 ],
 "metadata": {
  "kernelspec": {
   "display_name": "Python 3",
   "language": "python",
   "name": "python3"
  },
  "language_info": {
   "codemirror_mode": {
    "name": "ipython",
    "version": 3
   },
   "file_extension": ".py",
   "mimetype": "text/x-python",
   "name": "python",
   "nbconvert_exporter": "python",
   "pygments_lexer": "ipython3",
   "version": "3.7.1"
  }
 },
 "nbformat": 4,
 "nbformat_minor": 2
}
